{
 "cells": [
  {
   "cell_type": "code",
   "execution_count": 1,
   "metadata": {
    "collapsed": true
   },
   "outputs": [],
   "source": [
    "import matplotlib.pyplot as plt\n",
    "import matplotlib as mpl\n",
    "import numpy as np\n",
    "import seaborn as sns\n",
    "import glob\n",
    "import cPickle as pickle\n",
    "import corner\n",
    "\n",
    "from astropy.io import fits, ascii\n",
    "from astropy.time import Time\n",
    "from collections import Counter\n",
    "from matplotlib.colors import LogNorm\n",
    "from matplotlib.widgets import Slider\n",
    "from scipy.stats import mode\n",
    "\n",
    "from __future__ import division"
   ]
  },
  {
   "cell_type": "code",
   "execution_count": 2,
   "metadata": {
    "collapsed": true
   },
   "outputs": [],
   "source": [
    "%matplotlib qt5\n",
    "plt.ion()"
   ]
  },
  {
   "cell_type": "code",
   "execution_count": 3,
   "metadata": {
    "collapsed": true
   },
   "outputs": [],
   "source": [
    "sns.set_context('paper')\n",
    "sns.set_style('darkgrid')\n",
    "sns.set_color_codes('deep')"
   ]
  },
  {
   "cell_type": "markdown",
   "metadata": {},
   "source": [
    "## Wavelength Calibration"
   ]
  },
  {
   "cell_type": "markdown",
   "metadata": {},
   "source": [
    "Some of the lamp spectra through the target and comparison star slits are completely shifted off of the reference lamp spectra, so guess_lines.py can't be used. Instead, the lines will be indentified manually from http://www.lco.cl/telescopes-information/magellan/instruments/imacs/imacs-spectral-atlas/imacs-spectral-atlas.\n",
    "\n",
    "To make things a little easier, this routine will will automatically record the pixel coordinate from a mouse press to save me an extra step in writing down the pixel/wavelength values."
   ]
  },
  {
   "cell_type": "code",
   "execution_count": 45,
   "metadata": {
    "code_folding": [],
    "collapsed": true
   },
   "outputs": [],
   "source": [
    "# read in desired lamp spec\n",
    "name = 'WASP43b_8'\n",
    "path = '/Users/mango/Desktop/arcs_ut150224/' + name + '_arc.fits'\n",
    "#path = '/Users/mango/Desktop/HeNeAr_gris300.fits'\n",
    "hdu = fits.open(path)\n",
    "data = hdu[0].data\n",
    "hdu.close()\n",
    "\n",
    "pix_loc = []\n",
    "\n",
    "fig, ax = plt.subplots(figsize = (15,4))\n",
    "\n",
    "#ax.cla()\n",
    "ax.plot(data)\n",
    "ax.set_title(name)\n",
    "ax.set_xlabel('pixel')\n",
    "ax.set_ylabel('flux (arbitrary units)')\n",
    "#[ax.axvline(xc, lw=0.5, ls = '--', c='r', alpha=0.5) for xc in arc_lines['pix']]\n",
    "\n",
    "def on_key(event): # key press\n",
    "    if (event.key == 'x' or event.key == 'X') and event.inaxes == ax:\n",
    "        x = event.xdata\n",
    "        y = event.ydata\n",
    "        \n",
    "        plt.axvline(x, c='r', ls='--', lw=0.5)\n",
    "        ax.plot(x, y, 'rX', ms=10)\n",
    "        x = str( np.round(x, 4) )\n",
    "        pix_loc.append(x)\n",
    "        \n",
    "    fig.canvas.draw()\n",
    "\n",
    "    \n",
    "fig.tight_layout()\n",
    "cid = fig.canvas.mpl_connect('key_press_event', on_key)\n",
    "#wav = str( round(input(\"Wav: \"), 4) )"
   ]
  },
  {
   "cell_type": "code",
   "execution_count": 46,
   "metadata": {
    "code_folding": [],
    "collapsed": true
   },
   "outputs": [],
   "source": [
    "f = open('/Users/mango/Desktop/test.txt', 'wb')\n",
    "for pix in pix_loc:\n",
    "    f.write(\"%s\\n\" % pix)\n",
    "f.close()"
   ]
  },
  {
   "cell_type": "markdown",
   "metadata": {},
   "source": [
    "### noao line lines"
   ]
  },
  {
   "cell_type": "code",
   "execution_count": 41,
   "metadata": {
    "code_folding": [],
    "collapsed": true
   },
   "outputs": [],
   "source": [
    "plt.figure(figsize=(15,4))\n",
    "arc_lines = ascii.read('/Users/mango/Dropbox/mercedes-group/wavelength_calibration/noao/ref_linelist.txt')\n",
    "hdu = fits.open('/Users/mango/Dropbox/mercedes-group/wavelength_calibration/noao/noao.fits')\n",
    "\n",
    "data = hdu[0].data\n",
    "hdu.close()\n",
    "\n",
    "wavs = arc_lines['Fit']\n",
    "xs = arc_lines['Pixel']\n",
    "ys = []\n",
    "for x_guess in xs:\n",
    "    ys.append(data[int(x_guess)])\n",
    "plt.plot(data, c='orange')\n",
    "[plt.axvline(xc, lw=0.5, ls = '--', c='b', alpha=0.5) for xc in xs]\n",
    "[plt.annotate(str(wav), (s_x, s_y)) for wav, s_x, s_y in zip(wavs, xs, ys)]\n",
    "\n",
    "plt.title('noao reference')\n",
    "plt.xlabel('pixel')\n",
    "plt.ylabel('arbitrary flux')\n",
    "\n",
    "plt.tight_layout()\n",
    "\n",
    "plt.show()"
   ]
  },
  {
   "cell_type": "markdown",
   "metadata": {},
   "source": [
    "### lco lamp lines"
   ]
  },
  {
   "cell_type": "code",
   "execution_count": 44,
   "metadata": {
    "collapsed": true
   },
   "outputs": [],
   "source": [
    "plt.figure(figsize=(15,4))\n",
    "arc_lines = ascii.read('/Users/mango/Dropbox/mercedes-group/wavelength_calibration/lco_lines.txt')\n",
    "\n",
    "hdu = fits.open('/Users/mango/Dropbox/mercedes-group/wavelength_calibration/HeNeAr_gris300.fits')\n",
    "data = hdu[0].data\n",
    "hdu.close()\n",
    "\n",
    "wavs = arc_lines['wav']\n",
    "xs = arc_lines['pix']\n",
    "ys = []\n",
    "for x_guess in xs:\n",
    "    ys.append(data[int(x_guess)])\n",
    "plt.plot(data, c='orange')\n",
    "[plt.axvline(xc, lw=0.5, ls = '--', c='b', alpha=0.5) for xc in xs]\n",
    "[plt.annotate(str(wav), (s_x, s_y)) for wav, s_x, s_y in zip(wavs, xs, ys)]\n",
    "\n",
    "plt.title('lco reference')\n",
    "plt.xlabel('pixel')\n",
    "plt.ylabel('arbitrary flux')\n",
    "\n",
    "plt.tight_layout()\n",
    "\n",
    "plt.show()"
   ]
  },
  {
   "cell_type": "markdown",
   "metadata": {},
   "source": [
    "### calibration file check"
   ]
  },
  {
   "cell_type": "code",
   "execution_count": 70,
   "metadata": {
    "collapsed": true,
    "scrolled": true
   },
   "outputs": [],
   "source": [
    "plt.figure(figsize=(15,4))\n",
    "\n",
    "guess_lines = ascii.read('/Users/mango/Desktop/arcs_ut150224/comp6_lines_chips.txt')\n",
    "\n",
    "hdu = fits.open('/Users/mango/Desktop/arcs_ut150224/stage/comp6_5_arc.fits')\n",
    "data = hdu[0].data\n",
    "hdu.close()\n",
    "\n",
    "wavs = guess_lines['Wav']\n",
    "xs = guess_lines['Pix']\n",
    "ys = []\n",
    "for x_guess in xs:\n",
    "    ys.append(data[int(x_guess)])\n",
    "\n",
    "plt.plot(data, c='g')\n",
    "[plt.axvline(xc, lw=0.5, ls = '--', c='b', alpha=0.5) for xc in xs]\n",
    "[plt.annotate(str(wav), (s_x, s_y)) for wav, s_x, s_y in zip(wavs, xs, ys)]\n",
    "\n",
    "plt.xlabel('pixel')\n",
    "plt.ylabel('arbitrary flux')\n",
    "\n",
    "plt.tight_layout()\n",
    "\n",
    "plt.show()"
   ]
  },
  {
   "cell_type": "markdown",
   "metadata": {},
   "source": [
    "### Overview Line List Inspection"
   ]
  },
  {
   "cell_type": "code",
   "execution_count": 50,
   "metadata": {
    "collapsed": true
   },
   "outputs": [],
   "source": [
    "s = '/Users/mango/Dropbox/mercedes-group/wavelength_calibration/arcs_ut150224/comp1_2_arc.fits'"
   ]
  },
  {
   "cell_type": "code",
   "execution_count": 54,
   "metadata": {},
   "outputs": [
    {
     "data": {
      "text/plain": [
       "'comp1_2_arc.fits'"
      ]
     },
     "execution_count": 54,
     "metadata": {},
     "output_type": "execute_result"
    }
   ],
   "source": [
    "s.split('/')[-1]"
   ]
  },
  {
   "cell_type": "code",
   "execution_count": 71,
   "metadata": {
    "code_folding": [],
    "collapsed": true
   },
   "outputs": [],
   "source": [
    "fig, axis = plt.subplots(2, 4, figsize = (14,5))\n",
    "\n",
    "ax_list = []\n",
    "for i in range(2):\n",
    "    for j in range(4):\n",
    "        ax_list.append(axis[i][j])\n",
    "\n",
    "#read in spectra and line lists\n",
    "spec_list = []\n",
    "line_lists = []\n",
    "title_list = []\n",
    "for i in glob.glob('/Users/mango/Desktop/arcs_ut150224/stage/*arc.fits'):\n",
    "    hdu = fits.open(i)\n",
    "    spec = hdu[0].data # data\n",
    "    spec_list.append(spec)\n",
    "    title_list.append(i.split('/')[-1])\n",
    "    hdu.close()\n",
    "    \n",
    "for i in glob.glob('/Users/mango/Desktop/arcs_ut150224/*lines*txt'):\n",
    "    lines = ascii.read(i)\n",
    "    line_lists.append(lines)\n",
    "\n",
    "k = 0\n",
    "z = 0\n",
    "xs_list = []\n",
    "for ax, spec, lines, ti in zip(ax_list, spec_list, line_lists, title_list):\n",
    "    wavs = lines['Wav']\n",
    "    xs = lines['Pix']\n",
    "    xs_list.append(xs)\n",
    "    ys = []\n",
    "    for x_guess in xs:\n",
    "        ys.append(spec[int(x_guess)])\n",
    "\n",
    "    ax.plot(spec, c='orange')\n",
    "    ax.set_title(ti)\n",
    "    [ax.axvline(xc, lw=0.5, ls = '--', c='b', alpha=0.5) for xc in xs]\n",
    "    [ax.annotate(str(wav), (s_x, s_y), fontsize=12) for wav, s_x, s_y in zip(wavs, xs, ys)]\n",
    "\n",
    "    i = 0\n",
    "\n",
    "def on_key(event): # pan and zoom each plot key press\n",
    "    global i\n",
    "    if (event.key == 'n' or event.key == 'N'):\n",
    "        for ax, spec, lines in zip(ax_list, spec_list, line_lists):\n",
    "            wavs = lines['Wav']\n",
    "            xs = lines['Pix']\n",
    "            xs_list.append(xs)\n",
    "            ys = []\n",
    "            for x_guess in xs:\n",
    "                ys.append(spec[int(x_guess)])\n",
    "\n",
    "            ax.set_xlim(xs[i] - 50, xs[i] + 50)\n",
    "            ax.set_ylim(ys[i]*-0.1, ys[i]*3)\n",
    "\n",
    "        i += 1\n",
    "        if (i > len(xs) - 1): # go back to beginning after reaching end\n",
    "            i = 0\n",
    "            \n",
    "\n",
    "    fig.canvas.draw()\n",
    "\n",
    "\n",
    "fig.tight_layout()\n",
    "cid = fig.canvas.mpl_connect('key_press_event', on_key)"
   ]
  },
  {
   "cell_type": "markdown",
   "metadata": {},
   "source": [
    "## File Inspection"
   ]
  },
  {
   "cell_type": "markdown",
   "metadata": {},
   "source": [
    "### trace check"
   ]
  },
  {
   "cell_type": "code",
   "execution_count": null,
   "metadata": {
    "collapsed": true
   },
   "outputs": [],
   "source": [
    "import os"
   ]
  },
  {
   "cell_type": "code",
   "execution_count": null,
   "metadata": {
    "collapsed": true
   },
   "outputs": [],
   "source": [
    "os.chdir('/Users/mango/tepspec/IMACS/')"
   ]
  },
  {
   "cell_type": "code",
   "execution_count": null,
   "metadata": {
    "collapsed": true
   },
   "outputs": [],
   "source": [
    "obj_xx = pickle.load(open(\"/Users/mango/Desktop/XX.pkl\",\"rb\"))\n",
    "obj_yy = pickle.load(open(\"/Users/mango/Desktop/YY.pkl\",\"rb\"))"
   ]
  },
  {
   "cell_type": "code",
   "execution_count": null,
   "metadata": {
    "collapsed": true
   },
   "outputs": [],
   "source": [
    "import sys\n",
    "sys.path.append(\"../ExtraCodes/BaryCor/\")"
   ]
  },
  {
   "cell_type": "code",
   "execution_count": null,
   "metadata": {
    "collapsed": true
   },
   "outputs": [],
   "source": [
    "#import TEPSPEC_Util\n",
    "obj_trace = pickle.load(open(\"./Objects_trace.pkl\",\"rb\"))"
   ]
  },
  {
   "cell_type": "code",
   "execution_count": null,
   "metadata": {
    "collapsed": true
   },
   "outputs": [],
   "source": [
    "obj_trace['WASP43b_8'].traces[0]"
   ]
  },
  {
   "cell_type": "code",
   "execution_count": null,
   "metadata": {
    "collapsed": true
   },
   "outputs": [],
   "source": [
    "obj = 'WASP43b_8'\n",
    "\n",
    "[plt.plot(obj_xx[obj][i], obj_yy[obj][i], '.', label=i) for i in range(18, 26)]\n",
    "\n",
    "plt.legend()\n",
    "plt.xlabel('X')\n",
    "plt.ylabel('Y')\n",
    "\n",
    "#plt.savefig(\"/Users/mango/Desktop/raw_traces.png\", bbox_inches='tight')"
   ]
  },
  {
   "cell_type": "markdown",
   "metadata": {},
   "source": [
    "### spec files"
   ]
  },
  {
   "cell_type": "code",
   "execution_count": null,
   "metadata": {
    "collapsed": true
   },
   "outputs": [],
   "source": [
    "\"\"\"\n",
    "plots items in <object>_spec.fits files.\n",
    "spec_item:\n",
    "0: Wavelength\n",
    "1: Simple extracted object spectrum\n",
    "2: Simple extracted flat spectrum\n",
    "3: Pixel sensitivity (obtained by the flat)\n",
    "4: Simple extracted object spectrum/pixel sensitivity\n",
    "5: Sky flag (0 = note uneven sky, 1 = probably uneven profile, 2 = Sky_Base failed)\n",
    "6: Optimally extracted pbject spectrum\n",
    "7: Optimally extracted object spectrum/pixel sensitivity\n",
    "\"\"\"\n",
    "def spec_plot(spec_item):\n",
    "    fig, axs = plt.subplots(1,2,figsize=(10,3))\n",
    "    sns.set_style(\"darkgrid\")\n",
    "\n",
    "    objs = ['comp4_4', 'comp4_4']\n",
    "    for ax, obj in zip(axs, objs):\n",
    "        hdu = fits.open('/Users/mango/Desktop/'+obj+'_spec.fits')\n",
    "        data = hdu[0].data\n",
    "        hdu.close()\n",
    "        \n",
    "        # data[number of sci frames, spec_items, pixel height of spectrum (2048)]\n",
    "        # by 'height' I mean in spectral direction\n",
    "        for i in range(len(data[:,0,0])):\n",
    "            ax.plot(data[i,spec_item,:])\n",
    "        \n",
    "        #ax.set_title(obj.split('_')[-1])\n",
    "        \n",
    "    fig.tight_layout()\n",
    "    fig.show()\n",
    "\n",
    "spec_plot(0)"
   ]
  },
  {
   "cell_type": "code",
   "execution_count": null,
   "metadata": {
    "collapsed": true
   },
   "outputs": [],
   "source": [
    "path_list = glob.glob(\n",
    "    '/Users/mango/data/ACCESS/IMACS/WASP43/ut150309/*0*.fits')\n",
    "\n",
    "object_dict = {}\n",
    "am = []\n",
    "for path in path_list:\n",
    "    hdu = fits.open(path)\n",
    "    filename = hdu[0].header['FILENAME']\n",
    "    obj     = hdu[0].header['OBJECT']\n",
    "    airmass = hdu[0].header['AIRMASS']\n",
    "    am.append(airmass)\n",
    "    hdu.close()\n",
    "    if ('c8' in filename and airmass < 1.5 and 'science' in obj): # other chips redundant for ID purposes\n",
    "        object_dict.update({filename:obj})\n",
    "\n",
    "#for key in sorted(object_dict.iterkeys()):\n",
    "#    print key, object_dict[key]"
   ]
  },
  {
   "cell_type": "code",
   "execution_count": null,
   "metadata": {
    "collapsed": true
   },
   "outputs": [],
   "source": [
    "import re\n",
    "sc_counter = 0\n",
    "sci_frame = []\n",
    "for k, v in object_dict.iteritems():\n",
    "    if 'science' in v:\n",
    "        sc_counter += 1\n",
    "        file_num = re.split('t|c', k) # get number portion of filename\n",
    "        sci_frame.append(file_num[1])\n",
    "sci_frame = np.sort(sci_frame)\n",
    "print sc_counter"
   ]
  },
  {
   "cell_type": "code",
   "execution_count": null,
   "metadata": {
    "collapsed": true
   },
   "outputs": [],
   "source": [
    "object_dict"
   ]
  },
  {
   "cell_type": "markdown",
   "metadata": {},
   "source": [
    "### For adding full flats from WASP-19 to WASP-43 ut170410 dataset"
   ]
  },
  {
   "cell_type": "code",
   "execution_count": null,
   "metadata": {
    "collapsed": true
   },
   "outputs": [],
   "source": [
    "full_flats = []\n",
    "for i, j in object_dict.items():\n",
    "    if 'full' in j and 'c8' in i:\n",
    "        print i,j\n",
    "        full_flats.append(i)"
   ]
  },
  {
   "cell_type": "markdown",
   "metadata": {},
   "source": [
    "#### Airmass filter"
   ]
  },
  {
   "cell_type": "code",
   "execution_count": null,
   "metadata": {
    "collapsed": true
   },
   "outputs": [],
   "source": [
    "path_list = glob.glob(\n",
    "    '/data/ACCESS/IMACS/WASP43/ut150224/*0*.fits')\n",
    "\n",
    "filename_list = []\n",
    "for path in path_list:\n",
    "    hdu = fits.open(path)\n",
    "    filename = hdu[0].header['FILENAME']\n",
    "    airmass = hdu[0].header['AIRMASS']\n",
    "    obj     = hdu[0].header['OBJECT']\n",
    "    hdu.close()\n",
    "    #if obj == 'science image':\n",
    "    #    i += 1\n",
    "    #print obj, filename\n",
    "    if ((airmass >= 1.5) and ('c8' in filename) and 'sci' in obj): #and (obj == 'science image'):\n",
    "        #filename_list.append(filename)\n",
    "        print filename, obj\n",
    "    #if ('science frame wasp43' in obj and 'c8' in filename):\n",
    "    #    filename_list.append(filename)"
   ]
  },
  {
   "cell_type": "markdown",
   "metadata": {},
   "source": [
    "## Trace Centroid Check"
   ]
  },
  {
   "cell_type": "code",
   "execution_count": null,
   "metadata": {
    "collapsed": true
   },
   "outputs": [],
   "source": [
    "xx = pickle.load(open('/Users/mango/Desktop/XX.pkl', 'r'))\n",
    "yy = pickle.load(open('/Users/mango/Desktop/YY.pkl', 'r'))"
   ]
  },
  {
   "cell_type": "code",
   "execution_count": null,
   "metadata": {
    "collapsed": true
   },
   "outputs": [],
   "source": [
    "target_dict={'w8':'WASP43b_8', 'w3':'WASP43b_3',\n",
    "             'c12':'comp1_2',  'c15':'comp1_5',\n",
    "             'c28':'comp2_8',  'c23':'comp2_3',\n",
    "             'c36':'comp3_6',  'c31':'comp3_1',\n",
    "             'c47':'comp4_7',  'c44':'comp4_4',\n",
    "             'c51':'comp5_1',  'c56':'comp5_6',\n",
    "             'c65':'comp6_5',  'c62':'comp62'}\n",
    "target = target_dict['w8']\n",
    "\n",
    "fig, ax = plt.subplots()\n",
    "\n",
    "line_list = []\n",
    "for i in range(len(xx[target])):\n",
    "    line, = ax.plot(xx[target][i], yy[target][i], alpha=1)\n",
    "    line_list.append(line)\n",
    "    \n",
    "ax_yval = plt.axes([0.3, 0.01, 0.6, 0.03]) # [left, bottom, width, height]\n",
    "s_yval = Slider(ax_yval, 'y', 0, len(xx[target]), valinit=0)\n",
    "\n",
    "def update(val): # get value from slider and plugs it into plot\n",
    "    c = s_yval.val\n",
    "    for i, l in enumerate(line_list):\n",
    "        if  i <= c:\n",
    "            l.set_visible(True)\n",
    "        else:\n",
    "            l.set_visible(False)\n",
    "\n",
    "s_yval.on_changed(update)\n",
    "\n",
    "plt.show()"
   ]
  },
  {
   "cell_type": "markdown",
   "metadata": {},
   "source": [
    "## Aperture Check"
   ]
  },
  {
   "cell_type": "markdown",
   "metadata": {},
   "source": [
    "#### Interactive 1D profile plotter to verify apertures used in tepspec"
   ]
  },
  {
   "cell_type": "code",
   "execution_count": null,
   "metadata": {
    "collapsed": true
   },
   "outputs": [],
   "source": [
    "path = '/Users/mango/data/ACCESS/IMACS/WASP43/ut150309/ift0308c8.fits'\n",
    "hdu = fits.open(path)\n",
    "name = hdu[0].header['filename']\n",
    "data_25 = hdu[0].data\n",
    "ut_start = hdu[0].header['UT-TIME']\n",
    "ut_end = hdu[0].header['UT-END']\n",
    "hdu.close()\n",
    "\n",
    "path = '/Users/mango/data/ACCESS/IMACS/WASP43/ut150309/ift0310c8.fits'\n",
    "hdu = fits.open(path)\n",
    "name = hdu[0].header['filename']\n",
    "data_27 = hdu[0].data\n",
    "ut_start = hdu[0].header['UT-TIME']\n",
    "ut_end = hdu[0].header['UT-END']\n",
    "hdu.close()\n",
    "\n",
    "plt.close()\n",
    "fig, axes = plt.subplots(1,1, figsize=(6, 8), sharey=True)\n",
    "\n",
    "im = axes.imshow((data_27 - data_25), cmap='CMRmap', vmin=0, vmax=60)\n",
    "#norm=LogNorm(vmin = 1E1, vmax=1E2))\n",
    "plt.colorbar(im, ax=axes)\n",
    "plt.title('science frame 27 - 25')\n",
    "#axes.grid(False) # get rid of gridlines on imshow\n",
    "#axes.set_title(name + ' -- sci frame 25')\n",
    "#axes.set_xlabel('%s - %s' % (ut_start, ut_end))\n",
    "#plt.colorbar(im, ax = axes[0])\n",
    "\n",
    "plt.savefig('/Users/mango/Desktop/ut150309_image.png', bbox_inches='tight')"
   ]
  },
  {
   "cell_type": "code",
   "execution_count": null,
   "metadata": {
    "collapsed": true
   },
   "outputs": [],
   "source": [
    "plt.plot(data_27[1000][:]/np.max(data_27[1000][:]) - data_29[1000][:]/np.max(data_29[1000][:]))\n",
    "plt.xlim(670, 740)\n",
    "plt.title('sci frame 27 - 29')\n",
    "plt.xlabel('x')\n",
    "plt.ylabel('relative flux')\n",
    "#plt.savefig('/Users/mango/Desktop/ut150309_profile.png', bbox_inches='tight')"
   ]
  },
  {
   "cell_type": "code",
   "execution_count": null,
   "metadata": {
    "collapsed": true
   },
   "outputs": [],
   "source": [
    "plt.plot(data_29[1000][:])"
   ]
  },
  {
   "cell_type": "code",
   "execution_count": null,
   "metadata": {
    "collapsed": true
   },
   "outputs": [],
   "source": [
    "plt.plot((data_27 - data_29)[1000][:])"
   ]
  },
  {
   "cell_type": "code",
   "execution_count": null,
   "metadata": {
    "collapsed": true
   },
   "outputs": [],
   "source": [
    "len(xx['WASP43b_8'][27]) #- xx['WASP43b_8'][25]"
   ]
  },
  {
   "cell_type": "code",
   "execution_count": null,
   "metadata": {
    "collapsed": true
   },
   "outputs": [],
   "source": [
    "len(xx['WASP43b_8'][25])"
   ]
  },
  {
   "cell_type": "code",
   "execution_count": null,
   "metadata": {
    "collapsed": true
   },
   "outputs": [],
   "source": [
    "def drag(event): # mouse drag\n",
    "    x = event.xdata\n",
    "    y = event.ydata\n",
    "    \n",
    "    if (event.inaxes == axes[0]): # only detect mouse drags in imshow plot\n",
    "        axes[1].cla()\n",
    "        axes[1].plot(data[int(round(y)), :])\n",
    "        axes[1].set_xlim(x - 25, x + 25)\n",
    "        axes[1].set_ylabel('counts')\n",
    "    \n",
    "    fig.tight_layout()\n",
    "    fig.canvas.draw()\n",
    "    \n",
    "cid = fig.canvas.mpl_connect('motion_notify_event', drag)"
   ]
  },
  {
   "cell_type": "markdown",
   "metadata": {},
   "source": [
    "# Light Curve"
   ]
  },
  {
   "cell_type": "markdown",
   "metadata": {},
   "source": [
    "## Load in LC pickles"
   ]
  },
  {
   "cell_type": "code",
   "execution_count": null,
   "metadata": {
    "collapsed": true
   },
   "outputs": [],
   "source": [
    "thefile = open('WASP43/ut170410/tepspec_final/LCs_w43_170410.pkl', 'rb')\n",
    "LC_ut170410 = pickle.load(thefile)\n",
    "thefile.close()"
   ]
  },
  {
   "cell_type": "markdown",
   "metadata": {},
   "source": [
    "## Raw WLC Summary"
   ]
  },
  {
   "cell_type": "code",
   "execution_count": null,
   "metadata": {
    "collapsed": true
   },
   "outputs": [],
   "source": [
    "def raw_WLC(ax, LC, dataset):\n",
    "    t = Time(LC['t'], format='jd')\n",
    "    \n",
    "    LC_o = LC['oLC']\n",
    "\n",
    "    # plot comparison stars next\n",
    "    for i in range(0,6):\n",
    "        lightcurve_i = LC['cLC'][:,i]\n",
    "        lc_i = lightcurve_i/np.median(lightcurve_i)# - (i+1)/2\n",
    "        #p = ax.plot_date(t.plot_date, lc_i, '-',label='comp %i' % (i+1)) \n",
    "        p = ax.plot(lc_i, '-',label='comp %i' % (i+1))\n",
    "        #ax.annotate( 'comp %i' % (i+1), (t.plot_date[0], lc_i[0]+0.05), \n",
    "        #color = p[0].get_color())\n",
    "    \n",
    "    # plot target LC first\n",
    "    LC_o_rel = LC_o/np.median(LC_o)\n",
    "    #p = ax.plot_date(t.plot_date, LC_o_rel, '-', lw=3, c='k', label = 'WASP43b')\n",
    "    p = ax.plot(LC_o_rel, '-', lw=3, c='k', label = 'WASP43b')\n",
    "\n",
    "    #ax.annotate( 'WASP43', (t.plot_date[0], LC_o_rel[0]+0.05), color = 'grey')\n",
    "    \n",
    "    ax.set_xlabel('Time (UTC)')\n",
    "    ax.set_ylabel('Relative Flux - Offset')\n",
    "    ax.set_title('Raw White Light Curves - ' + dataset)\n",
    "    ax.legend()"
   ]
  },
  {
   "cell_type": "code",
   "execution_count": null,
   "metadata": {
    "collapsed": true
   },
   "outputs": [],
   "source": [
    "fig, ax = plt.subplots(1,1)\n",
    "\n",
    "raw_WLC(ax, LC_ut170410, 'ut170410')\n",
    "#plt.savefig(\n",
    "#    '/Users/mango/Dropbox/mercedes-group/journal/Figures/20170709/ut170410_sum.pdf',\n",
    "#    bbox_inches='tight')"
   ]
  },
  {
   "cell_type": "markdown",
   "metadata": {},
   "source": [
    "## WLC - Comp Stars"
   ]
  },
  {
   "cell_type": "code",
   "execution_count": null,
   "metadata": {
    "collapsed": true
   },
   "outputs": [],
   "source": [
    "# comp stars to use, e.g. ['comp1', 'comp2']\n",
    "def raw_WLC_adj(ax, LC, comp_names): \n",
    "    t = Time(LC['t'], format='jd')\n",
    "    LC_o = LC['oLC']\n",
    "    \n",
    "    #########################################################\n",
    "    # plot 1\n",
    "    ###########################################\n",
    "    comp_list = [] # each entry is comparison star flux\n",
    "    for i in comp_names: \n",
    "        # comp1 is index 0 in pickle file, comp2 is 1, etc.\n",
    "        comp_idx = int(i.split('p')[-1]) - 1\n",
    "        comp_list.append(LC['cLC'][:,comp_idx])\n",
    "            \n",
    "    LC_comps = np.sum(comp_list, axis=0)\n",
    "    LC_adj = LC_o / LC_comps\n",
    "    #ax.plot_date(t.plot_date, LC_adj / np.median(LC_adj), '.')\n",
    "    ax.plot(LC_adj / np.median(LC_adj), '.')\n",
    "\n",
    "    #plt.axvline(2457090.709 + 0.0308274)\n",
    "    #plt.ylim(0.99, 1.02)\n",
    "    ax.set_xlabel('Time (UTC)')\n",
    "    ax.set_ylabel('Relative Flux')"
   ]
  },
  {
   "cell_type": "code",
   "execution_count": null,
   "metadata": {
    "collapsed": true
   },
   "outputs": [],
   "source": [
    "fig, ax = plt.subplots(1, 1, figsize=(8,5))\n",
    "\n",
    "raw_WLC_adj(ax, LC_ut170410, ['comp1','comp2','comp3','comp4',\n",
    "                             'comp6'])\n",
    "#raw_WLC_adj(ax, LC_ut150309, ['comp1','comp6'])\n",
    "#raw_WLC_adj(ax, LC_ut150309, ['comp1', 'comp6'])\n",
    "#ax.set_title('WASP43 -- ut150309 -- tepspec WLC -- ' + \n",
    "#    'Spectroscopic2 -- Gri-300-17.5')\n",
    "\n",
    "#ax.set_ylim(0.97,1.01)\n",
    "#ax.set_ylim(0.97,1.01)\n",
    "#plt.savefig(\n",
    "#    '/Users/mango/Dropbox/mercedes-group/journal/Figures/20170731/ut170410_adjWLC.pdf',\n",
    "#    bbox_inches='tight')"
   ]
  },
  {
   "cell_type": "markdown",
   "metadata": {},
   "source": [
    "## LBR Comparison"
   ]
  },
  {
   "cell_type": "code",
   "execution_count": null,
   "metadata": {
    "collapsed": true
   },
   "outputs": [],
   "source": [
    "fig, ax = plt.subplots(2, 1, figsize=(8,5), sharex=True, \n",
    "                       gridspec_kw = {'height_ratios':[2, 1]})\n",
    "comp_names = ['comp1','comp2','comp3','comp4','comp5','comp6']\n",
    "\n",
    "#########################################################\n",
    "# LBR\n",
    "###########################################\n",
    "LC = LC_ut170410_LBR\n",
    "t = Time(LC['t'], format='jd')\n",
    "t = t[:-1]\n",
    "LC_o = LC['oLC']\n",
    "LC_o = LC_o[:-1]\n",
    "comp_list = [] # each entry is comparison star flux\n",
    "for i in comp_names: \n",
    "    # comp1 is index 0 in pickle file, comp2 is 1, etc.\n",
    "    comp_idx = int(i.split('p')[-1]) - 1\n",
    "    comp_list.append(LC['cLC'][:-1,comp_idx])\n",
    "\n",
    "LC_comps = np.sum(comp_list, axis=0)\n",
    "LC_adj = LC_o / LC_comps\n",
    "ax[0].plot_date(t.plot_date, LC_adj / np.median(LC_adj), 'r.', \n",
    "            label='LBR')\n",
    "\n",
    "#########################################################\n",
    "# No LBR\n",
    "###########################################\n",
    "LC = LC_ut170410\n",
    "t = Time(LC['t'], format='jd')\n",
    "t = t[:-1]\n",
    "LC_o = LC['oLC']\n",
    "LC_o = LC_o[:-1]\n",
    "comp_list = [] # each entry is comparison star flux\n",
    "for i in comp_names: \n",
    "    # comp1 is index 0 in pickle file, comp2 is 1, etc.\n",
    "    comp_idx = int(i.split('p')[-1]) - 1\n",
    "    comp_list.append(LC['cLC'][:-1,comp_idx])\n",
    "\n",
    "LC_comps = np.sum(comp_list, axis=0)\n",
    "LC_adj_2 = LC_o / LC_comps\n",
    "ax[0].plot_date(t.plot_date, LC_adj_2 / np.median(LC_adj_2), 'b.', \n",
    "            label='No LBR')\n",
    "#ax.plot(LC_adj / np.median(LC_adj), 'b.', label='No LBR')\n",
    "\n",
    "#plt.axvline(2457090.709 + 0.0308274)\n",
    "#plt.ylim(0.99, 1.02)\n",
    "ax[0].set_xlabel('Time (UTC)')\n",
    "ax[0].set_ylabel('Relative Flux')\n",
    "ax[0].set_title('tepspec WLC - ut170410')\n",
    "#ax[0].set_ylim(0.9734, 1.005)\n",
    "ax[0].legend()\n",
    "\n",
    "ax[1].plot_date(t.plot_date, LC_adj_2 - LC_adj, 'c.')\n",
    "ax[1].set_ylabel('No LBR - LBR')\n",
    "\n",
    "fig.tight_layout()\n",
    "plt.savefig('/Users/mango/Desktop/LBR_comparison.png', \n",
    "            bbox_inches='tight', dpi=1000)"
   ]
  },
  {
   "cell_type": "markdown",
   "metadata": {},
   "source": [
    "## Spectra Inspection"
   ]
  },
  {
   "cell_type": "code",
   "execution_count": null,
   "metadata": {
    "collapsed": true
   },
   "outputs": [],
   "source": [
    "def find_nearest_idx(array, value): # get index of array where val is nearest\n",
    "    idx = (np.abs(array-value)).argmin()\n",
    "    return idx\n",
    "\n",
    "def find_min(wav, val, loc): # return location (wav, depth) of spectra near loc\n",
    "    # first find wavlength of discretized spectra nearest loc\n",
    "    wav_cen_idx = find_nearest_idx(wav, loc)\n",
    "    \n",
    "    # now make a 3.75 Angstrom window (aperture) around center and look for min.\n",
    "    # this will hopefully be where the true absorption peak is.\n",
    "    # note: a difference of 1 in index is 1.25 in Angstroms\n",
    "    peak_idx = np.where(val == val[wav_cen_idx-3:wav_cen_idx+4].min())[0][0]\n",
    "    # the [0][0] just makes sure we take the first instance of the minimum that is\n",
    "    # found in the window, in case there are double peaks\n",
    "    return peak_idx, val[peak_idx]"
   ]
  },
  {
   "cell_type": "markdown",
   "metadata": {},
   "source": [
    "### Plot single spectra"
   ]
  },
  {
   "cell_type": "code",
   "execution_count": null,
   "metadata": {
    "collapsed": true
   },
   "outputs": [],
   "source": [
    "def plot_spec(ax, LC, time_idx, c):  \n",
    "    # naD is a doublet but it looks like a single peak at our resolution so I am\n",
    "    #just going to take the average for this one\n",
    "    species = {\n",
    "    '$NaI-D$'    : {'wav':5892.9, 'c':'b' , 'dif':[], 'ls':'-'} ,\n",
    "    r'$H\\alpha$' : {'wav':6564.6, 'c':'g' , 'dif':[], 'ls':'-'} ,\n",
    "    '$KI-a$'   : {'wav':7665.0, 'c':'y' , 'dif':[], 'ls':'-'} ,\n",
    "    '$KI-b$'   : {'wav':7699.0, 'c':'y' , 'dif':[], 'ls':'--'} ,\n",
    "    '$NaI-8200a$' : {'wav':8183.0, 'c':'r' , 'dif':[], 'ls':'-'} ,\n",
    "    '$NaI-8200b$' : {'wav':8195.0, 'c':'r' , 'dif':[], 'ls':'--'}\n",
    "    }\n",
    "    \n",
    "    wav    = LC['spectra']['wavelengths']\n",
    "    transm = LC['spectra']['WASP43b'][time_idx,:]\n",
    "    t = Time(LC['t'], format='jd')\n",
    "    \n",
    "    # plot reference lines and peak points\n",
    "    for elem, elem_attr in species.items():\n",
    "        # overplot bins\n",
    "        #for l, r in zip(wav_list['col1'], wav_list['col2']):\n",
    "        #    if l in [5891, 6563.5, 7662, 7696, 8179, 8192]:\n",
    "        #        ax.axvspan(l, r, color='r', alpha=0.3)\n",
    "        #    else:\n",
    "        #        ax.axvspan(l, r, color='b', alpha=0.03)\n",
    "        \n",
    "        ax.axvline(elem_attr['wav'], ls=elem_attr['ls'], c=elem_attr['c'], label=elem)\n",
    "        \n",
    "        pk_idx, pk_val = find_min(wav, transm, elem_attr['wav'])\n",
    "        ax.plot(wav[pk_idx], pk_val, 'o', color = elem_attr['c'])\n",
    "\n",
    "    # overplot spectra\n",
    "    ax.plot(wav, transm, c)\n",
    "    \n",
    "    ax.set_title('WASP43 -- ut170410 -- tepspec spectra -- ' + \n",
    "    'WB5600-9200 -- Gri-300-17.5', fontsize=12)\n",
    "    ax.set_xlabel(\"$\\AA$\")\n",
    "    ax.set_ylabel(\"Depth (arbitrary units)\")\n",
    "    \n",
    "    handles,labels = ax.get_legend_handles_labels()\n",
    "    handles = [handles[2], handles[0], handles[5], handles[4], \n",
    "               handles[3], handles[1]]\n",
    "    labels = [labels[2], labels[0], labels[5], labels[4], \n",
    "              labels[3], labels[1]]\n",
    "    ax.legend(handles, labels)"
   ]
  },
  {
   "cell_type": "code",
   "execution_count": null,
   "metadata": {
    "collapsed": true
   },
   "outputs": [],
   "source": [
    "fig, ax = plt.subplots(1, 1, figsize=(8,5))\n",
    "plot_spec(ax, LC_ut170410, 139, 'c') # \"zero\"\n",
    "\n",
    "#plt.savefig('/Users/mango/Desktop/tepspec_spec_t0.pdf', bboc_inches='tight')"
   ]
  },
  {
   "cell_type": "markdown",
   "metadata": {},
   "source": [
    "### Bin Setup"
   ]
  },
  {
   "cell_type": "code",
   "execution_count": null,
   "metadata": {
    "collapsed": true
   },
   "outputs": [],
   "source": [
    "# hold observed feature centers, as opposed to vacumm\n",
    "spec_cen = [5892.5, 6565.0, 7666.25, 7700, 8185, 8196.52] \n",
    "\n",
    "for spec in spec_cen:\n",
    "    l, r = 5, 5\n",
    "    print \"bins for: \", spec\n",
    "    for i in range(10):\n",
    "            print spec - l, spec + r\n",
    "        l += 5\n",
    "        r += 5\n",
    "    print \"\""
   ]
  },
  {
   "cell_type": "code",
   "execution_count": null,
   "metadata": {
    "collapsed": true
   },
   "outputs": [],
   "source": [
    "lower = 8246.52\n",
    "upper = 9198.0\n",
    "x = np.arange(lower, upper, 250)\n",
    "for i, j in enumerate(x):\n",
    "    if (i < len(x)-1):\n",
    "        print x[i], x[i+1]\n",
    "    else:\n",
    "        print x[i], upper"
   ]
  },
  {
   "cell_type": "code",
   "execution_count": null,
   "metadata": {
    "collapsed": true
   },
   "outputs": [],
   "source": [
    "wav_list = ascii.read('/Users/mango/Desktop/w43_170410.dat')"
   ]
  },
  {
   "cell_type": "code",
   "execution_count": null,
   "metadata": {
    "collapsed": true
   },
   "outputs": [],
   "source": [
    "fig, ax = plt.subplots(1,1)\n",
    "for l, r in zip(wav_list['col1'], wav_list['col2']):\n",
    "    if l in [5891, 6563.5, 7662, 7696, 8179, 8192]:\n",
    "        ax.axvspan(l, r, color='r', alpha=0.3)\n",
    "    else:\n",
    "        ax.axvspan(l, r, color='b', alpha=0.3)\n",
    "plt.show()"
   ]
  },
  {
   "cell_type": "markdown",
   "metadata": {},
   "source": [
    "### Plot spec differences"
   ]
  },
  {
   "cell_type": "code",
   "execution_count": null,
   "metadata": {
    "collapsed": true
   },
   "outputs": [],
   "source": [
    "from matplotlib.dates import  DateFormatter\n",
    "def plot_spec_diff(LC, comp_names):    \n",
    "    # naD is a doublet but it looks like a single peak at our resolution so I am\n",
    "    #just going to take the average for this one\n",
    "    species = {\n",
    "    '$NaI-D$'    : {'wav':5892.9, 'c':'b' , 'dif':[], 'ls':'.-'} ,\n",
    "    r'$H\\alpha$' : {'wav':6564.6, 'c':'g' , 'dif':[], 'ls':'.-'} ,\n",
    "    '$KI-a$'   : {'wav':7665.0, 'c':'y' , 'dif':[], 'ls':'.-'} ,\n",
    "    '$KI-b$'   : {'wav':7699.0, 'c':'y' , 'dif':[], 'ls':'.--'} ,\n",
    "    '$NaI-8200a$' : {'wav':8183.0, 'c':'r' , 'dif':[], 'ls':'.-'} ,\n",
    "    '$NaI-8200b$' : {'wav':8195.0, 'c':'r' , 'dif':[], 'ls':'.--'}\n",
    "    }\n",
    "    \n",
    "    # fill in dictionary \n",
    "    for i in range(len(LC['t'])): # iterate through time\n",
    "        wav    = LC['spectra']['wavelengths']\n",
    "        transm = LC['spectra']['WASP43b'][i,:]\n",
    "        t = Time(LC['t'], format='jd')\n",
    "        \n",
    "        for elem, elem_attr in species.items(): # iterate through species\n",
    "            pk_idx, val = find_min(wav, transm, elem_attr['wav'])\n",
    "            dif = wav[pk_idx] - elem_attr['wav'] # measured - vacuum\n",
    "            elem_attr['dif'].append(dif)\n",
    "            \n",
    "    # plot the differences\n",
    "    fig, ax = plt.subplots(2, 1, figsize=(8,5), sharex=False)\n",
    "    \n",
    "    LC_o = LC['oLC']\n",
    "    \n",
    "    #########################################################\n",
    "    # LC plot\n",
    "    ###########################################\n",
    "    comp_dict = {} # hold all comparison star\n",
    "    for i in range(6):\n",
    "        comp_dict[\"comp\"+str(i+1)] = LC['cLC'][:,i]\n",
    "\n",
    "    comp_list = []\n",
    "    for i in comp_names: # only uses selected comparison stars\n",
    "        comp_list.append(comp_dict[i])\n",
    "\n",
    "    LC_comps = np.sum(comp_list, axis=0)\n",
    "    LC_adj = LC_o / LC_comps\n",
    "    #ax[0].plot_date(t.plot_date, LC_adj / np.median(LC_adj), 'c.')\n",
    "    ax[0].plot(LC_adj / np.median(LC_adj), 'c.')\n",
    "    ax[0].set_ylabel('Arbitrary Flux')\n",
    "    ax[0].set_title('WASP43 -- ut170410 -- tepspec all comps -- ' + \n",
    "    'WB5600-9200 -- Gri-300-17.5', fontsize=12)\n",
    "    \n",
    "    #########################################################\n",
    "    # dif plot\n",
    "    ###########################################\n",
    "    for elem, elem_attr in species.items():\n",
    "        #ax[1].xaxis.set_major_formatter( DateFormatter('%H:%M') )\n",
    "\n",
    "        ax[1].plot(elem_attr['dif'], elem_attr['c'] + elem_attr['ls'], \n",
    "                       label = elem)\n",
    "        \n",
    "    handles,labels = ax[1].get_legend_handles_labels()\n",
    "    handles = [handles[2], handles[0], handles[5], handles[4], \n",
    "               handles[3], handles[1]]\n",
    "    labels = [labels[2], labels[0], labels[5], labels[4], \n",
    "              labels[3], labels[1]]\n",
    "    ax[1].legend(handles, labels, loc=3, ncol=6)\n",
    "    ax[1].set_xlabel('Time (Index)')\n",
    "    ax[1].set_ylabel('Measured - Vacuum ($\\AA$)')\n",
    "    ax[1].set_ylim(-2.5,3.5)\n",
    "    fig.tight_layout()\n",
    "    plt.show()"
   ]
  },
  {
   "cell_type": "code",
   "execution_count": null,
   "metadata": {
    "collapsed": true
   },
   "outputs": [],
   "source": [
    "plot_spec_diff(LC_ut170410, \n",
    "        ['comp1', 'comp2', 'comp3', 'comp4', 'comp6'])\n",
    "#plt.savefig('/Users/mango/Desktop/tepspec_diff_spec.pdf',\n",
    "#            bbox_inches='tight')"
   ]
  },
  {
   "cell_type": "markdown",
   "metadata": {
    "collapsed": true
   },
   "source": [
    "# ELVIS"
   ]
  },
  {
   "cell_type": "markdown",
   "metadata": {},
   "source": [
    "## poly and pca WLC"
   ]
  },
  {
   "cell_type": "code",
   "execution_count": null,
   "metadata": {
    "code_folding": [],
    "collapsed": true
   },
   "outputs": [],
   "source": [
    "def plot_wlc(ax, fn): # plot white light curve\n",
    "    # load data (date: ut, model: poly of pca, binning: wlc)\n",
    "    date, model, binning = fn.split(' ')\n",
    "    path = date + '/' + model + '_' + binning\n",
    "    thefile = open(\n",
    "    '/Users/mango/Desktop/'+path+'/final_LCs.pkl', 'rb')\n",
    "    wlc_data = pickle.load(thefile)\n",
    "    thefile.close()\n",
    "    \n",
    "    # Model values\n",
    "    wlc_t0   = wlc_data['t0']\n",
    "    wlc_t0_iso = Time(wlc_t0, format='jd').iso\n",
    "    print 't0: ', Time(wlc_t0, format='jd').iso\n",
    "    print 'JD: ', wlc_t0\n",
    "    wlc_t    = wlc_data['t']\n",
    "    t_rel = (wlc_t - wlc_t0) * 24. # convert to hours\n",
    "    wlc_flux = wlc_data['model'][0]\n",
    "\n",
    "    # detrended values\n",
    "    wlc_detLC = wlc_data['detLC'][0]\n",
    "\n",
    "    ax.plot(t_rel, wlc_detLC, 'o', c='lightblue')\n",
    "    ax.plot(t_rel, wlc_flux, 'b')\n",
    "    ax.set_ylabel('normalized flux')\n",
    "    \n",
    "def plot_resid(ax, fn):\n",
    "     # load data (date: ut, model: poly of pca, binning: wlc)\n",
    "    date, model, binning = fn.split(' ')\n",
    "    path = date + '/' + model + '_' + binning\n",
    "    thefile = open(\n",
    "    '/Users/mango/Desktop/'+path+'/final_LCs.pkl', 'rb')\n",
    "    wlc_data = pickle.load(thefile)\n",
    "    thefile.close()\n",
    "    \n",
    "    # Model values\n",
    "    wlc_t0   = wlc_data['t0']\n",
    "    wlc_t    = wlc_data['t']\n",
    "    t_rel = (wlc_t - wlc_t0) * 24. # convert to hours\n",
    "    \n",
    "    ax.plot(t_rel, wlc_data['residuals'][0], 'o', c='pink')\n",
    "    ax.set_ylabel('residuals')\n",
    "    ax.set_xlabel('$t - t_0$ (hours)')\n",
    "    #ax.set_ylim(-0.001, 0.001)"
   ]
  },
  {
   "cell_type": "code",
   "execution_count": null,
   "metadata": {
    "collapsed": true
   },
   "outputs": [],
   "source": [
    "fig, ax = plt.subplots(2, 1, sharex=True, figsize=(8,6),\n",
    "                       gridspec_kw = {'height_ratios':[2, 1]})\n",
    "title = 'WASP43 -- ut170410 -- PCA polynomial wavelet WLC -- ' + \\\n",
    "    'WB5600-9200 -- Gri-300-17.5'\n",
    "#title = 'WASP43 -- ut150309 -- PCA polynomial wavelet WLC -- ' + \\\n",
    "#    'Spectroscopic2 -- Gri-300-17.5'\n",
    "#title = 'WASP43 -- ut150224 -- PCA polynomial wavelet WLC -- ' + \\\n",
    "#'Spectroscopic2 -- Gri-300-17.5'\n",
    "    \n",
    "obj = title.split(' ')\n",
    "obj = \"%s %s %s\" % (obj[2],obj[4],obj[7])\n",
    "print obj\n",
    "\n",
    "ax[0].set_title(title, fontsize=12)\n",
    "plot_wlc(ax[0], obj)\n",
    "plot_resid(ax[1], obj)\n",
    "\n",
    "fig.tight_layout()\n",
    "#plt.savefig('/Users/mango/Desktop/ut150309_pca_wlc.png',\n",
    "#           bbox_inches='tight')\n",
    "#plt.savefig('/Users/mango/Desktop/ut170410_pca_wlc.png', \n",
    "#           bbox_inches='tight')\n",
    "#plt.savefig('/Users/mango/Desktop/wlc.pdf', bbox_inches='tight')"
   ]
  },
  {
   "cell_type": "code",
   "execution_count": null,
   "metadata": {
    "collapsed": true
   },
   "outputs": [],
   "source": [
    "wlc = pickle.load(open(\"/Users/mango/Desktop/ut170410/pca_WLC/final_LCs.pkl\",\"rb\"))"
   ]
  },
  {
   "cell_type": "code",
   "execution_count": null,
   "metadata": {
    "collapsed": true
   },
   "outputs": [],
   "source": [
    "wlc.keys()"
   ]
  },
  {
   "cell_type": "markdown",
   "metadata": {},
   "source": [
    "## Corner Plots"
   ]
  },
  {
   "cell_type": "markdown",
   "metadata": {},
   "source": [
    "### load data (takes a while)"
   ]
  },
  {
   "cell_type": "code",
   "execution_count": null,
   "metadata": {
    "collapsed": true
   },
   "outputs": [],
   "source": [
    "thefile = open(\n",
    "    '/Users/mango/Desktop/ut170410/pca_wlc/MCMC_wl_5800.0_8800.0.pkl', 'rb')\n",
    "ut170410_pca_MCMC_post = pickle.load(thefile)\n",
    "thefile.close()"
   ]
  },
  {
   "cell_type": "code",
   "execution_count": null,
   "metadata": {
    "collapsed": true
   },
   "outputs": [],
   "source": [
    "def corner_plot(MCMC_data): # corner plots of wlc fits\n",
    "    # join walker chains for individual params\n",
    "    posteriors = MCMC_data\n",
    "    t0_comb = np.concatenate(posteriors['t0'].values())\n",
    "    sigma_r_comb = np.concatenate(posteriors['sigma_r'].values())\n",
    "    sigma_w_comb = np.concatenate(posteriors['sigma_w'].values())\n",
    "    RpRs_comb = np.concatenate(posteriors['RpRs'].values())\n",
    "    F_comb = np.concatenate(posteriors['F'].values())\n",
    "    w1_comb = np.concatenate(posteriors['w1'].values())\n",
    "\n",
    "    # combine into 2D array\n",
    "    posts = np.array([t0_comb, sigma_r_comb, sigma_w_comb, \n",
    "                      RpRs_comb, F_comb, w1_comb])\n",
    "    samples = posts.transpose() # write rows as columns for corner plot\n",
    "    # i.e. [[param1_0, param2_0, param3_0,...], \n",
    "    # [param1_1, param2_1, param3_1,...], ...]\n",
    "\n",
    "    fig = plt.figure(figsize=(8, 10))\n",
    "\n",
    "    corner.corner(samples, labels=['$t_0$', '$\\sigma_r$', '$\\sigma_w$',\n",
    "                                   '$R_p/R_*$', '$F$', '$w_1$'],\n",
    "                  show_titles=True)\n",
    "    plt.show()\n",
    "    #figure.title('ut150224 -- polynomial wavelet WLC')"
   ]
  },
  {
   "cell_type": "code",
   "execution_count": null,
   "metadata": {
    "collapsed": true
   },
   "outputs": [],
   "source": [
    "corner_plot(ut170410_pca_MCMC_post)\n",
    "plt.savefig('/Users/mango/Desktop/pca_corner.pdf', bbox_inches='tight')\n",
    "#plt.savefig('journal/Figures/20170725/ut170410_pca_wlc_corner.pdf', bbox_inches='tight')"
   ]
  },
  {
   "cell_type": "markdown",
   "metadata": {},
   "source": [
    "## Binned plots "
   ]
  },
  {
   "cell_type": "code",
   "execution_count": null,
   "metadata": {
    "collapsed": true
   },
   "outputs": [],
   "source": [
    "sns.palplot(sns.color_palette(\"cubehelix\", 27))"
   ]
  },
  {
   "cell_type": "code",
   "execution_count": null,
   "metadata": {
    "collapsed": true
   },
   "outputs": [],
   "source": [
    "sns.palplot(sns.color_palette(\"Spectral\", 27, desat=0.9))"
   ]
  },
  {
   "cell_type": "code",
   "execution_count": null,
   "metadata": {
    "collapsed": true
   },
   "outputs": [],
   "source": [
    "sns.palplot(sns.color_palette(\"Spectral\", 50))"
   ]
  },
  {
   "cell_type": "code",
   "execution_count": null,
   "metadata": {
    "code_folding": [],
    "collapsed": true
   },
   "outputs": [],
   "source": [
    "# e.g. dataset: 'ut150309', model: 'poly', ofs: 0.01, const: 7 minutes\n",
    "def plot_binned(ax, dataset, model, ofs): \n",
    "    # load data\n",
    "    thefile = open(\n",
    "    '/Users/mango/Dropbox/mercedes-group/wavelength_calibration/'+dataset+'/'+model+'_binned/final_LCs.pkl', 'rb')\n",
    "    binned = pickle.load(thefile)\n",
    "    thefile.close()\n",
    "    \n",
    "    t_rel = (binned['t'] - binned['t0'])*24\n",
    "    \n",
    "    ax.set_title('filler', color='w') # hacky way to make room for suptitle \n",
    "    ax.set_xlabel('filler', color='w') # hacky way to make room for fig x label\n",
    "\n",
    "    N = len(binned['wbins']) # number of wavelength bins\n",
    "    wmin = binned['wbins'].values()[0][0]\n",
    "    wmax = binned['wbins'].values()[-1][-1]\n",
    "    #colors = plt.cm.jet(np.linspace(0,1,wav_bins))\n",
    "    colors = sns.color_palette(\"RdYlGn_r\", N)\n",
    "\n",
    "    offset = 0\n",
    "    RpRs_list = []\n",
    "    wav_list = []\n",
    "    for i in range(N):\n",
    "        ax.plot(t_rel, binned['detLC'][i] + offset, '.', color=colors[i])\n",
    "        ax.plot(t_rel, binned['model'][i] + offset, '--', color='grey')\n",
    "        wav_bin = [round(binned['wbins'][i][j], 3) for j in range(2)]\n",
    "        ax.annotate(wav_bin, xy=(t_rel[0], \n",
    "                1.004*(binned['model'][i][0] + offset)),\n",
    "                  fontsize=10)\n",
    "        if binned['wbins'][i][0] in [5891.0, 6563.5, 7662.0, 7696.0, 8179.0, 8192.0]:\n",
    "            ax.annotate(wav_bin, xy=(t_rel[0], \n",
    "                1.004*(binned['model'][i][0] + offset)),\n",
    "                  fontsize=10, color='c')\n",
    "            ax.plot(t_rel, binned['model'][i] + offset, 'c--')\n",
    "\n",
    "        ax.set_ylabel('normalized flux + const')\n",
    "        \n",
    "        RpRs = np.min(binned['model'][i])\n",
    "        RpRs_list.append(RpRs)\n",
    "        wav_list.append(np.median(binned['wbins'][i]))\n",
    "        \n",
    "        offset += ofs\n",
    "        \n",
    "    #ax.set_yticklabels([])\n",
    "    ax.set_ylim(0.9555, 1.207)\n",
    "        \n",
    "def plot_binned_resid(ax, dataset, model, ofs):\n",
    "    # load data\n",
    "    thefile = open(\n",
    "    '/Users/mango/Dropbox/mercedes-group/wavelength_calibration/'+dataset+'/'+model+'_binned/final_LCs.pkl', 'rb')\n",
    "    binned = pickle.load(thefile)\n",
    "    thefile.close()\n",
    "    \n",
    "    t_rel = (binned['t'] - binned['t0'])*24\n",
    "    N = len(binned['wbins'])\n",
    "    colors = sns.color_palette(\"RdYlGn_r\", N)\n",
    "    \n",
    "    offset = 0\n",
    "    for i in range(N):\n",
    "        ax.plot(t_rel, binned['residuals'][i] + offset, '.', color=colors[i])\n",
    "        ax.plot(t_rel, np.zeros_like(t_rel) + offset, '--', color='grey')\n",
    "        offset += ofs\n",
    "        \n",
    "    ax.set_yticklabels([])\n",
    "    ax.set_ylim([0.9555-1, 1.207-1])"
   ]
  },
  {
   "cell_type": "code",
   "execution_count": null,
   "metadata": {
    "collapsed": true
   },
   "outputs": [],
   "source": [
    "fig, ax = plt.subplots(1, 2, figsize=(8,10))\n",
    "\n",
    "plot_binned(ax[0], 'ut170410', 'pca', 0.015)\n",
    "plot_binned_resid(ax[1], 'ut170410', 'pca', 0.015)\n",
    "#plt.savefig('/Users/mango/Desktop/pca_binned.pdf', bbox_inches='tight')\n",
    "#plt.savefig('journal/Figures/20170709/ut170410_poly_binned.pdf', bbox_inches='tight')\n",
    "\n",
    "#fig.suptitle('WASP43 -- ut150309 -- PCA wavelet binned -- ' + \n",
    "#    'Spectroscopic2 -- Gri-300-17.5',\n",
    "#fontsize=12)\n",
    "fig.suptitle('WASP43 -- ut170410 -- PCA wavelet binned -- ' + \n",
    "    'WB5600-9200 -- Gri-300-17.5',\n",
    "fontsize=12)\n",
    "fig.text(0.45, 0, '$t-t_0\\ (hours)$')\n",
    "fig.tight_layout()\n",
    "\n",
    "#plt.savefig('/Users/mango/Desktop/ut150309_pca_binned.png',\n",
    "#           bbox_inches='tight')\n",
    "#plt.savefig('/Users/mango/Desktop/ut170410_binned.png', bbox_inches='tight')"
   ]
  },
  {
   "cell_type": "code",
   "execution_count": null,
   "metadata": {
    "collapsed": true
   },
   "outputs": [],
   "source": [
    "with open(\"WASP43/ut170410/pca_binned/final_LCs.pkl\", \"rb\") as f:\n",
    "    binned = pickle.load(f)\n",
    "\n",
    "plt.figure()\n",
    "for i in range(len(binned['detLC'])):\n",
    "    #plt.cla()\n",
    "    plt.plot(binned['detLC'][i], '.')\n",
    "    plt.plot(binned['model'][i], '--', color='grey')\n",
    "\n",
    "    #wav_bin = [round(binned['wbins'][i][j], 3) for j in range(2)]\n",
    "    #plt.annotate(\"%i: %s\" % (i,wav_bin), xy=(0, 1.004*(binned['model'][i][0])), fontsize=10)\n",
    "plt.show()"
   ]
  },
  {
   "cell_type": "markdown",
   "metadata": {},
   "source": [
    "# Transmission Spectra"
   ]
  },
  {
   "cell_type": "markdown",
   "metadata": {},
   "source": [
    "### $R_p/R_s$ vs. $\\lambda$"
   ]
  },
  {
   "cell_type": "markdown",
   "metadata": {},
   "source": [
    "The posteriors are ordered by average wavelength $(\\lambda_{min}+\\lambda_{max})/2$ when saved to the pickle."
   ]
  },
  {
   "cell_type": "code",
   "execution_count": 4,
   "metadata": {
    "collapsed": true
   },
   "outputs": [],
   "source": [
    "with open(\"WASP43/ut170410/pca_binned/posteriors.pkl\", \"rb\") as f:\n",
    "    post = pickle.load(f)"
   ]
  },
  {
   "cell_type": "code",
   "execution_count": 6,
   "metadata": {
    "collapsed": true
   },
   "outputs": [],
   "source": [
    "wav_avg = (post['wl_maxs'] + post['wl_mins']) / 2\n",
    "binsize = post['wl_maxs'] - post['wl_mins']\n",
    "RpRs_lci = post['RpRs']['LCIs'] # lower confidence interval\n",
    "RpRs_med = post['RpRs']['meds'] # median\n",
    "RpRs_uci = post['RpRs']['UCIs'] # upper confidence interval\n",
    "\n",
    "RpRs_list = [RpRs_uci, RpRs_med, RpRs_lci]\n",
    "labels    = ['UCI', 'med', 'LCI']\n",
    "lb_clrs   = sns.color_palette('Accent', 3)"
   ]
  },
  {
   "cell_type": "code",
   "execution_count": 7,
   "metadata": {
    "collapsed": true
   },
   "outputs": [],
   "source": [
    "# since some of the bins are centered on a certain feature wavelength and just change in size,\n",
    "# the average wavelength will be the same. This means that a list of the average \n",
    "# wavelengths will have copies whenever it hits one of the feature wavelenths. \n",
    "unique, counts = np.unique(wav_avg, return_counts=True) \n",
    "wav_counts = dict(zip(unique, counts)) # equivalent of a stem-and-leaf plot\n",
    "\n",
    "# just get the feature wavelengths, which will have a count that is greater than 1.\n",
    "wav_feat = {wav:count for wav,count in wav_counts.iteritems() if count != 1}"
   ]
  },
  {
   "cell_type": "code",
   "execution_count": null,
   "metadata": {
    "collapsed": true
   },
   "outputs": [],
   "source": [
    "from matplotlib import colors"
   ]
  },
  {
   "cell_type": "code",
   "execution_count": null,
   "metadata": {
    "collapsed": true
   },
   "outputs": [],
   "source": [
    "fig, axes = plt.subplots(3, 1, figsize=(12,6), sharex=True, tight_layout=True)\n",
    "#[im = ax.scatter(wav_avg, rprs, label=lb, c=binsize, cmap='viridis')\n",
    "cmap = colors.ListedColormap(sns.color_palette('Set3', 10))\n",
    "bounds=range(10, 110, 10)\n",
    "norm = colors.BoundaryNorm(bounds, cmap.N)\n",
    "for ax, rprs, lb, lb_cl in zip(axes.flatten(), RpRs_list, labels, lb_clrs):\n",
    "    ax.plot(wav_avg, rprs, alpha=0.5, zorder=2, label=lb, c=lb_cl)\n",
    "    im = ax.scatter(wav_avg, rprs, c=binsize, cmap=cmap, zorder=3, vmin=10,vmax=100)\n",
    "    [ax.axvline(x=i, ls='--', c='grey', lw=0.5, zorder=1) for i in wav_feat]\n",
    "    ymin = 0.99*np.min(rprs)\n",
    "    ymax = 1.05*np.max(rprs)\n",
    "    ax.set_ylim(ymin, ymax)\n",
    "    ax.set_xlim(5855, 8244)\n",
    "    ax.legend()\n",
    "    #ax.set_title(lb)\n",
    "\n",
    "# *left*, *bottom*, *width*,*height*\n",
    "cbar_ax = fig.add_axes([0.059, 0.955, 0.929, 0.02])\n",
    "cb = fig.colorbar(im, cax=cbar_ax, orientation='horizontal')\n",
    "cb.ax.xaxis.set_ticks_position('top')\n",
    "cb.ax.xaxis.set_label_position('top')\n",
    "cb.ax.xaxis.set_tick_params(pad=1)\n",
    "\n",
    "#ax.set_xlabel(r'average wavelength $(\\AA)$')\n",
    "#ax.set_ylabel(r'$R_p / R_s$')\n",
    "#ax.legend()\n",
    "\n",
    "axes[2].set_xlabel(r'average wavelength $(\\AA)$')\n",
    "axes[1].set_ylabel(r' $R_p/R_s$')\n",
    "fig.tight_layout()\n",
    "plt.savefig(\"journal/Figures/20170823/ut170410_rprs_wav.pdf\", bbox_incehs='tight')"
   ]
  },
  {
   "cell_type": "markdown",
   "metadata": {},
   "source": [
    "### $R_p / R_s$ vs. binsize "
   ]
  },
  {
   "cell_type": "code",
   "execution_count": 15,
   "metadata": {},
   "outputs": [],
   "source": [
    "fig, axes = plt.subplots(2, 3, figsize=(8,5), sharex=True, sharey=True)\n",
    "wav_diff = post['wl_maxs'] - post['wl_mins']\n",
    "title_list = [r'$NaI-D$', r'$H\\alpha$', r'$KI-a$', \\\n",
    "              r'$KI-b$', r'$NaI-8200a$', r'$NaI-8200b$']\n",
    "\n",
    "# isolate user bins, assuming they increment in size by 10 up to 100\n",
    "for ax, spec_idx, ttl in zip(axes.flatten(), np.arange(0, 60, 10), title_list): \n",
    "    ax.set_title(ttl)\n",
    "    for rprs, lb_cl, lb in zip(RpRs_list, lb_clrs, labels):\n",
    "        RpRs = rprs[((wav_diff <= 100) & (wav_diff % 10 == 0))][spec_idx:spec_idx+10]\n",
    "        binsize_spec = wav_diff[((wav_diff <= 100) & (wav_diff % 10 == 0))][spec_idx:spec_idx+10]\n",
    "        ax.plot(binsize_spec, RpRs, c=lb_cl, label=lb)\n",
    "        \n",
    "#fig.legend(lines, labels, loc = (0.5, 0), ncol=5 )\n",
    "\n",
    "fig.text(0.01, 0.52, r'$R_p/R_s$', va='center', rotation='vertical')\n",
    "fig.text(0.52, 0.01, r'$binsize\\ (\\AA)$', ha='center')\n",
    "\n",
    "plt.legend(loc=9, bbox_to_anchor=(-2, -0.1), ncol=3)\n",
    "\n",
    "fig.tight_layout(pad=2)\n",
    "\n",
    "#plt.savefig('journal/Figures/20170823/ut170410_rprs_bin.pdf', bbox_inches='tight')"
   ]
  }
 ],
 "metadata": {
  "kernelspec": {
   "display_name": "Python 2",
   "language": "python",
   "name": "python2"
  },
  "language_info": {
   "codemirror_mode": {
    "name": "ipython",
    "version": 2
   },
   "file_extension": ".py",
   "mimetype": "text/x-python",
   "name": "python",
   "nbconvert_exporter": "python",
   "pygments_lexer": "ipython2",
   "version": "2.7.13"
  },
  "toc": {
   "colors": {
    "hover_highlight": "#ffffff",
    "navigate_num": "#000000",
    "navigate_text": "#ffffff",
    "running_highlight": "#4dff05",
    "selected_highlight": "#FFD700",
    "sidebar_border": "#EEEEEE",
    "wrapper_background": "#000000"
   },
   "moveMenuLeft": true,
   "nav_menu": {
    "height": "385px",
    "width": "592px"
   },
   "navigate_menu": true,
   "number_sections": false,
   "sideBar": true,
   "threshold": 4,
   "toc_cell": false,
   "toc_section_display": "block",
   "toc_window_display": false,
   "widenNotebook": false
  }
 },
 "nbformat": 4,
 "nbformat_minor": 2
}
