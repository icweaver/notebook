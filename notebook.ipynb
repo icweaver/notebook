{
 "cells": [
  {
   "cell_type": "markdown",
   "metadata": {},
   "source": [
    "# Imports"
   ]
  },
  {
   "cell_type": "code",
   "execution_count": 2,
   "metadata": {
    "code_folding": []
   },
   "outputs": [],
   "source": [
    "import matplotlib.pyplot as plt\n",
    "import matplotlib.patheffects as PathEffects\n",
    "import numpy as np\n",
    "import seaborn as sns\n",
    "import glob\n",
    "import pickle\n",
    "import corner\n",
    "import scipy.optimize\n",
    "import re\n",
    "import os\n",
    "import sys\n",
    "import utils\n",
    "import importlib # for refreshing changes made to utils\n",
    "\n",
    "#for loading TEPSPEC_Util scripts into trace pkl\n",
    "sys.path.append('/Users/mango/tepspec/IMACS/')\n",
    "\n",
    "from astropy.io import fits, ascii\n",
    "from astropy.table import Table\n",
    "from astropy.time import Time\n",
    "from collections import Counter, namedtuple\n",
    "from matplotlib.colors import LogNorm\n",
    "from matplotlib.widgets import Slider\n",
    "from scipy import stats\n",
    "from collections import OrderedDict\n",
    "\n",
    "sns.set_context('paper')\n",
    "sns.set_style('darkgrid')\n",
    "sns.set_color_codes('deep')\n",
    "sns.set_palette('deep')\n",
    "%matplotlib qt5\n",
    "plt.ion()"
   ]
  },
  {
   "cell_type": "markdown",
   "metadata": {},
   "source": [
    "# Wavelength Calibration"
   ]
  },
  {
   "cell_type": "markdown",
   "metadata": {},
   "source": [
    "Some of the lamp spectra through the target and comparison star slits are completely shifted off of the reference lamp spectra, so guess_lines.py can't be used. Instead, the lines will be indentified manually from http://www.lco.cl/telescopes-information/magellan/instruments/imacs/imacs-spectral-atlas/imacs-spectral-atlas.\n",
    "\n",
    "To make things a little easier, this routine will will automatically record the pixel coordinate from a mouse press to save me an extra step in writing down the pixel/wavelength values."
   ]
  },
  {
   "cell_type": "code",
   "execution_count": null,
   "metadata": {
    "code_folding": []
   },
   "outputs": [],
   "source": [
    "# read in desired lamp spec\n",
    "name = 'WASP43b_8'\n",
    "path = '../wavelength_calibration/arcs_ut150224/stage/' + name + '_arc.fits'\n",
    "#path = '/Users/mango/Desktop/HeNeAr_gris300.fits'\n",
    "data = fits_data(path)\n",
    "\n",
    "pix_loc = []\n",
    "\n",
    "# display and record pix location on 'x' key press\n",
    "def on_key(event): \n",
    "    if (event.key == 'x' or event.key == 'X') and event.inaxes == ax:\n",
    "        x = event.xdata\n",
    "        y = event.ydata\n",
    "        \n",
    "        plt.axvline(x, c='r', ls='--', lw=0.5)\n",
    "        ax.plot(x, y, 'rX', ms=10)\n",
    "        x = str( np.round(x, 4) )\n",
    "        pix_loc.append(x)\n",
    "        \n",
    "    fig.canvas.draw()\n",
    "\n",
    "fig, ax = plt.subplots(figsize = (15,4))\n",
    "\n",
    "#ax.cla()\n",
    "ax.plot(data)\n",
    "ax.set_title(name)\n",
    "ax.set_xlabel('pixel')\n",
    "ax.set_ylabel('flux (arbitrary units)')\n",
    "#[ax.axvline(xc,lw=0.5,ls ='--',c='r',alpha=0.5) for xc in arc_lines['pix']]\n",
    "    \n",
    "fig.tight_layout()\n",
    "cid = fig.canvas.mpl_connect('key_press_event', on_key)"
   ]
  },
  {
   "cell_type": "code",
   "execution_count": null,
   "metadata": {
    "code_folding": []
   },
   "outputs": [],
   "source": [
    "f = open('/Users/mango/Desktop/test.txt', 'wb')\n",
    "for pix in pix_loc:\n",
    "    f.write(\"%s\\n\" % pix)\n",
    "f.close()"
   ]
  },
  {
   "cell_type": "code",
   "execution_count": null,
   "metadata": {},
   "outputs": [],
   "source": [
    "for f in glob.glob('../wavelength_calibration/arcs_ut170410/comp*line*'):\n",
    "    t = ascii.read(f)\n",
    "    l = f.split('/')[-1]\n",
    "    plt.plot(t['Pix'], t['Wav'], 'o', label=l, alpha=0.5)\n",
    "    \n",
    "plt.legend(loc='best')"
   ]
  },
  {
   "cell_type": "markdown",
   "metadata": {},
   "source": [
    "### noao line lines"
   ]
  },
  {
   "cell_type": "code",
   "execution_count": null,
   "metadata": {
    "code_folding": []
   },
   "outputs": [],
   "source": [
    "plt.figure(figsize=(15,4))\n",
    "arc_lines = ascii.read('../wavelength_calibration/noao/ref_linelist.txt')\n",
    "hdu = fits.open('../wavelength_calibration/noao/noao.fits')\n",
    "\n",
    "data = hdu[0].data\n",
    "hdu.close()\n",
    "\n",
    "wavs = arc_lines['Fit']\n",
    "xs = arc_lines['Pixel']\n",
    "ys = []\n",
    "for x_guess in xs:\n",
    "    ys.append(data[int(x_guess)])\n",
    "plt.plot(data, c='orange')\n",
    "[plt.axvline(xc, lw=0.5, ls = '--', c='b', alpha=0.5) for xc in xs]\n",
    "[plt.annotate(str(wav), (s_x, s_y)) for wav, s_x, s_y in zip(wavs, xs, ys)]\n",
    "\n",
    "plt.title('noao reference')\n",
    "plt.xlabel('pixel')\n",
    "plt.ylabel('arbitrary flux')\n",
    "\n",
    "plt.tight_layout()\n",
    "\n",
    "plt.show()"
   ]
  },
  {
   "cell_type": "markdown",
   "metadata": {},
   "source": [
    "### lco lamp lines"
   ]
  },
  {
   "cell_type": "code",
   "execution_count": null,
   "metadata": {},
   "outputs": [],
   "source": [
    "plt.figure(figsize=(15,4))\n",
    "fpath = '../wavelength_calibration/lco_lines.txt'\n",
    "arc_lines = ascii.read(fpath)\n",
    "\n",
    "fpath = '../wavelength_calibration/HeNeAr_gris300.fits'\n",
    "data = fits_data(fpath)\n",
    "\n",
    "wavs = arc_lines['wav']\n",
    "xs = arc_lines['pix']\n",
    "ys = []\n",
    "for x_guess in xs:\n",
    "    ys.append(data[int(x_guess)])\n",
    "plt.plot(data, c='orange')\n",
    "[plt.axvline(xc, lw=0.5, ls = '--', c='b', alpha=0.5) for xc in xs]\n",
    "[plt.annotate(str(wav), (s_x, s_y)) for wav, s_x, s_y in zip(wavs, xs, ys)]\n",
    "\n",
    "plt.title('lco reference')\n",
    "plt.xlabel('pixel')\n",
    "plt.ylabel('arbitrary flux')\n",
    "\n",
    "plt.tight_layout()\n",
    "\n",
    "plt.show()"
   ]
  },
  {
   "cell_type": "markdown",
   "metadata": {},
   "source": [
    "### calibration file check"
   ]
  },
  {
   "cell_type": "code",
   "execution_count": null,
   "metadata": {
    "scrolled": true
   },
   "outputs": [],
   "source": [
    "def cal_plot(ax, guess_path, data_path, c):\n",
    "    guess_lines = ascii.read(guess_path)\n",
    "\n",
    "    data = fits_data(data_path)\n",
    "\n",
    "    wavs = guess_lines['Wav']\n",
    "    xs = guess_lines['Pix']\n",
    "    ys = []\n",
    "    for x_guess in xs:\n",
    "        ys.append(data[int(x_guess)])\n",
    "\n",
    "    ax.plot(data, c=c)\n",
    "    [ax.axvline(xc, lw=0.5, ls = '--', c='k', alpha=0.5) for xc in xs]\n",
    "    [ax.annotate(str(wav), (s_x, s_y)) for wav, s_x, s_y in zip(wavs, xs, ys)]\n",
    "\n",
    "    ax.set_xlabel('pixel')\n",
    "    ax.set_ylabel('arbitrary flux')\n",
    "    \n",
    "    title = '{}: {} + {}'.format(guess_path.split('/')[-2],\n",
    "        guess_path.split('/')[-1], data_path.split('/')[-1])\n",
    "    ax.set_title(title)"
   ]
  },
  {
   "cell_type": "code",
   "execution_count": null,
   "metadata": {},
   "outputs": [],
   "source": [
    "fig, ax = plt.subplots(figsize=(15,4))\n",
    "\n",
    "guess_path = '../wavelength_calibration/arcs_ut150309/comp1_lines_chips.txt'\n",
    "data_path = '../wavelength_calibration/arcs_ut150309/comp1_2_arc.fits'\n",
    "\n",
    "cal_plot(ax, guess_path, data_path, 'orange')\n",
    "\n",
    "fig.tight_layout()"
   ]
  },
  {
   "cell_type": "markdown",
   "metadata": {},
   "source": [
    "### Compare Calibrations between datasets"
   ]
  },
  {
   "cell_type": "code",
   "execution_count": null,
   "metadata": {},
   "outputs": [],
   "source": [
    "fig, ax = plt.subplots(2, 1, figsize=(15,6), sharex=True, sharey=True)\n",
    "\n",
    "guess_path = '../wavelength_calibration/arcs_ut150224/comp6_lines_chips.txt'\n",
    "data_path = '../wavelength_calibration/arcs_ut150224/comp6_2_arc.fits'\n",
    "cal_plot(ax[0], guess_path, data_path, 'b')\n",
    "\n",
    "guess_path = '../wavelength_calibration/arcs_ut150309/comp6_lines_chips.txt'\n",
    "data_path = '../wavelength_calibration/arcs_ut150309/comp6_2_arc.fits'\n",
    "cal_plot(ax[1], guess_path, data_path, 'r')\n",
    "\n",
    "fig.tight_layout()"
   ]
  },
  {
   "cell_type": "markdown",
   "metadata": {},
   "source": [
    "### Overview Line List Inspection"
   ]
  },
  {
   "cell_type": "code",
   "execution_count": null,
   "metadata": {
    "code_folding": []
   },
   "outputs": [],
   "source": [
    "fig, axis = plt.subplots(2, 4, figsize = (14,5))\n",
    "\n",
    "ax_list = []\n",
    "for i in range(2):\n",
    "    for j in range(4):\n",
    "        ax_list.append(axis[i][j])\n",
    "\n",
    "#read in spectra and line lists\n",
    "spec_list = []\n",
    "line_lists = []\n",
    "title_list = []\n",
    "for i in glob.glob('../wavelength_calibration/arcs_ut150224/stage/*arc.fits'):\n",
    "    hdu = fits.open(i)\n",
    "    spec = hdu[0].data # data\n",
    "    spec_list.append(spec)\n",
    "    title_list.append(i.split('/')[-1])\n",
    "    hdu.close()\n",
    "    \n",
    "for i in glob.glob('../wavelength_calibration/arcs_ut150224/*lines*txt'):\n",
    "    lines = ascii.read(i)\n",
    "    line_lists.append(lines)\n",
    "\n",
    "k = 0\n",
    "z = 0\n",
    "xs_list = []\n",
    "for ax, spec, lines, ti in zip(ax_list, spec_list, line_lists, title_list):\n",
    "    wavs = lines['Wav']\n",
    "    xs = lines['Pix']\n",
    "    xs_list.append(xs)\n",
    "    ys = []\n",
    "    for x_guess in xs:\n",
    "        ys.append(spec[int(x_guess)])\n",
    "\n",
    "    ax.plot(spec, c='orange')\n",
    "    ax.set_title(ti)\n",
    "    [ax.axvline(xc, lw=0.5, ls = '--', c='b', alpha=0.5) for xc in xs]\n",
    "    for wav, s_x, s_y in zip(wavs, xs, ys):\n",
    "        ax.annotate(str(wav), (s_x, s_y), fontsize=12) \n",
    "\n",
    "    i = 0\n",
    "\n",
    "def on_key(event): # pan and zoom each plot key press\n",
    "    global i\n",
    "    if (event.key == 'n' or event.key == 'N'):\n",
    "        for ax, spec, lines in zip(ax_list, spec_list, line_lists):\n",
    "            wavs = lines['Wav']\n",
    "            xs = lines['Pix']\n",
    "            xs_list.append(xs)\n",
    "            ys = []\n",
    "            for x_guess in xs:\n",
    "                ys.append(spec[int(x_guess)])\n",
    "\n",
    "            ax.set_xlim(xs[i] - 50, xs[i] + 50)\n",
    "            ax.set_ylim(ys[i]*-0.1, ys[i]*3)\n",
    "\n",
    "        i += 1\n",
    "        if (i > len(xs) - 1): # go back to beginning after reaching end\n",
    "            i = 0\n",
    "            \n",
    "\n",
    "    fig.canvas.draw()\n",
    "\n",
    "\n",
    "fig.tight_layout()\n",
    "cid = fig.canvas.mpl_connect('key_press_event', on_key)"
   ]
  },
  {
   "cell_type": "markdown",
   "metadata": {},
   "source": [
    "### Line List Check"
   ]
  },
  {
   "cell_type": "code",
   "execution_count": null,
   "metadata": {},
   "outputs": [],
   "source": [
    "def plot_line_pix(ax, lines_chips_path):\n",
    "    data = ascii.read(lines_chips_path)\n",
    "    wav, pix = data['Wav'], data['Pix']\n",
    "    \n",
    "    ax.plot(wav, pix, label=lines_chips_path.split('/'))\n",
    "    \n",
    "    return ax"
   ]
  },
  {
   "cell_type": "code",
   "execution_count": null,
   "metadata": {},
   "outputs": [],
   "source": [
    "fig, ax = plt.subplots()\n",
    "\n",
    "#fnames = glob.glob('../wavelength_calibration/arcs_ut150224/*lines*.txt')\n",
    "fnames = glob.glob('../wavelength_calibration/arcs_ut150*/comp*_lines*')\n",
    "\n",
    "p = [plot_line_pix(ax, fname) for fname in fnames]\n",
    "\n",
    "ax.legend()"
   ]
  },
  {
   "cell_type": "markdown",
   "metadata": {},
   "source": [
    "# File Inspection"
   ]
  },
  {
   "cell_type": "code",
   "execution_count": null,
   "metadata": {},
   "outputs": [],
   "source": [
    "plt.figure()\n",
    "fpath = '../WASP43/ut170410/tepspec_final/custom/mfilt/x_bad_pixels_c8.fits'\n",
    "x_bad = utils.fits_data(fpath)\n",
    "fpath = fpath.replace('x_bad', 'y_bad')\n",
    "y_bad = utils.fits_data(fpath)\n",
    "\n",
    "plt.plot(x_bad, y_bad, 'bo', alpha=0.5)\n",
    "\n",
    "fpath = '../WASP43/ut170410/tepspec_final/custom/mfilt_DHU/x_bad_pixels_c8.fits'\n",
    "x_bad = utils.fits_data(fpath)\n",
    "fpath = fpath.replace('x_bad', 'y_bad')\n",
    "y_bad = utils.fits_data(fpath)\n",
    "\n",
    "plt.plot(x_bad, y_bad, 'r.', alpha=0.5)"
   ]
  },
  {
   "cell_type": "markdown",
   "metadata": {},
   "source": [
    "### trace check"
   ]
  },
  {
   "cell_type": "code",
   "execution_count": null,
   "metadata": {},
   "outputs": [],
   "source": [
    "# XX, YY.pkl has shape (time x # trace points)\n",
    "# select dataset\n",
    "date = 'ut150224'\n",
    "binsize = '75nm'\n",
    "\n",
    "# load in data\n",
    "fpath = '../WASP43/{}/tepspec_final/{}/XX.pkl'.format(date, binsize)\n",
    "tr_x = utils.pkl_load(fpath)\n",
    "fpath = fpath.replace('XX', 'YY')\n",
    "tr_y = utils.pkl_load(fpath)\n",
    "\n",
    "# plot\n",
    "fig, axes = plt.subplots(2, 5, figsize=(8,5), sharey=False)\n",
    "\n",
    "cmap_comps ='Blues'\n",
    "cmap_targ = 'Oranges'\n",
    "n_sample = 33 # number of time indices to sample\n",
    "colors_comps = np.array(sns.color_palette(cmap_comps, n_sample))\n",
    "colors_targ = np.array(sns.color_palette(cmap_targ, n_sample))\n",
    "\n",
    "\n",
    "# sort keys\n",
    "objs = []\n",
    "for obj in list(tr_x.keys()):\n",
    "    objs.append(obj.decode('UTF-8')) # Python 3 byte string stuff\n",
    "objs.sort()\n",
    "\n",
    "# sample n time indices (rounded down to nearest integer) \n",
    "# from the N total sci images \n",
    "for ax, obj in zip(axes.flatten(), objs):\n",
    "    obj = obj.encode('UTF-8') # back to bytes\n",
    "    # t_idx should be the same for all objs, but just in case\n",
    "    t_idx = np.linspace(0, len(tr_x[obj])-1, n_sample, dtype=int)\n",
    "    if (b'WASP' in obj): colors = colors_targ\n",
    "    else: colors = colors_comps\n",
    "    for t, c in zip(t_idx, colors):\n",
    "        ax.plot(tr_x[obj][t], tr_y[obj][t], '.', c=c, label=t, alpha=0.5) \n",
    "        ax.set_title(obj.decode('utf-8'))\n",
    "\n",
    "fig.tight_layout()\n",
    "#plt.legend()\n",
    "plt.show()"
   ]
  },
  {
   "cell_type": "markdown",
   "metadata": {},
   "source": [
    "### Objects_trace.pkl"
   ]
  },
  {
   "cell_type": "code",
   "execution_count": null,
   "metadata": {},
   "outputs": [],
   "source": [
    "#import TEPSPEC_Util\n",
    "fpath = '../WASP43/ut150224/tepspec_final/Objects_trace.pkl'\n",
    "obj_trace = pkl_load(fpath)"
   ]
  },
  {
   "cell_type": "code",
   "execution_count": null,
   "metadata": {},
   "outputs": [],
   "source": [
    "fpath = '../WASP43/ut170410/tepspec_final/75nm/Objects_trace.pkl'\n",
    "obj_trace_ut170410 = pkl_load(fpath)"
   ]
  },
  {
   "cell_type": "code",
   "execution_count": null,
   "metadata": {},
   "outputs": [],
   "source": [
    "obj_trace_ut170410[b'WASP43b_8'].chip"
   ]
  },
  {
   "cell_type": "markdown",
   "metadata": {},
   "source": [
    "### spec files"
   ]
  },
  {
   "cell_type": "code",
   "execution_count": null,
   "metadata": {},
   "outputs": [],
   "source": [
    "fpath = '../WASP43/ut150224/tepspec_final/75nm/mfilt/WASP43b_8_spec.fits'\n",
    "#fpath = '../WASP43/ut150309/tepspec_final/75nm/WASP43b_8_spec.fits'\n",
    "#fpath = '../WASP43/ut170410/tepspec_final/custom/WASP43b_8_spec.fits'\n",
    "\n",
    "w43 = utils.fits_data(fpath)\n",
    "\n",
    "plt.figure()\n",
    "sns.set_palette('deep')\n",
    "for t, spec in enumerate(w43[:200,6,:]):\n",
    "    #if np.sum(spec != 0): print(t)\n",
    "    plt.plot(spec, alpha=0.25, c='b')\n",
    "\n",
    "#plt.title('WASP43 Spectrum 75nm with ut150309 bad pixel mask, opt extract')\n",
    "plt.xlabel('pixel')\n",
    "plt.ylabel('count')\n",
    "#plt.savefig('/Users/mango/Desktop/after_optimal.png', bbox_inches='tight')"
   ]
  },
  {
   "cell_type": "code",
   "execution_count": null,
   "metadata": {},
   "outputs": [],
   "source": [
    "\"\"\"\n",
    "plots items in <object>_spec.fits files.\n",
    "has shape time x spec_item x ypix [it's ~ 2048] (|| to wav direction)\n",
    "spec_item:\n",
    "0: Wavelength\n",
    "1: Simple extracted object spectrum\n",
    "2: Simple extracted flat spectrum\n",
    "3: Pixel sensitivity (obtained by the flat)\n",
    "4: Simple extracted object spectrum/pixel sensitivity\n",
    "5: Sky flag (0 = note uneven sky, 1 = probably uneven profile, \n",
    "   2 = Sky_Base failed)\n",
    "6: Optimally extracted object spectrum\n",
    "7: Optimally extracted object spectrum/pixel sensitivity\n",
    "\"\"\"\n",
    "def spec_plot(spec_item):\n",
    "    fig, axs = plt.subplots(1, 2, figsize=(10,3))\n",
    "    \n",
    "    objs = ['comp4_4', 'comp4_4']\n",
    "    for ax, obj in zip(axs, objs):\n",
    "        hdu = fits.open('/Users/mango/Desktop/'+obj+'_spec.fits')\n",
    "        data = hdu[0].data\n",
    "        hdu.close()\n",
    "        \n",
    "        # data[number of sci frames, spec_items, \n",
    "        # pixel height of spectrum (2048)]\n",
    "        # by 'height' I mean in spectral direction\n",
    "        for i in range(len(data[:,0,0])):\n",
    "            ax.plot(data[i,spec_item,:])\n",
    "        \n",
    "        #ax.set_title(obj.split('_')[-1])\n",
    "        \n",
    "    fig.tight_layout()\n",
    "    fig.show()\n",
    "\n",
    "spec_plot(0)"
   ]
  },
  {
   "cell_type": "markdown",
   "metadata": {},
   "source": [
    "### File Inspection"
   ]
  },
  {
   "cell_type": "code",
   "execution_count": null,
   "metadata": {},
   "outputs": [],
   "source": [
    "path_list = glob.glob(\n",
    "    '/Users/mango/data/ACCESS/IMACS/WASP43/ut150224/*0*.fits')\n",
    "\n",
    "filenames = []\n",
    "objects = []\n",
    "slts = []\n",
    "for path in path_list:\n",
    "    with open(path, 'rb') as f:\n",
    "        hdu = fits.open(f)\n",
    "        filename = hdu[0].header['FILENAME']\n",
    "        obj     = hdu[0].header['OBJECT']\n",
    "        slt     = hdu[0].header['SLITMASK']\n",
    "    #airmass = hdu[0].header['AIRMASS']\n",
    "    #am.append(airmass)\n",
    "        if ('c8' in filename): # other chips redundant for ID purposes\n",
    "    #    object_dict.update({filename:obj})\n",
    "            filenames.append(filename)    \n",
    "            objects.append(obj)\n",
    "            slts.append(slt)\n",
    "#for key in sorted(object_dict.iterkeys()):\n",
    "#    print key, object_dict[key]"
   ]
  },
  {
   "cell_type": "code",
   "execution_count": null,
   "metadata": {
    "scrolled": true
   },
   "outputs": [],
   "source": [
    "t = Table()\n",
    "t['fnames'] = filenames\n",
    "t['type'] = objects\n",
    "t['slit mask'] = slts\n",
    "\n",
    "t.sort('fnames')\n",
    "t"
   ]
  },
  {
   "cell_type": "code",
   "execution_count": null,
   "metadata": {},
   "outputs": [],
   "source": [
    "plt.plot(object_dict.values(), '.')"
   ]
  },
  {
   "cell_type": "code",
   "execution_count": null,
   "metadata": {},
   "outputs": [],
   "source": [
    "import re\n",
    "sc_counter = 0\n",
    "sci_frame = []\n",
    "for k, v in object_dict.iteritems():\n",
    "    if 'science' in v:\n",
    "        sc_counter += 1z\n",
    "        file_num = re.split('t|c', k) # get number portion of filename\n",
    "        sci_frame.append(file_num[1])\n",
    "sci_frame = np.sort(sci_frame)\n",
    "print sc_counter"
   ]
  },
  {
   "cell_type": "markdown",
   "metadata": {
    "heading_collapsed": true
   },
   "source": [
    "### For adding full flats from WASP-19 to WASP-43 ut170410 dataset"
   ]
  },
  {
   "cell_type": "code",
   "execution_count": null,
   "metadata": {
    "hidden": true
   },
   "outputs": [],
   "source": [
    "full_flats = []\n",
    "for i, j in object_dict.items():\n",
    "    if 'full' in j and 'c8' in i:\n",
    "        print i,j\n",
    "        full_flats.append(i)"
   ]
  },
  {
   "cell_type": "markdown",
   "metadata": {
    "hidden": true
   },
   "source": [
    "#### Airmass filter"
   ]
  },
  {
   "cell_type": "code",
   "execution_count": null,
   "metadata": {
    "hidden": true
   },
   "outputs": [],
   "source": [
    "path_list = glob.glob(\n",
    "    '/data/ACCESS/IMACS/WASP43/ut150224/*0*.fits')\n",
    "\n",
    "filename_list = []\n",
    "for path in path_list:\n",
    "    hdu = fits.open(path)\n",
    "    filename = hdu[0].header['FILENAME']\n",
    "    airmass = hdu[0].header['AIRMASS']\n",
    "    obj     = hdu[0].header['OBJECT']\n",
    "    hdu.close()\n",
    "    #if obj == 'science image':\n",
    "    #    i += 1\n",
    "    #print obj, filename\n",
    "    if ((airmass >= 1.5) and ('c8' in filename) and 'sci' in obj): #and (obj == 'science image'):\n",
    "        #filename_list.append(filename)\n",
    "        print filename, obj\n",
    "    #if ('science frame wasp43' in obj and 'c8' in filename):\n",
    "    #    filename_list.append(filename)"
   ]
  },
  {
   "cell_type": "code",
   "execution_count": null,
   "metadata": {
    "hidden": true
   },
   "outputs": [],
   "source": [
    "fig, ax = plt.subplots(1,1)\n",
    "\n",
    "ax.plot([1,2,3,4])\n",
    "ax.axvline(1)\n",
    "fig.show()"
   ]
  },
  {
   "cell_type": "markdown",
   "metadata": {},
   "source": [
    "### Aperture Check"
   ]
  },
  {
   "cell_type": "markdown",
   "metadata": {},
   "source": [
    "#### Interactive 1D profile plotter to verify apertures used in tepspec"
   ]
  },
  {
   "cell_type": "code",
   "execution_count": null,
   "metadata": {},
   "outputs": [],
   "source": [
    "path = '/Users/mango/data/ACCESS/IMACS/WASP43/ut150224/ift0250c8.fits'\n",
    "hdu = fits.open(path)\n",
    "name = hdu[0].header['filename']\n",
    "data = hdu[0].data\n",
    "ut_start = hdu[0].header['UT-TIME']\n",
    "ut_end = hdu[0].header['UT-END']\n",
    "hdu.close()\n",
    "\n",
    "fig, axes = plt.subplots(1,2, figsize=(8, 6))\n",
    "\n",
    "im = axes[0].imshow(data, cmap='CMRmap', vmin=600, vmax=30000)\n",
    "plt.colorbar(im, ax=axes[0])\n",
    "axes[0].grid(False) # get rid of gridlines on imshow\n",
    "#axes.set_title(name + ' -- sci frame 25')\n",
    "axes[0].set_xlabel('%s - %s' % (ut_start, ut_end))\n",
    "axes[1].set_ylim(0, 25000)\n",
    "\n",
    "#plt.savefig('/Users/mango/Desktop/ut150309_image.png', bbox_inches='tight')\n",
    "\n",
    "def drag(event): # mouse drag\n",
    "    x = event.xdata\n",
    "    y = event.ydata\n",
    "    \n",
    "    if (event.inaxes == axes[0]): # only detect mouse drags in imshow plot\n",
    "        axes[1].cla()\n",
    "        axes[1].plot(data[int(round(y)), :])\n",
    "        axes[1].set_xlim(x - 50, x + 50)\n",
    "        axes[1].set_ylim(0, 30000)\n",
    "        axes[1].set_ylabel('counts')\n",
    "    \n",
    "    fig.tight_layout()\n",
    "    fig.canvas.draw()\n",
    "    \n",
    "cid = fig.canvas.mpl_connect('motion_notify_event', drag)"
   ]
  },
  {
   "cell_type": "markdown",
   "metadata": {},
   "source": [
    "# tepspec"
   ]
  },
  {
   "cell_type": "markdown",
   "metadata": {},
   "source": [
    "## Raw WLC Summary"
   ]
  },
  {
   "cell_type": "code",
   "execution_count": 9,
   "metadata": {},
   "outputs": [
    {
     "name": "stdout",
     "output_type": "stream",
     "text": [
      "../WASP43/ut170410/tepspec/bintest/LC*.pkl\n"
     ]
    }
   ],
   "source": [
    "importlib.reload(utils)\n",
    "\n",
    "# load tepspec LC pkl\n",
    "target = 'WASP43'\n",
    "date = 'ut170410'\n",
    "binsize = 'bintest'\n",
    "\n",
    "fpath = '../{0}/{1}/tepspec/{2}/LC*.pkl'\n",
    "fpath = fpath.format(target, date, binsize)\n",
    "print(fpath)\n",
    "\n",
    "fpath = glob.glob(fpath)[0]\n",
    "\n",
    "LC = utils.pkl_load(fpath)\n",
    "fig, ax = plt.subplots()\n",
    "\n",
    "p = utils.plot_raw_LCs(ax, LC, plot_date=True)\n",
    "\n",
    "p.legend()\n",
    "p.set_title(f'{date} - {binsize}')\n",
    "\n",
    "fig.tight_layout()"
   ]
  },
  {
   "cell_type": "markdown",
   "metadata": {},
   "source": [
    "## WLC / Comp Stars"
   ]
  },
  {
   "cell_type": "code",
   "execution_count": 14,
   "metadata": {},
   "outputs": [
    {
     "data": {
      "text/plain": [
       "Text(0.5,1,'WASP43 ut170410 bintest Divided WLC')"
      ]
     },
     "execution_count": 14,
     "metadata": {},
     "output_type": "execute_result"
    }
   ],
   "source": [
    "fig, ax = plt.subplots(1, 1, figsize=(8,5))\n",
    "importlib.reload(utils)\n",
    "\n",
    "# load tepspec LC pkl \n",
    "target = 'WASP43'\n",
    "date = 'ut170410'\n",
    "binsize = 'bintest'\n",
    "fpath = '../{0}/{1}/tepspec/{2}/LC*.pkl'\n",
    "fpath = fpath.format(target, date, binsize)\n",
    "fpath = glob.glob(fpath)[0]\n",
    "#LC = utils.pkl_load(fpath)\n",
    "# get derived values from above pkl for plotting\n",
    "comps_to_use = ['comp1','comp2', 'comp3', 'comp4', 'comp6']\n",
    "#comps_to_use = ['comp1','comp2']\n",
    "LC_comp_div = utils.get_comp_divLC(LC, comps_to_use) \n",
    "\n",
    "# plot\n",
    "p = utils.plot_LC_comp_div(ax, LC_comp_div.t, LC_comp_div.comp_div, \n",
    "                           comps_to_use, target, date, binsize, utc=False,\n",
    "                          ls = 'none', marker='.')\n",
    "p.set_title('{} {} {} Divided WLC'.format(target, date, binsize))\n",
    "#p.set_ylim(0.97, 1.01)"
   ]
  },
  {
   "cell_type": "markdown",
   "metadata": {},
   "source": [
    "### Binned Flux"
   ]
  },
  {
   "cell_type": "code",
   "execution_count": 16,
   "metadata": {},
   "outputs": [
    {
     "ename": "IndexError",
     "evalue": "list index out of range",
     "output_type": "error",
     "traceback": [
      "\u001b[0;31m---------------------------------------------------------------------------\u001b[0m",
      "\u001b[0;31mIndexError\u001b[0m                                Traceback (most recent call last)",
      "\u001b[0;32m<ipython-input-16-a5d1aac1d5a9>\u001b[0m in \u001b[0;36m<module>\u001b[0;34m()\u001b[0m\n\u001b[1;32m      8\u001b[0m \u001b[0mfpath\u001b[0m \u001b[0;34m=\u001b[0m \u001b[0;34m'../{0}/{1}/tepspec/{2}/LC*.pkl'\u001b[0m\u001b[0;34m\u001b[0m\u001b[0m\n\u001b[1;32m      9\u001b[0m \u001b[0mfpath\u001b[0m \u001b[0;34m=\u001b[0m \u001b[0mfpath\u001b[0m\u001b[0;34m.\u001b[0m\u001b[0mformat\u001b[0m\u001b[0;34m(\u001b[0m\u001b[0mtarget\u001b[0m\u001b[0;34m,\u001b[0m\u001b[0mdate\u001b[0m\u001b[0;34m,\u001b[0m\u001b[0mbinsize\u001b[0m\u001b[0;34m)\u001b[0m\u001b[0;34m\u001b[0m\u001b[0m\n\u001b[0;32m---> 10\u001b[0;31m \u001b[0mfpath\u001b[0m \u001b[0;34m=\u001b[0m \u001b[0mglob\u001b[0m\u001b[0;34m.\u001b[0m\u001b[0mglob\u001b[0m\u001b[0;34m(\u001b[0m\u001b[0mfpath\u001b[0m\u001b[0;34m)\u001b[0m\u001b[0;34m[\u001b[0m\u001b[0;36m0\u001b[0m\u001b[0;34m]\u001b[0m\u001b[0;34m\u001b[0m\u001b[0m\n\u001b[0m\u001b[1;32m     11\u001b[0m \u001b[0;31m#LC = utils.pkl_load(fpath)\u001b[0m\u001b[0;34m\u001b[0m\u001b[0;34m\u001b[0m\u001b[0m\n\u001b[1;32m     12\u001b[0m \u001b[0mcomps_to_use\u001b[0m \u001b[0;34m=\u001b[0m \u001b[0;34m[\u001b[0m\u001b[0;34m'comp1'\u001b[0m\u001b[0;34m,\u001b[0m \u001b[0;34m'comp2'\u001b[0m\u001b[0;34m,\u001b[0m \u001b[0;34m'comp3'\u001b[0m\u001b[0;34m,\u001b[0m \u001b[0;34m'comp4'\u001b[0m\u001b[0;34m,\u001b[0m \u001b[0;34m'comp6'\u001b[0m\u001b[0;34m]\u001b[0m\u001b[0;34m\u001b[0m\u001b[0m\n",
      "\u001b[0;31mIndexError\u001b[0m: list index out of range"
     ]
    }
   ],
   "source": [
    "importlib.reload(utils)\n",
    "target = 'WASP43'\n",
    "date= 'ut170410'\n",
    "offs = 0.025\n",
    "cmap = 'Spectral_r'\n",
    "binsize = 'binsize'\n",
    "\n",
    "fpath = '../{0}/{1}/tepspec/{2}/LC*.pkl'\n",
    "fpath = fpath.format(target, date, binsize)\n",
    "fpath = glob.glob(fpath)[0]\n",
    "#LC = utils.pkl_load(fpath)\n",
    "comps_to_use = ['comp1', 'comp2', 'comp3', 'comp4', 'comp6']\n",
    "#comps_to_use = ['comp1', 'comp2']\n",
    "LC_w = utils.get_comp_divLC_w(LC, comps_to_use)\n",
    "\n",
    "# get t0 from WLC\n",
    "method = 'poly'\n",
    "binsize = '75nm'\n",
    "fpath = f'../WASP43/{date}/{method}_WLC/{binsize}/final_LCs.pkl'\n",
    "wlc = utils.pkl_load(fpath)\n",
    "\n",
    "# filter out bad points\n",
    "delete_idx = []\n",
    "t_idx = range(len(LC_w.t))\n",
    "fit_idx = np.delete(t_idx, delete_idx)\n",
    "time = (LC_w.t[fit_idx] - wlc['t0'])*24\n",
    "flux = LC_w.flux[:, fit_idx]\n",
    "resid = LC_w.resid_wlc[:, fit_idx]\n",
    "\n",
    "fig, ax = plt.subplots(1, 2, figsize=(6,8), sharex=True, sharey=True)\n",
    "\n",
    "p = utils.plot_binned(ax[0], time, flux, LC_w.wbins, offs, cmap,\n",
    "                     ignore_last_bin=False, annotate=False, marker='.',\n",
    "                     lw=0, mew=0.25, utc=False)\n",
    "\n",
    "p_res = utils.plot_binned(ax[1], time, resid, LC_w.wbins, offs, \n",
    "                          cmap, ignore_last_bin=False, marker='.',\n",
    "                         lw=0, mew=0.25, annotate=True, utc=False)\n",
    "\n",
    "for lb, lb_res in zip(p.xaxis.get_ticklabels()[::2], \n",
    "                      p_res.xaxis.get_ticklabels()[::2]):\n",
    "        lb.set_visible(False)\n",
    "        lb_res.set_visible(False)"
   ]
  },
  {
   "cell_type": "markdown",
   "metadata": {},
   "source": [
    "## Spectra Inspection"
   ]
  },
  {
   "cell_type": "markdown",
   "metadata": {},
   "source": [
    "### Plot single spectra"
   ]
  },
  {
   "cell_type": "code",
   "execution_count": null,
   "metadata": {},
   "outputs": [],
   "source": [
    "importlib.reload(utils)\n",
    "\n",
    "fpath = '../WASP43/ut150224/tepspec_final/75nm/LCs_w43_75nm.pkl'\n",
    "LC = utils.pkl_load(fpath)\n",
    "\n",
    "fig, ax = plt.subplots(1, 1, figsize=(8,5))\n",
    "# \"zero\"\n",
    "for i in np.arange(0, len(LC['t']), 10): #range(len(LC['t'])):\n",
    "    utils.plot_spec(ax, LC, i, c='c', show_bins=False) \n",
    "#plt.savefig('/Users/mango/Desktop/tepspec_spec_t0.pdf', bboc_inches='tight')"
   ]
  },
  {
   "cell_type": "markdown",
   "metadata": {},
   "source": [
    "### Wavelength shifts"
   ]
  },
  {
   "cell_type": "code",
   "execution_count": null,
   "metadata": {},
   "outputs": [],
   "source": [
    "importlib.reload(utils)\n",
    "\n",
    "target = 'WASP43'\n",
    "date = 'ut170410'\n",
    "binsize = '75nm'\n",
    "\n",
    "fpath = f'../{target}/{date}/tepspec_final/{binsize}/LC*.pkl'\n",
    "fpath = glob.glob(fpath)[0]\n",
    "#LC = utils.pkl_load(fpath)\n",
    "\n",
    "# plot\n",
    "fig, ax = plt.subplots(figsize=(8, 3))\n",
    "\n",
    "p = utils.plot_spec_diff(ax, LC)\n",
    "\n",
    "p.set_title(f'{target} {date} {binsize}')\n",
    "p.legend(ncol=3, loc=3)\n",
    "p.set_ylim(-4, 4)"
   ]
  },
  {
   "cell_type": "markdown",
   "metadata": {},
   "source": [
    "### Bin Setup"
   ]
  },
  {
   "cell_type": "code",
   "execution_count": null,
   "metadata": {},
   "outputs": [],
   "source": [
    "for i in np.arange(5300, 9051, 600):\n",
    "    print(i, i+600)"
   ]
  },
  {
   "cell_type": "code",
   "execution_count": null,
   "metadata": {
    "scrolled": false
   },
   "outputs": [],
   "source": [
    "# baseline centers + spec vacuum centers (or avg if double peaked)\n",
    "spec_cen = [5580.0, 5892.9, 6564.6, 7682.0, 8189.0, 8730.0] \n",
    "\n",
    "for spec in spec_cen:\n",
    "    spec_dif = 0\n",
    "    #print(f'bins for: {spec}')\n",
    "    for i in range(10):\n",
    "        spec_dif += 5\n",
    "        #print(spec-spec_dif, spec+spec_dif, 2*spec_dif)\n",
    "        print(spec-spec_dif, spec+spec_dif)\n",
    "    #print('')"
   ]
  },
  {
   "cell_type": "code",
   "execution_count": null,
   "metadata": {},
   "outputs": [],
   "source": [
    "from mpl_toolkits.axes_grid1.inset_locator import inset_axes, mark_inset\n",
    "importlib.reload(utils)\n",
    "\n",
    "target = 'WASP43'\n",
    "date = 'ut170410'\n",
    "binsize = '75nm'\n",
    "\n",
    "fpath = f'../{target}/{date}/tepspec_final/{binsize}/LC*.pkl'\n",
    "fpath = glob.glob(fpath)[0]\n",
    "#LC = utils.pkl_load(fpath)\n",
    "\n",
    "fig, ax = plt.subplots()\n",
    "\n",
    "wbins_path = '../WASP43/ut170410/tepspec_final/bintest/w43_bintest.dat'\n",
    "utils.plot_spec(ax, LC, 10, wbins_path=wbins_path, c='c')\n",
    "\n",
    "# inset plots\n",
    "bin_info = {r'$NaI-D$':{'wav':5892.9, 'loc':2}, \n",
    "            r'$H\\alpha$':{'wav':6564.6, 'loc':6}, \n",
    "            r'$K1_\\mathrm{avg}$':{'wav':7682.0, 'loc':1}, \n",
    "            r'$NaI-8200_\\mathrm{avg}$':{'wav':8189.0, 'loc':7}, \n",
    "            'blue baseline':{'wav':5580.0, 'loc':3},\n",
    "            'red baseline':{'wav':8730.0, 'loc':4}}\n",
    "\n",
    "# add ylims to each bin:\n",
    "for bin_name, bin_plot in bin_info.items():\n",
    "    wavs = LC['spectra']['wavelengths'] # array of interpolated wavelengths\n",
    "    spectrum = LC['spectra']['WASP43b'][10] # spectrum y-values\n",
    "    pk_idx, pk_val, bs_val = utils.find_crits(wavs, spectrum, bin_plot['wav'])\n",
    "    bin_plot['ymin'] = 0.8*pk_val\n",
    "    bin_plot['ymax'] = bs_val\n",
    "\n",
    "for bin_name, bin_plot in bin_info.items():\n",
    "    axins = inset_axes(ax, width=0.75, height=0.75, loc=bin_plot['loc'])\n",
    "    p  = utils.plot_spec(axins, LC, 10, lw=1, \n",
    "                                    wbins_path=wbins_path, c='c')\n",
    "    #print(bin_name, pk_val, base_val)\n",
    "    axins.set_xlim(bin_plot['wav'] - 70, bin_plot['wav'] + 70)\n",
    "    axins.set_title(bin_name, fontsize=8)\n",
    "    \n",
    "    axins.set_ylim(bin_plot['ymin'], bin_plot['ymax'])\n",
    "    axins.axis('off')\n",
    "    \n",
    "    if (bin_name == 'blue baseline'):\n",
    "        mark_inset(ax, axins, loc1=4, loc2=1, fc=\"none\", ec=\"0.5\")\n",
    "        #axins.set_ylim(36218, 50915)\n",
    "    if (bin_name == 'red baseline'):\n",
    "        mark_inset(ax, axins, loc1=3, loc2=2, fc=\"none\", ec=\"0.5\")\n",
    "        #axins.set_ylim(34951, 49648)\n",
    "\n",
    "ax.set_xlabel('Wavelength $(\\AA)$')\n",
    "ax.set_ylabel('Integrated Counts')"
   ]
  },
  {
   "cell_type": "markdown",
   "metadata": {
    "collapsed": true
   },
   "source": [
    "# ELVIS"
   ]
  },
  {
   "cell_type": "markdown",
   "metadata": {},
   "source": [
    "## poly and pca WLC"
   ]
  },
  {
   "cell_type": "markdown",
   "metadata": {},
   "source": [
    "### Corner Plot"
   ]
  },
  {
   "cell_type": "markdown",
   "metadata": {},
   "source": [
    "#### Plot Function"
   ]
  },
  {
   "cell_type": "code",
   "execution_count": 34,
   "metadata": {},
   "outputs": [
    {
     "data": {
      "text/plain": [
       "dict_keys(['q1', 'q2', 'sigma_r', 'sigma_w', 't0', 'a1', 'a0', 'a2', 'RpRs'])"
      ]
     },
     "execution_count": 34,
     "metadata": {},
     "output_type": "execute_result"
    }
   ],
   "source": [
    "fpath = '../WASP43/bak/ut170410/poly_WLC/75nm/PD_wl_5300.0_9050.0.pkl'\n",
    "pd = utils.pkl_load(fpath)\n",
    "pd.keys()"
   ]
  },
  {
   "cell_type": "code",
   "execution_count": 149,
   "metadata": {},
   "outputs": [
    {
     "data": {
      "text/plain": [
       "(2, 4)"
      ]
     },
     "execution_count": 149,
     "metadata": {},
     "output_type": "execute_result"
    }
   ],
   "source": [
    "#z = np.empty(shape=(4, 2), type=float)\n",
    "x = np.array([1, 2, 3, 4])\n",
    "y = np.array([5, 6, 7, 8])\n",
    "\n",
    "my_dict = {'a':np.array([x,x]), 'b':np.array([y,y]), 'c':np.array([2*y,2*y])}\n",
    "my_dict['a'].shape\n",
    "#sub_dict = {k:v for k, v in my_dict.items() if k in ['a', 'c']}\n",
    "#np.column_stack((list(my_dict.values())))\n",
    "#z = np.column_stack((list(sub_dict.values())))\n",
    "#z = np.column_stack((my_dict['a'], my_dict['b']))\n",
    "#corner.corner(z)"
   ]
  },
  {
   "cell_type": "code",
   "execution_count": 154,
   "metadata": {},
   "outputs": [
    {
     "data": {
      "text/plain": [
       "500000"
      ]
     },
     "execution_count": 154,
     "metadata": {},
     "output_type": "execute_result"
    }
   ],
   "source": [
    "len(np.concatenate(list(mcmc['RpRs'].values())))"
   ]
  },
  {
   "cell_type": "code",
   "execution_count": 251,
   "metadata": {},
   "outputs": [],
   "source": [
    "fpath = '../WASP43/ut170410/poly_WLC/75nm/MCMC_wl_5300.0_9050.0.pkl'\n",
    "mcmc = utils.pkl_load(fpath)"
   ]
  },
  {
   "cell_type": "code",
   "execution_count": 302,
   "metadata": {},
   "outputs": [
    {
     "name": "stdout",
     "output_type": "stream",
     "text": [
      "b\n",
      "a\n"
     ]
    }
   ],
   "source": [
    "x = {'b':3, 'a':1}\n",
    "for k, v in x.items():\n",
    "    print(k)"
   ]
  },
  {
   "cell_type": "code",
   "execution_count": 333,
   "metadata": {},
   "outputs": [],
   "source": [
    "def plot_corner(params, mcmc, **kwargs):  \n",
    "    # creates another dictionary that just has the entries named in params \n",
    "    sub_param_dict = {k:v for k, v in mcmc.items() if k in params}\n",
    "    # merge all chains into 1 for each param\n",
    "    for k, v in sub_param_dict.items():\n",
    "        sub_param_dict[k] = np.concatenate(list(v.values()))\n",
    "    # order sub_param_dict based on params order and save in param_dict\n",
    "    param_dict = {p:sub_param_dict[p] for p in params}\n",
    "    # create (nsamples x nparams) array for corner plot\n",
    "    samples = np.column_stack((list(param_dict.values())))\n",
    "    # convert labels to latex math mode\n",
    "    if 'RpRs' in params: \n",
    "        params[params.index('RpRs')] = r'$R_\\mathrm{p} / R_\\mathrm{s}$'\n",
    "    if 'a0' in params: \n",
    "        params[params.index('a0')] = r'$a_0$'\n",
    "    if 'a1' in params: \n",
    "        params[params.index('a1')] = r'$a_1$'\n",
    "    if 'a2' in params: \n",
    "        params[params.index('a2')] = r'$a_2$'\n",
    "    if 'sigma_w' in params: \n",
    "        params[params.index('sigma_w')] = r'$\\sigma_\\mathrm{w}$'\n",
    "    if 'sigma_r' in params: \n",
    "        params[params.index('sigma_r')] = r'$\\sigma_\\mathrm{r}$'\n",
    "    p = corner.corner(samples, labels=params, show_titles=True, **kwargs)\n",
    "    return p"
   ]
  },
  {
   "cell_type": "code",
   "execution_count": 332,
   "metadata": {},
   "outputs": [
    {
     "name": "stdout",
     "output_type": "stream",
     "text": [
      "['RpRs', 'sigma_w']\n",
      "yea\n"
     ]
    }
   ],
   "source": [
    "#params = ['RpRs', 'a0', 'a1', 'a2', 'q1', 'q2', 'sigma_w', 'sigma_r']\n",
    "params = ['RpRs', 'sigma_w']\n",
    "p = plot_corner(params, mcmc, \n",
    "                     quantiles=(0.16, 0.84), levels=(1-np.exp(-0.5),))\n",
    "\n",
    "fpath = '../../'\n",
    "p.savefig('/Users/mango/Desktop/test.pdf', bbox_inches='tight')"
   ]
  },
  {
   "cell_type": "markdown",
   "metadata": {},
   "source": [
    "#### Display Plot"
   ]
  },
  {
   "cell_type": "code",
   "execution_count": null,
   "metadata": {},
   "outputs": [],
   "source": [
    "fpath = '../WASP43/ut150309/poly_WLC/75nm/MCMC_wl_5300.0_9800.0.pkl'\n",
    "mcmc_data = pkl_load(fpath)\n",
    "poly_params = ['RpRs', 't0', 'a0', 'a1', 'a2', 'sigma_w', 'sigma_r']\n",
    "\n",
    "plot_corner(poly_params, mcmc_data)\n",
    "plt.show()"
   ]
  },
  {
   "cell_type": "markdown",
   "metadata": {},
   "source": [
    "### WLC Plot"
   ]
  },
  {
   "cell_type": "code",
   "execution_count": 334,
   "metadata": {},
   "outputs": [
    {
     "name": "stdout",
     "output_type": "stream",
     "text": [
      "2457077.7231232035\n"
     ]
    }
   ],
   "source": [
    "fig, ax = plt.subplots(2, 1, figsize=(8, 5), sharex=True, \n",
    "                       gridspec_kw = {'height_ratios':[2, 1]})\n",
    "\n",
    "target = 'WASP43'\n",
    "date = 'ut150224'\n",
    "method = 'poly'\n",
    "binsize = '10nm'\n",
    "if date == 'ut150224' or date == 'ut150309': filt = 'Spectroscopic2'\n",
    "else: filt = 'WB5600-9200'\n",
    "\n",
    "# load data (date: ut, method: poly of pca, binning: wlc)\n",
    "fpath = f'../WASP43/{date}/{method}_WLC/{binsize}/final_LCs.pkl'\n",
    "wlc = utils.pkl_load(fpath)\n",
    "\n",
    "# get stats\n",
    "WLC = utils.get_detr_stats(wlc)\n",
    "print(wlc['t0'])\n",
    "# plot\n",
    "# the [0] is because there is only one entry in the WLC dictionary\n",
    "t = WLC.t_idx\n",
    "ft = WLC.idx_fit\n",
    "ax[0].plot(t, WLC.model[0], '-', color='r') # model\n",
    "ax[0].plot(t[ft], WLC.detLC[0][ft], 'ko', alpha=0.25) # detLC\n",
    "ax[1].plot(t[ft], WLC.resid[0][ft], 'k.', alpha=0.5) # residuals\n",
    "#ax[1].plot(WLC.t_rel, WLC.resid_elvis, 'bo', alpha=0.5) # ELVIS check\n",
    "\n",
    "title = '{} -- {} -- {} wavelet WLC -- {} -- Gri-300-17.5 -- {}'\n",
    "title = title.format(target, date, method, binsize, filt)\n",
    "if sunspot: title += ' -- sunspot'\n",
    "\n",
    "ax[0].set_title(title)\n",
    "fig.tight_layout()\n",
    "fig.show()\n",
    "\n",
    "# save figure\n",
    "dirname = '../journal/Figures/20171220/'\n",
    "fname = '{}_{}_{}_{}.pdf'.format(date, method, 'WLC', binsize)\n",
    "#save_fig(dirname, fname) "
   ]
  },
  {
   "cell_type": "code",
   "execution_count": null,
   "metadata": {},
   "outputs": [],
   "source": [
    "s = 'poly_wavelet_CMC_WLC_sunspot'\n",
    "#s = 'poly_wavelet_CMC_sunspot_WLC_sunspot'\n",
    "\n",
    "#s = s.replace('_WLC_sunspot', '')\n",
    "s = s.replace('_CMC_WLC', '')\n",
    "s = s.replace('_CMC_sunspot_WLC', '')\n",
    "s"
   ]
  },
  {
   "cell_type": "code",
   "execution_count": null,
   "metadata": {},
   "outputs": [],
   "source": [
    "print(np.arange(5300, 9000))"
   ]
  },
  {
   "cell_type": "markdown",
   "metadata": {},
   "source": [
    "#### PCA poly WLC grid plot"
   ]
  },
  {
   "cell_type": "code",
   "execution_count": null,
   "metadata": {
    "code_folding": []
   },
   "outputs": [],
   "source": [
    "# object info\n",
    "target = 'WASP43'\n",
    "date = 'ut150309'\n",
    "filt = 'Spectroscopic2'\n",
    "grism = 'Gri-300-17.5'\n",
    "binning = 'WLC'\n",
    "\n",
    "methods = ['poly', 'pca']\n",
    "binsizes = ['10nm', '18nm', '25nm', '75nm']\n",
    "\n",
    "# plot\n",
    "fig, ax = plt.subplots(2, 4, figsize=(10,7), sharex=True, sharey=True)\n",
    "\n",
    "for i, method in enumerate(methods):\n",
    "    for j, bs in enumerate(binsizes):\n",
    "        # load data (date: ut, method: poly of pca, binning: wlc)\n",
    "        fpath = '../WASP43/{}/{}_{}/{}/final_LCs.pkl'\n",
    "        fpath = fpath.format(date, method, binning, binsize)\n",
    "        wlc = pkl_load(fpath)\n",
    "        # get stats\n",
    "        WLC = get_detr_stats(wlc, use_fitted=True)\n",
    "        ax[i,j].plot(WLC.t_rel, WLC.detLC[0], 'bo', alpha=0.5) # detrended \n",
    "        ax[i,j].plot(WLC.t_rel, WLC.model[0], 'b-') # detrended model\n",
    "        ax[i,j].plot(WLC.t_rel, WLC.resid[0] + 0.99*np.min(WLC.detLC[0]), \n",
    "                     'ro', alpha=0.5) # residuals\n",
    "        #plot_wlc(ax[i,j], date, method, 'WLC', bs)\n",
    "        #plot_resid(ax[i,j], date, method, 'WLC', bs, 0.97)\n",
    "\n",
    "        ax[i,j].set_xlabel(' ')\n",
    "        ax[i,j].set_ylabel(' ')\n",
    "        title = '{} wavelet WLC -- {}'.format(method, bs)\n",
    "        ax[i,j].set_title(title, fontsize=10)\n",
    "\n",
    "#ax[0][0].set_ylim(0.966, 1.003)\n",
    "\n",
    "fig.suptitle('WASP43 -- {} -- {} -- {}'.format(date, filt, grism), \n",
    "                                               fontsize=12)\n",
    "fig.text(0.5, 0, '$t-t_0\\ (hours)$', ha='center')\n",
    "fig.text(0, 0.5, 'relative depth', rotation='vertical', va='center')\n",
    "fig.tight_layout(rect=[0.01, 0.0, 1, 0.95])\n",
    "\n",
    "# save plot\n",
    "dirname = '../journal/Figures/20180117/'\n",
    "fname = '{}_{}_{}_{}.pdf'.format(date, 'poly', 'pca', 'WLC')\n",
    "#save_fig(dirname, fname)"
   ]
  },
  {
   "cell_type": "markdown",
   "metadata": {},
   "source": [
    "## Binned plots"
   ]
  },
  {
   "cell_type": "code",
   "execution_count": 200,
   "metadata": {},
   "outputs": [
    {
     "ename": "FileNotFoundError",
     "evalue": "[Errno 2] No such file or directory: '../WASP43/bak/ut150224/poly_binned_CMC/10nm/final_LCs.pkl'",
     "output_type": "error",
     "traceback": [
      "\u001b[0;31m---------------------------------------------------------------------------\u001b[0m",
      "\u001b[0;31mFileNotFoundError\u001b[0m                         Traceback (most recent call last)",
      "\u001b[0;32m<ipython-input-200-26f6a16691c9>\u001b[0m in \u001b[0;36m<module>\u001b[0;34m()\u001b[0m\n\u001b[1;32m     28\u001b[0m  \u001b[0;31m#                                                         binsize, method)\u001b[0m\u001b[0;34m\u001b[0m\u001b[0;34m\u001b[0m\u001b[0m\n\u001b[1;32m     29\u001b[0m \u001b[0;34m\u001b[0m\u001b[0m\n\u001b[0;32m---> 30\u001b[0;31m \u001b[0mbinned\u001b[0m \u001b[0;34m=\u001b[0m \u001b[0mutils\u001b[0m\u001b[0;34m.\u001b[0m\u001b[0mpkl_load\u001b[0m\u001b[0;34m(\u001b[0m\u001b[0mfpath\u001b[0m\u001b[0;34m)\u001b[0m\u001b[0;34m\u001b[0m\u001b[0m\n\u001b[0m\u001b[1;32m     31\u001b[0m \u001b[0mBinned\u001b[0m \u001b[0;34m=\u001b[0m \u001b[0mutils\u001b[0m\u001b[0;34m.\u001b[0m\u001b[0mget_detr_stats\u001b[0m\u001b[0;34m(\u001b[0m\u001b[0mbinned\u001b[0m\u001b[0;34m)\u001b[0m\u001b[0;34m\u001b[0m\u001b[0m\n\u001b[1;32m     32\u001b[0m \u001b[0;34m\u001b[0m\u001b[0m\n",
      "\u001b[0;32m/Volumes/GoogleDrive/My Drive/mercedes-group/notebook/utils.py\u001b[0m in \u001b[0;36mpkl_load\u001b[0;34m(fn)\u001b[0m\n\u001b[1;32m     26\u001b[0m \u001b[0;31m# pickle loader convenience function\u001b[0m\u001b[0;34m\u001b[0m\u001b[0;34m\u001b[0m\u001b[0m\n\u001b[1;32m     27\u001b[0m \u001b[0;32mdef\u001b[0m \u001b[0mpkl_load\u001b[0m\u001b[0;34m(\u001b[0m\u001b[0mfn\u001b[0m\u001b[0;34m)\u001b[0m\u001b[0;34m:\u001b[0m\u001b[0;34m\u001b[0m\u001b[0m\n\u001b[0;32m---> 28\u001b[0;31m     \u001b[0;32mwith\u001b[0m \u001b[0mopen\u001b[0m\u001b[0;34m(\u001b[0m\u001b[0mfn\u001b[0m\u001b[0;34m,\u001b[0m \u001b[0;34m'rb'\u001b[0m\u001b[0;34m)\u001b[0m \u001b[0;32mas\u001b[0m \u001b[0mf\u001b[0m\u001b[0;34m:\u001b[0m\u001b[0;34m\u001b[0m\u001b[0m\n\u001b[0m\u001b[1;32m     29\u001b[0m         \u001b[0mdata\u001b[0m \u001b[0;34m=\u001b[0m \u001b[0mpickle\u001b[0m\u001b[0;34m.\u001b[0m\u001b[0mload\u001b[0m\u001b[0;34m(\u001b[0m\u001b[0mf\u001b[0m\u001b[0;34m,\u001b[0m \u001b[0mencoding\u001b[0m\u001b[0;34m=\u001b[0m\u001b[0;34m'latin'\u001b[0m\u001b[0;34m)\u001b[0m \u001b[0;31m# Python 2 -> 3\u001b[0m\u001b[0;34m\u001b[0m\u001b[0m\n\u001b[1;32m     30\u001b[0m     \u001b[0;32mreturn\u001b[0m \u001b[0mdata\u001b[0m\u001b[0;34m\u001b[0m\u001b[0m\n",
      "\u001b[0;31mFileNotFoundError\u001b[0m: [Errno 2] No such file or directory: '../WASP43/bak/ut150224/poly_binned_CMC/10nm/final_LCs.pkl'"
     ]
    }
   ],
   "source": [
    "fig, ax = plt.subplots(1, 2, figsize=(6,8), sharex=True, sharey=True)\n",
    "importlib.reload(utils)\n",
    "date= 'ut150224'\n",
    "method = 'poly'\n",
    "#detrending_2 = 'pca'\n",
    "offs = 0.025\n",
    "cmap = 'Spectral_r'\n",
    "binsize = '10nm'\n",
    "CMC = True\n",
    "sunspot = False\n",
    "alpha = 1\n",
    "mew = 0\n",
    "hue = 0.7\n",
    "\n",
    "# load binned pkl\n",
    "fpath = '../WASP43/bak/{}/{}_binned'.format(date, method)\n",
    "title = 'WASP43 {} {} wavelet {}:'.format(date, method, binsize)\n",
    "#fpath = '../WASP43/'+date+'/'+method+'_binned_CMC_sunspot/'+ binsize+'/final_LCs.pkl'\n",
    "if CMC: \n",
    "    fpath += '_CMC'\n",
    "    title += ' CMC '\n",
    "if sunspot: \n",
    "    fpath += '_sunspot'\n",
    "    title += ' sunspot '\n",
    "fpath = '{}/{}/final_LCs.pkl'.format(fpath, binsize)\n",
    "\n",
    "#title = 'WASP43 -- {}_{} -- {} wavelet binned CMC sunspot'.format(date, \n",
    " #                                                         binsize, method)\n",
    "    \n",
    "binned = utils.pkl_load(fpath)\n",
    "Binned = utils.get_detr_stats(binned)\n",
    "\n",
    "# poly plots\n",
    "t_fit = Binned.idx_fit\n",
    "t_rel = Binned.t_rel[t_fit] \n",
    "model = Binned.model\n",
    "detLC = Binned.detLC[:,t_fit] # filter out bad points, model keeps it (for smoothness)\n",
    "\n",
    "\n",
    "ax_binned_data = utils.plot_binned(ax[0], t_rel, detLC, Binned.wbins, offs, \n",
    "                cmap, marker='.', lw=0, alpha=alpha, mew=mew, annotate=False,\n",
    "                                 utc=False, hue=hue)\n",
    "\n",
    "ax_binned_model = utils.plot_binned(ax[0], t_rel, model, \n",
    "                                    Binned.wbins, offs,\n",
    "                              cmap, annotate=False, utc=False)\n",
    "ax_poly_resid = utils.plot_binned(ax[1], t_rel, \n",
    "                                  detLC-model+1, \n",
    "                                  Binned.wbins, offs, cmap, marker='.', \n",
    "                                  lw=0, alpha=alpha, mew=mew, utc=False,\n",
    "                                 hue=hue)\n",
    "ax_poly_resid_base = utils.plot_binned(ax[1], t_rel,\n",
    "                                       1+np.zeros_like(detLC), \n",
    "                                 Binned.wbins, offs, cmap,\n",
    "                                      utc=False)\n",
    "\n",
    "ax_binned_model.set_ylabel('normalized flux + const')\n",
    "\n",
    "fig.tight_layout()\n",
    "\n",
    "fig.suptitle(title)\n",
    "fig.text(0.48, 0, '$t-t_0\\ (hours)$')\n",
    "#ax[0].set_ylim(0.968, 1.133)\n",
    "fig.tight_layout(rect=[0, 0.03, 1, 0.95])\n",
    "\n",
    "#dirname = '../WASP43/{}/{}_binned/{}/'.format(date, method, binsize)\n",
    "#dirname = fpath.replace('final_LCs.pkl', '')\n",
    "#plt.savefig('/Users/mango/Desktop/ut170410.png', bbox_inches='tight', dpi=500)\n",
    "fname = '{}_{}_{}_{}'.format(date, method, 'binned', binsize)\n",
    "if CMC: fname += '_CMC'\n",
    "if sunspot: fname += '_sunspot'\n",
    "if WLC_sunspot: fname += '_WLC_sunspot'\n",
    "#fname += '.pdf'\n",
    "#save: utils.save_fig(dirname, fname)"
   ]
  },
  {
   "cell_type": "markdown",
   "metadata": {},
   "source": [
    "## Noise fitting"
   ]
  },
  {
   "cell_type": "code",
   "execution_count": null,
   "metadata": {},
   "outputs": [],
   "source": [
    "#with open('/Users/mango/Desktop/ut170410_10nm/')\n",
    "fpath = '../WASP43/ut150309/pca_binned/final_LCs.pkl'\n",
    "binned_LC = pkl_load(fpath)"
   ]
  },
  {
   "cell_type": "code",
   "execution_count": null,
   "metadata": {},
   "outputs": [],
   "source": [
    "plt.plot(binned_LC['detLC'][1])"
   ]
  },
  {
   "cell_type": "code",
   "execution_count": null,
   "metadata": {},
   "outputs": [],
   "source": [
    "binned_LC.keys()"
   ]
  },
  {
   "cell_type": "code",
   "execution_count": null,
   "metadata": {},
   "outputs": [],
   "source": [
    "t, t0 = binned_LC['t'], binned_LC['t0']\n",
    "t_dur = 0.0483 * 24 # from http://exoplanets.org/detail/WASP-43\n",
    "t_ing = - t_dur/2\n",
    "t_egr = t_dur/2\n",
    "time = (t - t0) * 24 # make time relative to t0\n",
    "\n",
    "# get out of transit (OOT) indices\n",
    "oot_idx = np.where((time < t_ing) | (time > t_egr))\n",
    "\n",
    "i = 3\n",
    "LC_1 = binned_LC['detLC'][i]\n",
    "plt.plot(time, LC_1, '.', alpha=0.75)\n",
    "plt.plot(time[oot_idx], LC_1[oot_idx], 'r.')\n",
    "plt.axvline(t_ing, c='r', ls='--')\n",
    "plt.axvline(t_egr, c='r', ls='--')\n",
    "\n",
    "plt.xlabel(r'$t-t_0$ (hours)')\n",
    "plt.ylabel(r'$F/F_0$')\n",
    "\n",
    "plt.title('ut170410 $(5300\\AA-6050\\AA)$')\n",
    "\n",
    "#plt.savefig('/Users/mango/Desktop/raw.pdf', bbox_inches='tight')"
   ]
  },
  {
   "cell_type": "code",
   "execution_count": null,
   "metadata": {},
   "outputs": [],
   "source": [
    "n = 3\n",
    "y = LC_1[oot_idx]\n",
    "x = time[oot_idx]\n",
    "p, C_p = np.polyfit(x, y, n, cov=True)\n",
    "t = np.linspace(np.min(x), np.max(x), len(time))\n",
    "TT = np.vstack([t**(n-i) for i in range(n+1)]).T\n",
    "yi = np.dot(TT, p)\n",
    "C_yi = np.dot(TT, np.dot(C_p, TT.T)) # C_y = TT*C_z*TT.T\n",
    "sig_yi = np.sqrt(np.diag(C_yi))\n",
    "\n",
    "plt.plot(t, yi, 'r', label='model', alpha=0.25) # combined oot model\n",
    "plt.plot(x, y, 'ro', label='data', alpha=0.25) # combined oot data\n",
    "\n",
    "y_corr = (y-yi[oot_idx]) + 1#np.mean(yi)\n",
    "plt.plot(x, y_corr, 'b.', label='corrected') # oot corrected\n",
    "\n",
    "it_idx = np.where((time >= t_ing) & (time <= t_egr))\n",
    "diff_it = yi[it_idx] - 1\n",
    "\n",
    "#plt.axhline(np.median(y_corr))\n",
    "\n",
    "plt.xlabel('$(t-t_0)$')\n",
    "plt.ylabel(r'$F/F_0$')\n",
    "plt.title('ut170410 $(5300\\AA-6050\\AA)$')\n",
    "\n",
    "plt.legend(loc='best')\n",
    "\n",
    "#plt.savefig('/Users/mango/Desktop/fit.pdf', bbox_inches='tight')"
   ]
  },
  {
   "cell_type": "code",
   "execution_count": null,
   "metadata": {},
   "outputs": [],
   "source": [
    "fig, ax = plt.subplots(1, 2, sharey=True, figsize=(8,5))\n",
    "it_idx = np.where((time >= t_ing) & (time <= t_egr))\n",
    "\n",
    "ax[0].plot(time, LC_1, 'r.', alpha=0.5)\n",
    "ax[0].set_ylabel(r'$F/F_0$')\n",
    "\n",
    "ax[1].plot(time[oot_idx], (y-yi[oot_idx]) + 1, 'b.')\n",
    "ax[1].plot(time[it_idx], LC_1[it_idx]-diff_it, 'b.')\n",
    "ax[1].plot(time, LC_1, 'r.', alpha=0.25)\n",
    "\n",
    "ax[1].set_title('filler', color='w') # hacky way to make room for suptitle \n",
    "ax[1].set_xlabel('filler', color='w') # hacky way to make room for fig x label\n",
    "\n",
    "fig.suptitle('ut170410 $(5300\\AA-6050\\AA)$')\n",
    "fig.text(0.48, 0, '$t-t_0\\ (hours)$')\n",
    "fig.tight_layout()\n",
    "\n",
    "#plt.savefig('/Users/mango/Desktop/final.pdf', bbox_inches='tight')"
   ]
  },
  {
   "cell_type": "markdown",
   "metadata": {},
   "source": [
    "# Transmission Spectra"
   ]
  },
  {
   "cell_type": "markdown",
   "metadata": {},
   "source": [
    "## $R_p/R_s$ vs. $\\lambda$"
   ]
  },
  {
   "cell_type": "code",
   "execution_count": null,
   "metadata": {},
   "outputs": [],
   "source": [
    "importlib.reload(utils)\n",
    "\n",
    "fig, ax = plt.subplots(figsize=(9,3))\n",
    "\n",
    "# config plot\n",
    "date = 'ut170410'\n",
    "CMC = True\n",
    "sunspot = True\n",
    "bin_list = ['75nm', '25nm', '10nm', '18nm']\n",
    "color_list = ['y', 'b', 'r', 'g'] # color for each binsize plotted\n",
    "path = '../WASP43/{}/poly_binned'.format(date)\n",
    "if CMC: path += '_CMC'\n",
    "if sunspot: path += '_sunspot'\n",
    "# call the plot\n",
    "utils.trans_spec_plot(ax, bin_list, color_list, path, 'o')\n",
    "\n",
    "# set title and ax dimensions \n",
    "title = path\n",
    "    \n",
    "ax.set_title(title)\n",
    "ax.set_xlim(5000, 9000)\n",
    "ax.set_ylim(0.150, 0.164)\n",
    "\n",
    "# save\n",
    "fname = 'trans_spec_{}.pdf'.format(path.split('/')[-1])\n",
    "#utils.save_fig(path, fname)"
   ]
  },
  {
   "cell_type": "markdown",
   "metadata": {},
   "source": [
    "## ut150224 transmission spectra grid"
   ]
  },
  {
   "cell_type": "code",
   "execution_count": null,
   "metadata": {},
   "outputs": [],
   "source": [
    "def get_path(CMC, sunspot, WLC_sunspot):\n",
    "    # load binned pkl\n",
    "    fpath = '../WASP43/{}/{}_binned'.format(date, method)\n",
    "    title = 'WASP43 {} {}:'.format(date, method)\n",
    "    #fpath = '../WASP43/'+date+'/'+method+'_binned_CMC_sunspot/'+ binsize+'/final_LCs.pkl'\n",
    "    if CMC: \n",
    "        fpath += '_CMC'\n",
    "        title += ' CMC '\n",
    "    if sunspot: \n",
    "        fpath += '_sunspot'\n",
    "        title += ' sunspot '\n",
    "    if WLC_sunspot and CMC: \n",
    "        fpath += '_WLC_sunspot'\n",
    "        title += ' WLC_sunspot '\n",
    "    #fpath = '{}/{}'.format(fpath, binsize)\n",
    "    \n",
    "    return fpath, title "
   ]
  },
  {
   "cell_type": "code",
   "execution_count": null,
   "metadata": {},
   "outputs": [],
   "source": [
    "fig, axes = plt.subplots(3, 2, sharex=True, sharey=True, figsize=(10,6))\n",
    "axes = axes.flatten()\n",
    "date = 'ut150224'\n",
    "paths = [[False, False, False], [False, True, False],\n",
    "         [True, False, False],  [True, True, False],\n",
    "         [True, False, True],   [True, True, True]]\n",
    "\n",
    "bin_list = ['75nm']\n",
    "color_list = ['y']\n",
    "#for path in paths:\n",
    "for ax, path in zip(axes, paths):\n",
    "    fpath, title = get_path(CMC=path[0], sunspot=path[1], WLC_sunspot=path[2])\n",
    "    #print(fpath)\n",
    "    a = trans_spec_plot(ax, bin_list, color_list, fpath, 'o')\n",
    "    a.set_title(title)\n",
    "    \n",
    "fig.tight_layout()\n",
    "dirname = '../../mercedes-group/meeting/20181603'\n",
    "fname = 'ut150224_spec_grid.pdf'\n",
    "utils.save_fig(dirname, fname)"
   ]
  },
  {
   "cell_type": "markdown",
   "metadata": {},
   "source": [
    "## $R_p / R_s$ vs. binsize "
   ]
  },
  {
   "cell_type": "code",
   "execution_count": 227,
   "metadata": {},
   "outputs": [],
   "source": [
    "importlib.reload(utils)\n",
    "date= 'ut170410'\n",
    "method = 'poly'\n",
    "binsize = 'bintest'\n",
    "CMC = True\n",
    "sunspot = False\n",
    "\n",
    "fpath = f'../WASP43/{date}/{method}_binned'\n",
    "\n",
    "title = f'WASP43 {date} {method} wavelet {binsize}:'\n",
    "if CMC: \n",
    "    fpath += '_CMC'\n",
    "    title += ' CMC '\n",
    "if sunspot: \n",
    "    fpath += '_sunspot'\n",
    "    title += ' sunspot '\n",
    "\n",
    "fpath = f'{fpath}/{binsize}/posteriors.pkl'\n",
    "# load up stats data\n",
    "post = utils.pkl_load(fpath)\n",
    "post.keys()\n",
    "\n",
    "# initialize dictionary that holds summary stats of each bin\n",
    "# e.g. median, LCI, and UCI of RpRs\n",
    "# keeping these separate for easy plotting later\n",
    "names_species = ['$NaI-D$', r'$H\\alpha$', '$K1\\_$avg', '$NaI-8200\\_avg$']\n",
    "centers_species = [5892.9, 6564.6, 7682.0, 8189.0]\n",
    "widths_species = [42, 12, 45, 34]\n",
    "names_baseline = ['blue baseline', 'red baseline']\n",
    "centers_baseline = [5580.0, 8730.0]\n",
    "widths_baseline = [0, 0]\n",
    "\n",
    "names = names_species + names_baseline\n",
    "centers = centers_species + centers_baseline\n",
    "widths = widths_species + widths_baseline\n",
    "bin_info = {}\n",
    "for name, center, width in zip(names, centers, widths):\n",
    "    bin_info[name] = {'center':center, 'width':width, 'RpRs':{}}\n",
    "\n",
    "# fill in the dictionary\n",
    "for wl_min, wl_max, rprs, rprs_p, rprs_m in zip(\n",
    "    post['wl_mins'], post['wl_maxs'], \n",
    "    post['RpRs']['meds'], post['RpRs']['UCIs'], post['RpRs']['LCIs']):\n",
    "    l, r = wl_min, wl_max\n",
    "    bin_cen = (r + l) / 2\n",
    "    bin_size = r - l\n",
    "    for k, v in bin_info.items():\n",
    "        if bin_info[k]['center'] == bin_cen: \n",
    "            bin_info[k]['RpRs'][bin_size] = {'med':rprs, \n",
    "                                             'UCI':rprs_p,\n",
    "                                             'LCI':rprs_m}\n",
    "\n",
    "# split (well, copy) into separate species and baseline dict\n",
    "bin_info_species = {k:bin_info[k] for k in names_species}\n",
    "bin_info_baseline = {k:bin_info[k] for k in names_baseline}\n",
    "\n",
    "# and plot\n",
    "fig, axes = plt.subplots(2, 2, sharex=True, sharey=True)\n",
    "\n",
    "for ax, name_species in zip(axes.flatten(), bin_info_species.keys()):\n",
    "    utils.plot_bintest(ax, bin_info_species, name_species, c='g')\n",
    "    utils.plot_bintest(ax, bin_info_baseline, 'blue baseline', c='b')\n",
    "    utils.plot_bintest(ax, bin_info_baseline, 'red baseline', c='r')\n",
    "    # over plot species widths\n",
    "    ax.axvline(bin_info_species[name_species]['width'], ls='--', \n",
    "               c='k', alpha=0.25)\n",
    "    ax.set_title(name_species)\n",
    "    \n",
    "fig.suptitle(title)\n",
    "fig.tight_layout(rect=[0.01, 0.0, 1, 0.95])\n",
    "\n",
    "dirname = '../meeting/20180404'\n",
    "fname = f'{title}.pdf'\n",
    "utils.save_fig(dirname, fname)"
   ]
  }
 ],
 "metadata": {
  "kernelspec": {
   "display_name": "Python 3",
   "language": "python",
   "name": "python3"
  },
  "language_info": {
   "codemirror_mode": {
    "name": "ipython",
    "version": 3
   },
   "file_extension": ".py",
   "mimetype": "text/x-python",
   "name": "python",
   "nbconvert_exporter": "python",
   "pygments_lexer": "ipython3",
   "version": "3.6.4"
  },
  "toc": {
   "colors": {
    "hover_highlight": "#DAA520",
    "navigate_num": "#fc151b",
    "navigate_text": "#92a2be",
    "running_highlight": "#FF0000",
    "selected_highlight": "#FFD700",
    "sidebar_border": "#EEEEEE",
    "wrapper_background": "#FFFFFF"
   },
   "moveMenuLeft": true,
   "nav_menu": {
    "height": "433px",
    "width": "590px"
   },
   "navigate_menu": true,
   "number_sections": false,
   "sideBar": true,
   "threshold": 4,
   "toc_cell": false,
   "toc_section_display": "block",
   "toc_window_display": false,
   "widenNotebook": false
  },
  "varInspector": {
   "cols": {
    "lenName": 16,
    "lenType": 16,
    "lenVar": 40
   },
   "kernels_config": {
    "python": {
     "delete_cmd_postfix": "",
     "delete_cmd_prefix": "del ",
     "library": "var_list.py",
     "varRefreshCmd": "print(var_dic_list())"
    },
    "r": {
     "delete_cmd_postfix": ") ",
     "delete_cmd_prefix": "rm(",
     "library": "var_list.r",
     "varRefreshCmd": "cat(var_dic_list()) "
    }
   },
   "types_to_exclude": [
    "module",
    "function",
    "builtin_function_or_method",
    "instance",
    "_Feature"
   ],
   "window_display": false
  }
 },
 "nbformat": 4,
 "nbformat_minor": 2
}
