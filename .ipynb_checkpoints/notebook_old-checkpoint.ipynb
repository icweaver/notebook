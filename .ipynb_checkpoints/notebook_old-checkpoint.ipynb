{
 "cells": [
  {
   "cell_type": "markdown",
   "metadata": {},
   "source": [
    "# Imports"
   ]
  },
  {
   "cell_type": "code",
   "execution_count": 5,
   "metadata": {
    "code_folding": []
   },
   "outputs": [],
   "source": [
    "import matplotlib.pyplot as plt\n",
    "import matplotlib as mpl\n",
    "import numpy as np\n",
    "import seaborn as sns\n",
    "import glob\n",
    "import pickle\n",
    "import corner\n",
    "import scipy.optimize\n",
    "import re\n",
    "import os\n",
    "\n",
    "from astropy.io import fits, ascii\n",
    "from astropy.table import Table\n",
    "from astropy.time import Time\n",
    "from collections import Counter\n",
    "from matplotlib.colors import LogNorm\n",
    "from matplotlib.widgets import Slider\n",
    "from scipy import stats\n",
    "from collections import OrderedDict\n",
    "\n",
    "from __future__ import division\n",
    "\n",
    "%matplotlib qt5\n",
    "plt.ion()\n",
    "\n",
    "sns.set_context('paper')\n",
    "sns.set_style('darkgrid')\n",
    "sns.set_color_codes('deep')\n",
    "\n",
    "# pickle loader convenience function\n",
    "def pkl_load(fn): \n",
    "    with open(fn, 'rb') as f: \n",
    "        data = pickle.load(f, encoding='latin') # Python 2 -> 3\n",
    "    return data\n",
    "\n",
    "# fits loader convenience function\n",
    "def fits_data(fn): \n",
    "    with open(fn) as f: \n",
    "        data = fits.open(fn)[0].data\n",
    "        return data\n",
    "def fits_header(fn): \n",
    "    with open(fn) as f: \n",
    "        header = fits.open(fn)[0].header\n",
    "        return header"
   ]
  },
  {
   "cell_type": "markdown",
   "metadata": {},
   "source": [
    "# Wavelength Calibration"
   ]
  },
  {
   "cell_type": "markdown",
   "metadata": {},
   "source": [
    "Some of the lamp spectra through the target and comparison star slits are completely shifted off of the reference lamp spectra, so guess_lines.py can't be used. Instead, the lines will be indentified manually from http://www.lco.cl/telescopes-information/magellan/instruments/imacs/imacs-spectral-atlas/imacs-spectral-atlas.\n",
    "\n",
    "To make things a little easier, this routine will will automatically record the pixel coordinate from a mouse press to save me an extra step in writing down the pixel/wavelength values."
   ]
  },
  {
   "cell_type": "code",
   "execution_count": null,
   "metadata": {
    "code_folding": []
   },
   "outputs": [],
   "source": [
    "# read in desired lamp spec\n",
    "name = 'WASP43b_8'\n",
    "path = '../wavelength_calibration/arcs_ut150224/stage/' + name + '_arc.fits'\n",
    "#path = '/Users/mango/Desktop/HeNeAr_gris300.fits'\n",
    "data = fits_load(path)\n",
    "\n",
    "pix_loc = []\n",
    "\n",
    "# display and record pix location on 'x' key press\n",
    "def on_key(event): \n",
    "    if (event.key == 'x' or event.key == 'X') and event.inaxes == ax:\n",
    "        x = event.xdata\n",
    "        y = event.ydata\n",
    "        \n",
    "        plt.axvline(x, c='r', ls='--', lw=0.5)\n",
    "        ax.plot(x, y, 'rX', ms=10)\n",
    "        x = str( np.round(x, 4) )\n",
    "        pix_loc.append(x)\n",
    "        \n",
    "    fig.canvas.draw()\n",
    "\n",
    "fig, ax = plt.subplots(figsize = (15,4))\n",
    "\n",
    "#ax.cla()\n",
    "ax.plot(data)\n",
    "ax.set_title(name)\n",
    "ax.set_xlabel('pixel')\n",
    "ax.set_ylabel('flux (arbitrary units)')\n",
    "#[ax.axvline(xc, lw=0.5, ls = '--', c='r', alpha=0.5) for xc in arc_lines['pix']]\n",
    "    \n",
    "fig.tight_layout()\n",
    "cid = fig.canvas.mpl_connect('key_press_event', on_key)"
   ]
  },
  {
   "cell_type": "code",
   "execution_count": null,
   "metadata": {
    "code_folding": []
   },
   "outputs": [],
   "source": [
    "f = open('/Users/mango/Desktop/test.txt', 'wb')\n",
    "for pix in pix_loc:\n",
    "    f.write(\"%s\\n\" % pix)\n",
    "f.close()"
   ]
  },
  {
   "cell_type": "code",
   "execution_count": null,
   "metadata": {},
   "outputs": [],
   "source": [
    "for f in glob.glob('../wavelength_calibration/arcs_ut170410/comp*line*'):\n",
    "    t = ascii.read(f)\n",
    "    l = f.split('/')[-1]\n",
    "    plt.plot(t['Pix'], t['Wav'], 'o', label=l, alpha=0.5)\n",
    "    \n",
    "plt.legend(loc='best')"
   ]
  },
  {
   "cell_type": "markdown",
   "metadata": {},
   "source": [
    "### noao line lines"
   ]
  },
  {
   "cell_type": "code",
   "execution_count": null,
   "metadata": {
    "code_folding": []
   },
   "outputs": [],
   "source": [
    "plt.figure(figsize=(15,4))\n",
    "arc_lines = ascii.read('../wavelength_calibration/noao/ref_linelist.txt')\n",
    "hdu = fits.open('../wavelength_calibration/noao/noao.fits')\n",
    "\n",
    "data = hdu[0].data\n",
    "hdu.close()\n",
    "\n",
    "wavs = arc_lines['Fit']\n",
    "xs = arc_lines['Pixel']\n",
    "ys = []\n",
    "for x_guess in xs:\n",
    "    ys.append(data[int(x_guess)])\n",
    "plt.plot(data, c='orange')\n",
    "[plt.axvline(xc, lw=0.5, ls = '--', c='b', alpha=0.5) for xc in xs]\n",
    "[plt.annotate(str(wav), (s_x, s_y)) for wav, s_x, s_y in zip(wavs, xs, ys)]\n",
    "\n",
    "plt.title('noao reference')\n",
    "plt.xlabel('pixel')\n",
    "plt.ylabel('arbitrary flux')\n",
    "\n",
    "plt.tight_layout()\n",
    "\n",
    "plt.show()"
   ]
  },
  {
   "cell_type": "markdown",
   "metadata": {},
   "source": [
    "### lco lamp lines"
   ]
  },
  {
   "cell_type": "code",
   "execution_count": null,
   "metadata": {},
   "outputs": [],
   "source": [
    "plt.figure(figsize=(15,4))\n",
    "arc_lines = ascii.read('/Users/mango/Dropbox/mercedes-group/wavelength_calibration/lco_lines.txt')\n",
    "\n",
    "hdu = fits.open('/Users/mango/Dropbox/mercedes-group/wavelength_calibration/HeNeAr_gris300.fits')\n",
    "data = hdu[0].data\n",
    "hdu.close()\n",
    "\n",
    "wavs = arc_lines['wav']\n",
    "xs = arc_lines['pix']\n",
    "ys = []\n",
    "for x_guess in xs:\n",
    "    ys.append(data[int(x_guess)])\n",
    "plt.plot(data, c='orange')\n",
    "[plt.axvline(xc, lw=0.5, ls = '--', c='b', alpha=0.5) for xc in xs]\n",
    "[plt.annotate(str(wav), (s_x, s_y)) for wav, s_x, s_y in zip(wavs, xs, ys)]\n",
    "\n",
    "plt.title('lco reference')\n",
    "plt.xlabel('pixel')\n",
    "plt.ylabel('arbitrary flux')\n",
    "\n",
    "plt.tight_layout()\n",
    "\n",
    "plt.show()"
   ]
  },
  {
   "cell_type": "markdown",
   "metadata": {},
   "source": [
    "### calibration file check"
   ]
  },
  {
   "cell_type": "code",
   "execution_count": null,
   "metadata": {
    "scrolled": true
   },
   "outputs": [],
   "source": [
    "def cal_plot(ax, guess_path, data_path, c):\n",
    "    #guess_lines = ascii.read('../wavelength_calibration/arcs_ut150309/comp1_lines_chips.txt')\n",
    "    guess_lines = ascii.read(guess_path)\n",
    "\n",
    "    #hdu = fits.open('../wavelength_calibration/arcs_ut150309/comp1_2_arc.fits')\n",
    "    #data = hdu[0].data\n",
    "    #hdu.close()\n",
    "    data = fits_load(data_path)\n",
    "\n",
    "    wavs = guess_lines['Wav']\n",
    "    xs = guess_lines['Pix']\n",
    "    ys = []\n",
    "    for x_guess in xs:\n",
    "        ys.append(data[int(x_guess)])\n",
    "\n",
    "    ax.plot(data, c=c)\n",
    "    [ax.axvline(xc, lw=0.5, ls = '--', c='k', alpha=0.5) for xc in xs]\n",
    "    [ax.annotate(str(wav), (s_x, s_y)) for wav, s_x, s_y in zip(wavs, xs, ys)]\n",
    "\n",
    "    ax.set_xlabel('pixel')\n",
    "    ax.set_ylabel('arbitrary flux')\n",
    "    \n",
    "    title = '{}: {} + {}'.format(guess_path.split('/')[-2],\n",
    "        guess_path.split('/')[-1], data_path.split('/')[-1])\n",
    "    ax.set_title(title)"
   ]
  },
  {
   "cell_type": "code",
   "execution_count": null,
   "metadata": {},
   "outputs": [],
   "source": [
    "fig, ax = plt.subplots(figsize=(15,4))\n",
    "\n",
    "guess_path = '../wavelength_calibration/arcs_ut150309/comp1_lines_chips.txt'\n",
    "data_path = '../wavelength_calibration/arcs_ut150309/comp1_2_arc.fits'\n",
    "\n",
    "cal_plot(ax, guess_path, data_path, 'orange')\n",
    "\n",
    "fig.tight_layout()"
   ]
  },
  {
   "cell_type": "markdown",
   "metadata": {},
   "source": [
    "### Compare Calibrations between datasets"
   ]
  },
  {
   "cell_type": "code",
   "execution_count": null,
   "metadata": {},
   "outputs": [],
   "source": [
    "fig, ax = plt.subplots(2, 1, figsize=(15,6), sharex=True, sharey=True)\n",
    "\n",
    "guess_path = '../wavelength_calibration/arcs_ut150224/comp6_lines_chips.txt'\n",
    "data_path = '../wavelength_calibration/arcs_ut150224/comp6_2_arc.fits'\n",
    "cal_plot(ax[0], guess_path, data_path, 'b')\n",
    "\n",
    "guess_path = '../wavelength_calibration/arcs_ut150309/comp6_lines_chips.txt'\n",
    "data_path = '../wavelength_calibration/arcs_ut150309/comp6_2_arc.fits'\n",
    "cal_plot(ax[1], guess_path, data_path, 'r')\n",
    "\n",
    "fig.tight_layout()"
   ]
  },
  {
   "cell_type": "markdown",
   "metadata": {},
   "source": [
    "### Overview Line List Inspection"
   ]
  },
  {
   "cell_type": "code",
   "execution_count": null,
   "metadata": {
    "code_folding": []
   },
   "outputs": [],
   "source": [
    "fig, axis = plt.subplots(2, 4, figsize = (14,5))\n",
    "\n",
    "ax_list = []\n",
    "for i in range(2):\n",
    "    for j in range(4):\n",
    "        ax_list.append(axis[i][j])\n",
    "\n",
    "#read in spectra and line lists\n",
    "spec_list = []\n",
    "line_lists = []\n",
    "title_list = []\n",
    "for i in glob.glob('../wavelength_calibration/arcs_ut150224/stage/*arc.fits'):\n",
    "    hdu = fits.open(i)\n",
    "    spec = hdu[0].data # data\n",
    "    spec_list.append(spec)\n",
    "    title_list.append(i.split('/')[-1])\n",
    "    hdu.close()\n",
    "    \n",
    "for i in glob.glob('../wavelength_calibration/arcs_ut150224/*lines*txt'):\n",
    "    lines = ascii.read(i)\n",
    "    line_lists.append(lines)\n",
    "\n",
    "k = 0\n",
    "z = 0\n",
    "xs_list = []\n",
    "for ax, spec, lines, ti in zip(ax_list, spec_list, line_lists, title_list):\n",
    "    wavs = lines['Wav']\n",
    "    xs = lines['Pix']\n",
    "    xs_list.append(xs)\n",
    "    ys = []\n",
    "    for x_guess in xs:\n",
    "        ys.append(spec[int(x_guess)])\n",
    "\n",
    "    ax.plot(spec, c='orange')\n",
    "    ax.set_title(ti)\n",
    "    [ax.axvline(xc, lw=0.5, ls = '--', c='b', alpha=0.5) for xc in xs]\n",
    "    [ax.annotate(str(wav), (s_x, s_y), fontsize=12) for wav, s_x, s_y in zip(wavs, xs, ys)]\n",
    "\n",
    "    i = 0\n",
    "\n",
    "def on_key(event): # pan and zoom each plot key press\n",
    "    global i\n",
    "    if (event.key == 'n' or event.key == 'N'):\n",
    "        for ax, spec, lines in zip(ax_list, spec_list, line_lists):\n",
    "            wavs = lines['Wav']\n",
    "            xs = lines['Pix']\n",
    "            xs_list.append(xs)\n",
    "            ys = []\n",
    "            for x_guess in xs:\n",
    "                ys.append(spec[int(x_guess)])\n",
    "\n",
    "            ax.set_xlim(xs[i] - 50, xs[i] + 50)\n",
    "            ax.set_ylim(ys[i]*-0.1, ys[i]*3)\n",
    "\n",
    "        i += 1\n",
    "        if (i > len(xs) - 1): # go back to beginning after reaching end\n",
    "            i = 0\n",
    "            \n",
    "\n",
    "    fig.canvas.draw()\n",
    "\n",
    "\n",
    "fig.tight_layout()\n",
    "cid = fig.canvas.mpl_connect('key_press_event', on_key)"
   ]
  },
  {
   "cell_type": "markdown",
   "metadata": {},
   "source": [
    "### Line List Check"
   ]
  },
  {
   "cell_type": "code",
   "execution_count": null,
   "metadata": {},
   "outputs": [],
   "source": [
    "def plot_line_pix(ax, lines_chips_path):\n",
    "    data = ascii.read(lines_chips_path)\n",
    "    wav, pix = data['Wav'], data['Pix']\n",
    "    \n",
    "    ax.plot(wav, pix, label=lines_chips_path.split('/'))\n",
    "    \n",
    "    return ax"
   ]
  },
  {
   "cell_type": "code",
   "execution_count": null,
   "metadata": {},
   "outputs": [],
   "source": [
    "fig, ax = plt.subplots()\n",
    "\n",
    "#fnames = glob.glob('../wavelength_calibration/arcs_ut150224/*lines*.txt')\n",
    "fnames = glob.glob('../wavelength_calibration/arcs_ut150*/comp*_lines*')\n",
    "\n",
    "p = [plot_line_pix(ax, fname) for fname in fnames]\n",
    "\n",
    "ax.legend()"
   ]
  },
  {
   "cell_type": "markdown",
   "metadata": {},
   "source": [
    "# File Inspection"
   ]
  },
  {
   "cell_type": "markdown",
   "metadata": {
    "heading_collapsed": true
   },
   "source": [
    "### trace check"
   ]
  },
  {
   "cell_type": "code",
   "execution_count": null,
   "metadata": {
    "hidden": true
   },
   "outputs": [],
   "source": [
    "os.chdir('/Users/mango/tepspec/IMACS/')"
   ]
  },
  {
   "cell_type": "code",
   "execution_count": null,
   "metadata": {},
   "outputs": [],
   "source": [
    "obj_xx = pkl_load('/Users/mango/Desktop/ut150224_trace/XX.pkl')\n",
    "obj_yy = pkl_load('/Users/mango/Desktop/ut150224_trace/YY.pkl')\n",
    "\n",
    "obj = 'comp6_5'\n",
    "sci = len(obj_xx[obj]) # number of science images\n",
    "p = [plt.plot(obj_xx[obj][i], obj_yy[obj][i], c='b') for i in range(sci)]"
   ]
  },
  {
   "cell_type": "code",
   "execution_count": null,
   "metadata": {
    "hidden": true
   },
   "outputs": [],
   "source": [
    "#import TEPSPEC_Util\n",
    "fpath = '../WASP43/ut150224/tepspec_final/Objects_trace.pkl'\n",
    "obj_trace = pkl_load(fpath)"
   ]
  },
  {
   "cell_type": "code",
   "execution_count": null,
   "metadata": {
    "hidden": true
   },
   "outputs": [],
   "source": [
    "obj = ''\n",
    "\n",
    "[plt.plot(obj_xx[obj][i], obj_yy[obj][i], '.', label=i) for i in range(18, 26)]\n",
    "\n",
    "plt.legend()\n",
    "plt.xlabel('X')\n",
    "plt.ylabel('Y')\n",
    "\n",
    "#plt.savefig(\"/Users/mango/Desktop/raw_traces.png\", bbox_inches='tight')"
   ]
  },
  {
   "cell_type": "markdown",
   "metadata": {},
   "source": [
    "### spec files"
   ]
  },
  {
   "cell_type": "code",
   "execution_count": null,
   "metadata": {},
   "outputs": [],
   "source": [
    "import os\n",
    "import sys\n",
    "sys.path.append(\"../ExtraCodes/BaryCor/\")\n",
    "sys.path.append(\"../ExtraCodes/Orders/\")"
   ]
  },
  {
   "cell_type": "code",
   "execution_count": null,
   "metadata": {},
   "outputs": [],
   "source": [
    "os.chdir(\"/Users/mango/tepspec/IMACS/\")"
   ]
  },
  {
   "cell_type": "code",
   "execution_count": null,
   "metadata": {},
   "outputs": [],
   "source": [
    "fpath = '/Users/mango/Desktop/spec_files/WASP43b_8_spec_ut150309.fits'\n",
    "spec_ut150309 = fits_data(fpath)"
   ]
  },
  {
   "cell_type": "code",
   "execution_count": null,
   "metadata": {},
   "outputs": [],
   "source": [
    "fpath = '/Users/mango/Desktop/Objects_trace.pkl'\n",
    "obj = pkl_load(fpath)"
   ]
  },
  {
   "cell_type": "code",
   "execution_count": null,
   "metadata": {},
   "outputs": [],
   "source": [
    "fpath = './Objects_arc.pkl'\n",
    "arc_file = pkl_load(fpath)"
   ]
  },
  {
   "cell_type": "code",
   "execution_count": null,
   "metadata": {},
   "outputs": [],
   "source": [
    "hdu = fits.open(\"./comp3_1_spec.fits\")\n",
    "comp3_1 = hdu[0].data\n",
    "hdu.close()\n",
    "\n",
    "hdu = fits.open(\"./comp1_2_spec.fits\")\n",
    "comp1_2 = hdu[0].data\n",
    "hdu.close()\n",
    "\n",
    "hdu = fits.open(\"./comp4_4_spec.fits\")\n",
    "comp4_4 = hdu[0].data\n",
    "hdu.close()"
   ]
  },
  {
   "cell_type": "code",
   "execution_count": null,
   "metadata": {},
   "outputs": [],
   "source": [
    "for fn in glob.glob(\"./*spec.fits\"):\n",
    "    hdu = fits.open(fn)\n",
    "    data = hdu[0].data\n",
    "    hdu.close()\n",
    "\n",
    "    for i in range(len((data[:,1,:]))):\n",
    "        ihttp://localhost:8889/notebooks/notebook.ipynb#f np.sum(data[i,1,:]) == 0:\n",
    "            print ('problem', i, fn)"
   ]
  },
  {
   "cell_type": "code",
   "execution_count": null,
   "metadata": {},
   "outputs": [],
   "source": [
    "\"\"\"\n",
    "plots items in <object>_spec.fits files.\n",
    "spec_item:\n",
    "0: Wavelength\n",
    "1: Simple extracted object spectrum\n",
    "2: Simple extracted flat spectrum\n",
    "3: Pixel sensitivity (obtained by the flat)\n",
    "4: Simple extracted object spectrum/pixel sensitivity\n",
    "5: Sky flag (0 = note uneven sky, 1 = probably uneven profile, 2 = Sky_Base failed)\n",
    "6: Optimally extracted object spectrum\n",
    "7: Optimally extracted object spectrum/pixel sensitivity\n",
    "\"\"\"\n",
    "def spec_plot(spec_item):\n",
    "    fig, axs = plt.subplots(1,2,figsize=(10,3))\n",
    "    sns.set_style(\"darkgrid\")\n",
    "\n",
    "    objs = ['comp4_4', 'comp4_4']\n",
    "    for ax, obj in zip(axs, objs):\n",
    "        hdu = fits.open('/Users/mango/Desktop/'+obj+'_spec.fits')\n",
    "        data = hdu[0].data\n",
    "        hdu.close()\n",
    "        \n",
    "        # data[number of sci frames, spec_items, pixel height of spectrum (2048)]\n",
    "        # by 'height' I mean in spectral direction\n",
    "        for i in range(len(data[:,0,0])):\n",
    "            ax.plot(data[i,spec_item,:])\n",
    "        \n",
    "        #ax.set_title(obj.split('_')[-1])\n",
    "        \n",
    "    fig.tight_layout()\n",
    "    fig.show()\n",
    "\n",
    "spec_plot(0)"
   ]
  },
  {
   "cell_type": "markdown",
   "metadata": {},
   "source": [
    "### File Inspection"
   ]
  },
  {
   "cell_type": "code",
   "execution_count": null,
   "metadata": {},
   "outputs": [],
   "source": [
    "path_list = glob.glob(\n",
    "    '/Users/mango/data/ACCESS/IMACS/WASP43/ut150224/*0*.fits')\n",
    "\n",
    "filenames = []\n",
    "objects = []\n",
    "for path in path_list:\n",
    "    with open(path) as f:\n",
    "        hdu = fits.open(f)\n",
    "        filename = hdu[0].header['FILENAME']\n",
    "        obj     = hdu[0].header['OBJECT']\n",
    "    #airmass = hdu[0].header['AIRMASS']\n",
    "    #am.append(airmass)\n",
    "        if ('c8' in filename and 'science' in obj): # other chips redundant for ID purposes\n",
    "    #    object_dict.update({filename:obj})\n",
    "            filenames.append(filename)    \n",
    "            objects.append(obj)\n",
    "#for key in sorted(object_dict.iterkeys()):\n",
    "#    print key, object_dict[key]"
   ]
  },
  {
   "cell_type": "code",
   "execution_count": null,
   "metadata": {},
   "outputs": [],
   "source": [
    "t = Table()\n",
    "t['fnames'] = filenames\n",
    "t['type'] = objects\n",
    "\n",
    "t.sort('fnames')\n",
    "t"
   ]
  },
  {
   "cell_type": "code",
   "execution_count": null,
   "metadata": {},
   "outputs": [],
   "source": [
    "plt.plot(object_dict.values(), '.')"
   ]
  },
  {
   "cell_type": "code",
   "execution_count": null,
   "metadata": {},
   "outputs": [],
   "source": [
    "import re\n",
    "sc_counter = 0\n",
    "sci_frame = []\n",
    "for k, v in object_dict.iteritems():\n",
    "    if 'science' in v:\n",
    "        sc_counter += 1z\n",
    "        file_num = re.split('t|c', k) # get number portion of filename\n",
    "        sci_frame.append(file_num[1])\n",
    "sci_frame = np.sort(sci_frame)\n",
    "print sc_counter"
   ]
  },
  {
   "cell_type": "markdown",
   "metadata": {
    "heading_collapsed": true
   },
   "source": [
    "### For adding full flats from WASP-19 to WASP-43 ut170410 dataset"
   ]
  },
  {
   "cell_type": "code",
   "execution_count": null,
   "metadata": {
    "hidden": true
   },
   "outputs": [],
   "source": [
    "full_flats = []\n",
    "for i, j in object_dict.items():\n",
    "    if 'full' in j and 'c8' in i:\n",
    "        print i,j\n",
    "        full_flats.append(i)"
   ]
  },
  {
   "cell_type": "markdown",
   "metadata": {
    "hidden": true
   },
   "source": [
    "#### Airmass filter"
   ]
  },
  {
   "cell_type": "code",
   "execution_count": null,
   "metadata": {
    "hidden": true
   },
   "outputs": [],
   "source": [
    "path_list = glob.glob(\n",
    "    '/data/ACCESS/IMACS/WASP43/ut150224/*0*.fits')\n",
    "\n",
    "filename_list = []\n",
    "for path in path_list:\n",
    "    hdu = fits.open(path)\n",
    "    filename = hdu[0].header['FILENAME']\n",
    "    airmass = hdu[0].header['AIRMASS']\n",
    "    obj     = hdu[0].header['OBJECT']\n",
    "    hdu.close()\n",
    "    #if obj == 'science image':\n",
    "    #    i += 1\n",
    "    #print obj, filename\n",
    "    if ((airmass >= 1.5) and ('c8' in filename) and 'sci' in obj): #and (obj == 'science image'):\n",
    "        #filename_list.append(filename)\n",
    "        print filename, obj\n",
    "    #if ('science frame wasp43' in obj and 'c8' in filename):\n",
    "    #    filename_list.append(filename)"
   ]
  },
  {
   "cell_type": "code",
   "execution_count": null,
   "metadata": {
    "hidden": true
   },
   "outputs": [],
   "source": [
    "fig, ax = plt.subplots(1,1)\n",
    "\n",
    "ax.plot([1,2,3,4])\n",
    "ax.axvline(1)\n",
    "fig.show()"
   ]
  },
  {
   "cell_type": "markdown",
   "metadata": {
    "heading_collapsed": true
   },
   "source": [
    "### Trace Centroid Check"
   ]
  },
  {
   "cell_type": "code",
   "execution_count": null,
   "metadata": {
    "hidden": true
   },
   "outputs": [],
   "source": [
    "fpath = '/Users/mango/Desktop/XX.pkl\n",
    "xx = pkl_load(fpath)\n",
    "fpath = '/Users/mango/Desktop/YY.pkl\n",
    "yy = pkl_load(fpath)"
   ]
  },
  {
   "cell_type": "code",
   "execution_count": null,
   "metadata": {
    "hidden": true
   },
   "outputs": [],
   "source": [
    "target_dict={'w8':'WASP43b_8', 'w3':'WASP43b_3',\n",
    "             'c12':'comp1_2',  'c15':'comp1_5',\n",
    "             'c28':'comp2_8',  'c23':'comp2_3',\n",
    "             'c36':'comp3_6',  'c31':'comp3_1',\n",
    "             'c47':'comp4_7',  'c44':'comp4_4',\n",
    "             'c51':'comp5_1',  'c56':'comp5_6',\n",
    "             'c65':'comp6_5',  'c62':'comp62'}\n",
    "target = target_dict['w8']\n",
    "\n",
    "fig, ax = plt.subplots()\n",
    "\n",
    "line_list = []\n",
    "for i in range(len(xx[target])):\n",
    "    line, = ax.plot(xx[target][i], yy[target][i], alpha=1)\n",
    "    line_list.append(line)\n",
    "    \n",
    "ax_yval = plt.axes([0.3, 0.01, 0.6, 0.03]) # [left, bottom, width, height]\n",
    "s_yval = Slider(ax_yval, 'y', 0, len(xx[target]), valinit=0)\n",
    "\n",
    "def update(val): # get value from slider and plugs it into plot\n",
    "    c = s_yval.val\n",
    "    for i, l in enumerate(line_list):\n",
    "        if  i <= c:\n",
    "            l.set_visible(True)\n",
    "        else:\n",
    "            l.set_visible(False)\n",
    "\n",
    "s_yval.on_changed(update)\n",
    "\n",
    "plt.show()"
   ]
  },
  {
   "cell_type": "markdown",
   "metadata": {},
   "source": [
    "### Aperture Check"
   ]
  },
  {
   "cell_type": "markdown",
   "metadata": {},
   "source": [
    "#### Interactive 1D profile plotter to verify apertures used in tepspec"
   ]
  },
  {
   "cell_type": "code",
   "execution_count": null,
   "metadata": {},
   "outputs": [],
   "source": [
    "path = '/Users/mango/data/ACCESS/IMACS/WASP43/ut150309/ift0283c8.fits'\n",
    "hdu = fits.open(path)\n",
    "name = hdu[0].header['filename']\n",
    "data = hdu[0].data\n",
    "ut_start = hdu[0].header['UT-TIME']\n",
    "ut_end = hdu[0].header['UT-END']\n",
    "hdu.close()\n",
    "\n",
    "fig, axes = plt.subplots(1,2, figsize=(8, 6))\n",
    "\n",
    "im = axes[0].imshow(data, cmap='CMRmap', vmin=600, vmax=4000)\n",
    "plt.colorbar(im, ax=axes[0])\n",
    "axes[0].grid(False) # get rid of gridlines on imshow\n",
    "#axes.set_title(name + ' -- sci frame 25')\n",
    "axes[0].set_xlabel('%s - %s' % (ut_start, ut_end))\n",
    "\n",
    "#plt.savefig('/Users/mango/Desktop/ut150309_image.png', bbox_inches='tight')\n",
    "\n",
    "def drag(event): # mouse drag\n",
    "    x = event.xdata\n",
    "    y = event.ydata\n",
    "    \n",
    "    if (event.inaxes == axes[0]): # only detect mouse drags in imshow plot\n",
    "        axes[1].cla()\n",
    "        axes[1].plot(data[int(round(y)), :])\n",
    "        axes[1].set_xlim(x - 50, x + 50)\n",
    "        axes[1].set_ylabel('counts')\n",
    "    \n",
    "    fig.tight_layout()\n",
    "    fig.canvas.draw()\n",
    "    \n",
    "cid = fig.canvas.mpl_connect('motion_notify_event', drag)"
   ]
  },
  {
   "cell_type": "markdown",
   "metadata": {},
   "source": [
    "# Light Curve"
   ]
  },
  {
   "cell_type": "markdown",
   "metadata": {
    "heading_collapsed": true
   },
   "source": [
    "## Load in LC pickles"
   ]
  },
  {
   "cell_type": "code",
   "execution_count": 11,
   "metadata": {
    "hidden": true
   },
   "outputs": [],
   "source": [
    "LC_ut150309 = pkl_load('../WASP43/ut150309/tepspec_final/18nm/LCs_w43_18nm.pkl')\n",
    "#LC_ut170410 = pkl_load('../WASP43/ut170410/tepspec_final/18nm/LCs_w43_18nm.pkl')"
   ]
  },
  {
   "cell_type": "markdown",
   "metadata": {
    "heading_collapsed": true
   },
   "source": [
    "## Raw WLC Summary"
   ]
  },
  {
   "cell_type": "code",
   "execution_count": 12,
   "metadata": {
    "code_folding": [],
    "hidden": true
   },
   "outputs": [],
   "source": [
    "def raw_WLC(ax, LC, dataset):\n",
    "    t = Time(LC['t'], format='jd')\n",
    "    \n",
    "    LC_o = LC['oLC']\n",
    "    \n",
    "    # plot comparison stars next\n",
    "    for i in range(0,6):\n",
    "        lightcurve_i = LC['cLC'][:,i]\n",
    "        lc_i = lightcurve_i/np.median(lightcurve_i) #- (i+1)/2\n",
    "        p = ax.plot_date(t.plot_date, lc_i, '--o', label=LC['cNames'][i]) \n",
    "        #ax.plot(lc_i, '--o', label=LC['cNames'][i])\n",
    "        #ax.plot(lc_i, '.')\n",
    "        #ax.annotate( \n",
    "     #'comp {}'.format(LC['cNames'][i], (t.plot_date[0], lc_i[0]+0.05), \n",
    "      #                color = p[0].get_color()))\n",
    "\n",
    "    #ax.annotate( 'WASP43', (t.plot_date[0], LC_o_rel[0]+0.05), color = 'grey')\n",
    "    \n",
    "    # overplot target LC first\n",
    "    LC_o_rel = LC_o/np.median(LC_o)\n",
    "    p = ax.plot_date(t.plot_date, LC_o_rel, '-', lw=6, c='k', \n",
    "                     alpha=0.25, label = 'WASP43b')\n",
    "    #ax.plot(LC_o_rel, '--o', lw=3, c='k', alpha=0.25, label = 'WASP43b')\n",
    "    \n",
    "    #ax.set_xlabel('Time (UTC)')\n",
    "    ax.set_ylabel('Relative Flux + Offset')\n",
    "    ax.set_title('Raw White Light Curves -- ' + dataset)\n",
    "    ax.legend(loc='best')"
   ]
  },
  {
   "cell_type": "code",
   "execution_count": 13,
   "metadata": {
    "hidden": true
   },
   "outputs": [],
   "source": [
    "fig, ax = plt.subplots(figsize=(8,8))\n",
    "\n",
    "raw_WLC(ax, LC_ut150309, 'ut150309')\n",
    "\n",
    "#f = '/Users/mango/Desktop/fixed_spec.pdf'\n",
    "\n",
    "#plt.savefig(f, bbox_inches='tight')"
   ]
  },
  {
   "cell_type": "markdown",
   "metadata": {},
   "source": [
    "## WLC - Comp Stars"
   ]
  },
  {
   "cell_type": "code",
   "execution_count": 14,
   "metadata": {},
   "outputs": [],
   "source": [
    "# comp stars to use, e.g. ['comp1', 'comp2']\n",
    "def raw_WLC_adj(ax, LC, comp_names): \n",
    "    t = Time(LC['t'], format='jd')\n",
    "    LC_o = LC['oLC']\n",
    "    \n",
    "    #########################################################\n",
    "    # plot 1\n",
    "    ###########################################\n",
    "    comp_dict = {} # holds comparison star fluxes\n",
    "    for i, cName in enumerate(LC['cNames']):\n",
    "        comp_dict[cName] = LC['cLC'][:,i]\n",
    "    \n",
    "    comp_list = [] # each entry is comparison star flux\n",
    "    for i in comp_names: \n",
    "        # comp1 is index 0 in pickle file, comp2 is 1, etc.\n",
    "        comp_list.append(comp_dict[i])\n",
    "            \n",
    "    LC_comps = np.sum(comp_list, axis=0)\n",
    "    LC_adj = LC_o / LC_comps\n",
    "    ax.plot_date(t.plot_date, LC_adj / np.median(LC_adj), 'k-o', alpha=0.25)\n",
    "    #ax.plot(LC_adj / np.median(LC_adj), 'k-o', alpha=0.25)\n",
    "    \n",
    "    #plt.axvline(2457090.709 + 0.0308274)\n",
    "    #plt.ylim(0.99, 1.02)\n",
    "    ax.set_xlabel('Time (UTC)')\n",
    "    ax.set_ylabel('Relative Flux')\n",
    "    ax.set_ylim(0.97, 1.01)\n",
    "    \n",
    "    return LC_adj / np.median(LC_adj) "
   ]
  },
  {
   "cell_type": "code",
   "execution_count": 15,
   "metadata": {},
   "outputs": [],
   "source": [
    "fig, ax = plt.subplots(1, 1, figsize=(8,5))\n",
    "\n",
    "#comps_to_use = ['comp1', 'comp2', 'comp3', 'comp4', 'comp5', 'comp6']\n",
    "comps_to_use = ['comp1', 'comp2', 'comp3']\n",
    "\n",
    "LC_raw  = raw_WLC_adj(ax, LC_ut150309, comps_to_use)\n",
    "#raw_WLC_adj(ax, LC, comps_to_use)\n",
    "\n",
    "ax.set_title('Using: ' + str(comps_to_use))\n",
    "\n",
    "dirname = '../journal/Figures/20171220/'\n",
    "if not os.path.exists(dirname):\n",
    "    os.makedirs(dirname)\n",
    "\n",
    "fname = 'ut150309_comp_no_opt_ext.pdf'\n",
    "\n",
    "#plt.savefig(dirname + fname, bbox_inches='tight')\n",
    "\n",
    "#raw_WLC_adj(ax, LC_ut150309_opt_14, ['comp4'])\n",
    "#raw_WLC_adj(ax, LC_ut150309_no_opt_14, ['comp4'])\n",
    "#raw_WLC_adj(ax, LC_ut150309_no_opt_9, ['comp4'])\n",
    "\n",
    "#raw_WLC_adj(ax, LC_ut150309, ['comp1','comp6'])\n",
    "#raw_WLC_adj(ax, LC_ut150309, ['comp1', 'comp6'])\n",
    "#ax.set_title('WASP43 -- ut150309 -- tepspec WLC -- ' + \n",
    "#    'Spectroscopic2 -- Gri-300-17.5')\n",
    "\n",
    "#ax.set_ylim(0.97,1.01)\n",
    "#ax.set_ylim(0.97,1.01)\n",
    "#plt.savefig(\n",
    "#    '/Users/mango/Dropbox/mercedes-group/journal/Figures/20170731/ut170410_adjWLC.pdf',\n",
    "#    bbox_inches='tight')"
   ]
  },
  {
   "cell_type": "markdown",
   "metadata": {},
   "source": [
    "### AAS 231 Grid Plot"
   ]
  },
  {
   "cell_type": "code",
   "execution_count": null,
   "metadata": {},
   "outputs": [],
   "source": [
    "fig, ax = plt.subplots(2, 2, figsize=(10,10), sharex='col', sharey='row')\n",
    "\n",
    "# ut150309 raw curves\n",
    "raw_WLC(ax[0][0], LC_ut150309, 'ut150309')\n",
    "\n",
    "# ut170410 raw curves\n",
    "raw_WLC(ax[0][1], LC_ut170410, 'ut170410')\n",
    "\n",
    "# ut150309 divided WLC (good comps)\n",
    "comps_to_use = ['comp1', 'comp2', 'comp3']\n",
    "raw_WLC_adj(ax[1][0], LC_ut150309, comps_to_use)\n",
    "ax[1][0].set_title('Divided WLC -- ut150309')\n",
    "\n",
    "# ut170410 divided WLC (good comps)\n",
    "comps_to_use = ['comp1', 'comp2', 'comp3', 'comp4', 'comp5', 'comp6']\n",
    "raw_WLC_adj(ax[1][1], LC_ut170410, comps_to_use)\n",
    "ax[1][1].set_title('Divided WLC -- ut170410')\n",
    "\n",
    "fig.tight_layout()\n",
    "\n",
    "plt.savefig('/Users/mango/Desktop/raw_curves.png', dpi=300, bbox_inches='tight')"
   ]
  },
  {
   "cell_type": "markdown",
   "metadata": {
    "heading_collapsed": true
   },
   "source": [
    "## LBR Comparison"
   ]
  },
  {
   "cell_type": "code",
   "execution_count": null,
   "metadata": {
    "hidden": true
   },
   "outputs": [],
   "source": [
    "fig, ax = plt.subplots(2, 1, figsize=(8,5), sharex=True, \n",
    "                       gridspec_kw = {'height_ratios':[2, 1]})\n",
    "comp_names = ['comp1','comp2','comp3','comp4','comp5','comp6']\n",
    "\n",
    "#########################################################\n",
    "# LBR\n",
    "###########################################\n",
    "LC = LC_ut170410_LBR\n",
    "t = Time(LC['t'], format='jd')\n",
    "t = t[:-1]\n",
    "LC_o = LC['oLC']\n",
    "LC_o = LC_o[:-1]\n",
    "comp_list = [] # each entry is comparison star flux\n",
    "for i in comp_names: \n",
    "    # comp1 is index 0 in pickle file, comp2 is 1, etc.\n",
    "    comp_idx = int(i.split('p')[-1]) - 1\n",
    "    comp_list.append(LC['cLC'][:-1,comp_idx])\n",
    "\n",
    "LC_comps = np.sum(comp_list, axis=0)\n",
    "LC_adj = LC_o / LC_comps\n",
    "ax[0].plot_date(t.plot_date, LC_adj / np.median(LC_adj), 'r.', \n",
    "            label='LBR')\n",
    "\n",
    "#########################################################\n",
    "# No LBR\n",
    "###########################################\n",
    "LC = LC_ut170410\n",
    "t = Time(LC['t'], format='jd')\n",
    "t = t[:-1]\n",
    "LC_o = LC['oLC']\n",
    "LC_o = LC_o[:-1]\n",
    "comp_list = [] # each entry is comparison star flux\n",
    "for i in comp_names: \n",
    "    # comp1 is index 0 in pickle file, comp2 is 1, etc.\n",
    "    comp_idx = int(i.split('p')[-1]) - 1\n",
    "    comp_list.append(LC['cLC'][:-1,comp_idx])\n",
    "\n",
    "LC_comps = np.sum(comp_list, axis=0)\n",
    "LC_adj_2 = LC_o / LC_comps\n",
    "ax[0].plot_date(t.plot_date, LC_adj_2 / np.median(LC_adj_2), 'b.', \n",
    "            label='No LBR')\n",
    "#ax.plot(LC_adj / np.median(LC_adj), 'b.', label='No LBR')\n",
    "\n",
    "#plt.axvline(2457090.709 + 0.0308274)\n",
    "#plt.ylim(0.99, 1.02)\n",
    "ax[0].set_xlabel('Time (UTC)')\n",
    "ax[0].set_ylabel('Relative Flux')\n",
    "ax[0].set_title('tepspec WLC - ut170410')\n",
    "#ax[0].set_ylim(0.9734, 1.005)\n",
    "ax[0].legend()\n",
    "\n",
    "ax[1].plot_date(t.plot_date, LC_adj_2 - LC_adj, 'c.')\n",
    "ax[1].set_ylabel('No LBR - LBR')\n",
    "\n",
    "fig.tight_layout()\n",
    "plt.savefig('/Users/mango/Desktop/LBR_comparison.png', \n",
    "            bbox_inches='tight', dpi=1000)"
   ]
  },
  {
   "cell_type": "markdown",
   "metadata": {},
   "source": [
    "## Spectra Inspection"
   ]
  },
  {
   "cell_type": "code",
   "execution_count": null,
   "metadata": {},
   "outputs": [],
   "source": [
    "def find_nearest_idx(array, value): # get index of array where val is nearest\n",
    "    idx = (np.abs(array-value)).argmin()\n",
    "    return idx\n",
    "\n",
    "def find_min(wav, val, loc): # return location (wav, depth) of spectra near loc\n",
    "    # first find wavlength of discretized spectra nearest loc\n",
    "    wav_cen_idx = find_nearest_idx(wav, loc)\n",
    "    \n",
    "    # now make a 3.75 Angstrom window (aperture) around center and look for min.\n",
    "    # this will hopefully be where the true absorption peak is.\n",
    "    # note: a difference of 1 in index is 1.25 in Angstroms\n",
    "    peak_idx = np.where(val == val[wav_cen_idx-3:wav_cen_idx+4].min())[0][0]\n",
    "    # the [0][0] just makes sure we take the first instance of the minimum that is\n",
    "    # found in the window, in case there are double peaks\n",
    "    return peak_idx, val[peak_idx]"
   ]
  },
  {
   "cell_type": "markdown",
   "metadata": {},
   "source": [
    "### Plot single spectra"
   ]
  },
  {
   "cell_type": "markdown",
   "metadata": {},
   "source": [
    "with open('/Users/mango/Desktop/spec_files/Objects_vflat.pkl', 'rb') as f:\n",
    "    spec = pickle.load(f)"
   ]
  },
  {
   "cell_type": "code",
   "execution_count": null,
   "metadata": {},
   "outputs": [],
   "source": [
    "def plot_spec(ax, LC, time_idx, c, title_on, ax_label_on, legend_on):  \n",
    "    # naD is a doublet but it looks like a single peak at our resolution so I am\n",
    "    #just going to take the average for this one\n",
    "    \"\"\"species = {\n",
    "    '$NaI-D$'    : {'wav':5892.9, 'c':'b' , 'dif':[], 'ls':'-'} ,\n",
    "    r'$H\\alpha$' : {'wav':6564.6, 'c':'g' , 'dif':[], 'ls':'-'} ,\n",
    "    '$KI-a$'   : {'wav':7665.0, 'c':'y' , 'dif':[], 'ls':'-'} ,\n",
    "    '$K1-$avg' : {'wav':7682.0, 'c':'b' , 'dif':[], 'ls':'-'} ,\n",
    "    '$KI-b$'   : {'wav':7699.0, 'c':'y' , 'dif':[], 'ls':'--'} ,\n",
    "    '$NaI-8200a$' : {'wav':8183.0, 'c':'r' , 'dif':[], 'ls':'-'} ,\n",
    "    '$NaI-8200b$' : {'wav':8195.0, 'c':'r' , 'dif':[], 'ls':'--'}\n",
    "    }\"\"\"\n",
    "    \n",
    "    species = OrderedDict()\n",
    "    species['$NaI-D$'] = {'wav':5892.9, 'c':'b' , 'dif':[], 'ls':'-'} \n",
    "    species[r'$H\\alpha$'] = {'wav':6564.6, 'c':'g' , 'dif':[], 'ls':'-'} \n",
    "    species['$K1\\_$avg'] = {'wav':7682.0, 'c':'y' , 'dif':[], 'ls':'-'} \n",
    "    species['$NaI-8200\\_avg$'] = {'wav':8189.0, 'c':'r' , 'dif':[], 'ls':'-'} \n",
    "    \n",
    "    wav    = LC['spectra']['wavelengths']   # convert to nm\n",
    "    transm = LC['spectra']['WASP43b'][time_idx]\n",
    "    fwhm   = LC['fwhm']['WASP43b_8'][time_idx]\n",
    "    t = Time(LC['t'], format='jd')\n",
    "    \n",
    "    # plot reference lines and peak points\n",
    "    for elem, elem_attr in species.items():\n",
    "        # overplot bins\n",
    "        #for l, r in zip(wav_list['col1'], wav_list['col2']):\n",
    "        #    if l in [5891, 6563.5, 7662, 7696, 8179, 8192]:\n",
    "        #        ax.axvspan(l, r, color='r', alpha=0.3)\n",
    "        #    else:\n",
    "        #        ax.axvspan(l, r, color='b', alpha=0.03)\n",
    "        \n",
    "        ax.axvline(elem_attr['wav']/10, ls=elem_attr['ls'], c=elem_attr['c'], label=elem)\n",
    "        \n",
    "        pk_idx, pk_val = find_min(wav, transm, elem_attr['wav'])\n",
    "        ax.plot(wav[pk_idx]/10, pk_val, 'o', color = elem_attr['c'])\n",
    "\n",
    "    #ax.axvline(6559.6, c='grey', ls='--')\n",
    "    #ax.axvline(6569.6, c='grey', ls='--')\n",
    "    # overplot spectra\n",
    "    ax.plot(wav/10, transm, c)\n",
    "    \n",
    "    # plot FWHM\n",
    "    #ax.plot(wav, fwhm, c)\n",
    "    \n",
    "    if (title_on):\n",
    "        ax.set_title('WASP43 -- ut170410 -- tepspec spectra -- ' + \n",
    "        'WB5600-9200 -- Gri-300-17.5', fontsize=12)\n",
    "    if (ax_label_on):\n",
    "        ax.set_xlabel(\"wavelength (nm)\")\n",
    "        ax.set_ylabel(\"Depth (arbitrary units)\")\n",
    "    \n",
    "    if (legend_on):\n",
    "        handles,labels = ax.get_legend_handles_labels()\n",
    "        ax.legend(handles, labels)"
   ]
  },
  {
   "cell_type": "code",
   "execution_count": null,
   "metadata": {},
   "outputs": [],
   "source": [
    "fig, ax = plt.subplots(1, 1, figsize=(8,5))\n",
    "plot_spec(ax, LC, 41, 'c', title_on=True, ax_label_on=True, legend_on=True) # \"zero\"\n",
    "#plt.savefig('/Users/mango/Desktop/tepspec_spec_t0.pdf', bboc_inches='tight')"
   ]
  },
  {
   "cell_type": "markdown",
   "metadata": {},
   "source": [
    "### Bin Setup"
   ]
  },
  {
   "cell_type": "code",
   "execution_count": null,
   "metadata": {},
   "outputs": [],
   "source": [
    "# hold observed feature centers, as opposed to vacumm\n",
    "#spec_cen = [5892.5, 6565.0, 7666.25, 7700, 8185, 8196.52] \n",
    "spec_cen = [5580, 8730]\n",
    "\n",
    "for spec in spec_cen:\n",
    "    l, r = 5, 5\n",
    "    print \"bins for: \", spec\n",
    "    for i in range(10):\n",
    "        print spec - l, spec + r\n",
    "        l += 5\n",
    "        r += 5\n",
    "    print \"\""
   ]
  },
  {
   "cell_type": "markdown",
   "metadata": {},
   "source": [
    "#### Murgas bins"
   ]
  },
  {
   "cell_type": "code",
   "execution_count": null,
   "metadata": {},
   "outputs": [],
   "source": [
    "cen = 7110.\n",
    "w = 180.\n",
    "for i in range(9):\n",
    "    print cen - w/2, cen + w/2#, cen\n",
    "    cen += w"
   ]
  },
  {
   "cell_type": "code",
   "execution_count": null,
   "metadata": {},
   "outputs": [],
   "source": [
    "lower = 5425. - 250/2.\n",
    "upper = 917.5 + 250/2.\n",
    "x = np.arange(lower, upper, 250)\n",
    "for i, j in enumerate(x):\n",
    "    if (i < len(x)-1):\n",
    "        print x[i], x[i+1]\n",
    "    else:\n",
    "        print x[i], upper, '\\n%d' % (upper - x[i])"
   ]
  },
  {
   "cell_type": "code",
   "execution_count": null,
   "metadata": {},
   "outputs": [],
   "source": [
    "min_bin = 10\n",
    "max_bin = 100\n",
    "cen = 8854\n",
    "lower = cen - min_bin / 2\n",
    "upper = cen + min_bin / 2\n",
    "\n",
    "while upper <= (cen + max_bin / 2):\n",
    "    print lower, upper\n",
    "    lower -= 5\n",
    "    upper += 5"
   ]
  },
  {
   "cell_type": "code",
   "execution_count": null,
   "metadata": {},
   "outputs": [],
   "source": [
    "wav_list = np.loadtxt('../WASP43/ut170410/w43_170410.dat', unpack=True)\n",
    "\n",
    "fig, ax = plt.subplots(figsize=(8,4))\n",
    "\n",
    "species = OrderedDict()\n",
    "species['$NaI-D$'] = {'wav':5892.9, 'c':'b' , 'dif':[], 'ls':'-'} \n",
    "species[r'$H\\alpha$'] = {'wav':6564.6, 'c':'g' , 'dif':[], 'ls':'-'} \n",
    "species['$K1\\_$avg'] = {'wav':7682.0, 'c':'y' , 'dif':[], 'ls':'-'} \n",
    "species['$NaI-8200\\_avg$'] = {'wav':8189.0, 'c':'r' , 'dif':[], 'ls':'-'}\n",
    "\n",
    "wav_diff = wav_list[1] - wav_list[0]\n",
    "wc  = (wav_list[1] + wav_list[0]) / 2\n",
    "ax.plot(wc, wav_diff, '-o', c='c')\n",
    "[ax.axvline(sc[1]['wav'], c=sc[1]['c'], label=sc[0]) for sc in species.iteritems()]\n",
    "\n",
    "ax.set_xlabel('wavelength $(\\AA)$')\n",
    "ax.set_ylabel('binsize $(\\AA)$')\n",
    "\n",
    "handles,labels = ax.get_legend_handles_labels()\n",
    "ax.legend(handles, labels, loc='best')\n",
    "\n",
    "#plt.savefig('../journal/Figures/20171210/bin_scheme.pdf', bbox_inches='tight')"
   ]
  },
  {
   "cell_type": "code",
   "execution_count": null,
   "metadata": {},
   "outputs": [],
   "source": [
    "fig, ax = plt.subplots(figsize=(8,4))\n",
    "\n",
    "plot_spec(ax, LC_ut170410, 91, 'c', True, True, True) # \"zero\"\n",
    "\n",
    "i = 0\n",
    "for l, r in zip(wav_list[0], wav_list[1]):\n",
    "    ax.axvspan(l/10, r/10, alpha=.15)\n",
    "plt.show()\n",
    "\n",
    "#plt.savefig('../journal/Figures/20171210/binscheme_overview.pdf', bbox_inches='tight')"
   ]
  },
  {
   "cell_type": "markdown",
   "metadata": {},
   "source": [
    "#### Zoomed in"
   ]
  },
  {
   "cell_type": "code",
   "execution_count": null,
   "metadata": {},
   "outputs": [],
   "source": [
    "fig, ax = plt.subplots(2,3, figsize=(10,6), sharey=True)\n",
    "\n",
    "names = ['short wav. baseline', '$NaI-D$', r'$H\\alpha$', '$K1\\_$avg', '$NaI-8200\\_avg$',\\\n",
    "        'long wav. baseline']\n",
    "centers = np.array([5580.0, 5892.9, 6564.6, 7682.0, 8189.0, 8730.0])/10\n",
    "\n",
    "for a, c, t in zip(ax.flatten(), centers, names):\n",
    "    plot_spec(a, LC_ut170410, 91, 'lightblue', title_on=False, ax_label_on=False, legend_on=False) \n",
    "    for l, r in zip(wav_list[0], wav_list[1]):\n",
    "        a.axvspan(l/10, r/10, alpha=.15)\n",
    "        a.set_title(t)\n",
    "    \n",
    "    a.set_xlim(c - 8, c + 8)\n",
    "\n",
    "#i = 0\n",
    "#for l, r in zip(wav_list[0], wav_list[1]):\n",
    "#    ax.axvspan(l/10, r/10, alpha=.15)\n",
    "#plt.show()\n",
    "\n",
    "#plt.savefig('../journal/Figures/20171210/binscheme_overview.pdf', bbox_inches='tight')\n",
    "\n",
    "fig.text(0.001, 0.52, 'arbitrary flux', va='center', rotation='vertical')\n",
    "fig.text(0.52, 0.0, 'wavelength ($\\AA$)', ha='center')\n",
    "fig.tight_layout()\n",
    "\n",
    "#plt.savefig('../journal/Figures/20171210/zoomed_bins.pdf', bbox_inches='tight')"
   ]
  },
  {
   "cell_type": "markdown",
   "metadata": {},
   "source": [
    "### Plot spec differences"
   ]
  },
  {
   "cell_type": "code",
   "execution_count": null,
   "metadata": {},
   "outputs": [],
   "source": [
    "from matplotlib.dates import  DateFormatter\n",
    "def plot_spec_diff(LC, comp_names):    \n",
    "    # naD is a doublet but it looks like a single peak at our resolution so I am\n",
    "    #just going to take the average for this one\n",
    "    species = {\n",
    "    '$NaI-D$'    : {'wav':5892.9, 'c':'b' , 'dif':[], 'ls':'.-'} ,\n",
    "    r'$H\\alpha$' : {'wav':6564.6, 'c':'g' , 'dif':[], 'ls':'.-'} ,\n",
    "    '$KI-a$'   : {'wav':7665.0, 'c':'y' , 'dif':[], 'ls':'.-'} ,\n",
    "    '$KI-b$'   : {'wav':7699.0, 'c':'y' , 'dif':[], 'ls':'.--'} ,\n",
    "    '$NaI-8200a$' : {'wav':8183.0, 'c':'r' , 'dif':[], 'ls':'.-'} ,\n",
    "    '$NaI-8200b$' : {'wav':8195.0, 'c':'r' , 'dif':[], 'ls':'.--'}\n",
    "    }\n",
    "    \n",
    "    # fill in dictionary \n",
    "    for i in range(len(LC['t'])): # iterate through time\n",
    "        wav    = LC['spectra']['wavelengths']\n",
    "        transm = LC['spectra']['WASP43b'][i,:]\n",
    "        t = Time(LC['t'], format='jd')\n",
    "        \n",
    "        for elem, elem_attr in species.items(): # iterate through species\n",
    "            pk_idx, val = find_min(wav, transm, elem_attr['wav'])\n",
    "            dif = wav[pk_idx] - elem_attr['wav'] # measured - vacuum\n",
    "            elem_attr['dif'].append(dif)\n",
    "            \n",
    "    # plot the differences\n",
    "    fig, ax = plt.subplots(2, 1, figsize=(8,5), sharex=False)\n",
    "    \n",
    "    LC_o = LC['oLC']\n",
    "    \n",
    "    #########################################################\n",
    "    # LC plot\n",
    "    ###########################################\n",
    "    comp_dict = {} # hold all comparison star\n",
    "    for i in range(6):\n",
    "        comp_dict[\"comp\"+str(i+1)] = LC['cLC'][:,i]\n",
    "\n",
    "    comp_list = []\n",
    "    for i in comp_names: # only uses selected comparison stars\n",
    "        comp_list.append(comp_dict[i])\n",
    "\n",
    "    LC_comps = np.sum(comp_list, axis=0)\n",
    "    LC_adj = LC_o / LC_comps\n",
    "    #ax[0].plot_date(t.plot_date, LC_adj / np.median(LC_adj), 'c.')\n",
    "    ax[0].plot(LC_adj / np.median(LC_adj), 'c.')\n",
    "    ax[0].set_ylabel('Arbitrary Flux')\n",
    "    ax[0].set_title('WASP43 -- ut170410 -- tepspec all comps -- ' + \n",
    "    'WB5600-9200 -- Gri-300-17.5', fontsize=12)\n",
    "    \n",
    "    #########################################################\n",
    "    # dif plot\n",
    "    ###########################################\n",
    "    for elem, elem_attr in species.items():\n",
    "        #ax[1].xaxis.set_major_formatter( DateFormatter('%H:%M') )\n",
    "\n",
    "        ax[1].plot(elem_attr['dif'], elem_attr['c'] + elem_attr['ls'], \n",
    "                       label = elem)\n",
    "        \n",
    "    handles,labels = ax[1].get_legend_handles_labels()\n",
    "    handles = [handles[2], handles[0], handles[5], handles[4], \n",
    "               handles[3], handles[1]]\n",
    "    labels = [labels[2], labels[0], labels[5], labels[4], \n",
    "              labels[3], labels[1]]\n",
    "    ax[1].legend(handles, labels, loc=3, ncol=6)\n",
    "    ax[1].set_xlabel('Time (Index)')\n",
    "    ax[1].set_ylabel('Measured - Vacuum ($\\AA$)')\n",
    "    ax[1].set_ylim(-2.5,3.5)\n",
    "    fig.tight_layout()\n",
    "    plt.show()"
   ]
  },
  {
   "cell_type": "code",
   "execution_count": null,
   "metadata": {},
   "outputs": [],
   "source": [
    "plot_spec_diff(LC_ut170410, \n",
    "        ['comp1', 'comp2', 'comp3', 'comp4', 'comp6'])\n",
    "#plt.savefig('/Users/mango/Desktop/tepspec_diff_spec.pdf',\n",
    "#            bbox_inches='tight')"
   ]
  },
  {
   "cell_type": "markdown",
   "metadata": {
    "collapsed": true
   },
   "source": [
    "# ELVIS"
   ]
  },
  {
   "cell_type": "markdown",
   "metadata": {},
   "source": [
    "## poly and pca WLC"
   ]
  },
  {
   "cell_type": "markdown",
   "metadata": {},
   "source": [
    "### Corner Plot"
   ]
  },
  {
   "cell_type": "markdown",
   "metadata": {
    "heading_collapsed": true
   },
   "source": [
    "#### Plot Function"
   ]
  },
  {
   "cell_type": "code",
   "execution_count": null,
   "metadata": {
    "hidden": true
   },
   "outputs": [],
   "source": [
    "def plot_corner(params, mcmc):\n",
    "    samples = []\n",
    "    for p in params:\n",
    "        param = np.array(mcmc[p].values()).ravel()\n",
    "        samples.append(param)\n",
    "\n",
    "    samples = np.array(samples).transpose()\n",
    "    p = corner.corner(samples, labels=params, show_titles=True)\n",
    "    \n",
    "    return p"
   ]
  },
  {
   "cell_type": "markdown",
   "metadata": {
    "heading_collapsed": true
   },
   "source": [
    "#### Display Plot"
   ]
  },
  {
   "cell_type": "code",
   "execution_count": null,
   "metadata": {
    "hidden": true
   },
   "outputs": [],
   "source": [
    "mcmc_data = pkl_load('../WASP43/ut150309/poly_WLC/75nm/MCMC_wl_5300.0_9800.0.pkl')\n",
    "poly_params = ['RpRs', 't0', 'a0', 'a1', 'a2']\n",
    "\n",
    "plot_corner(poly_params, mcmc_data)\n",
    "plt.show()"
   ]
  },
  {
   "cell_type": "markdown",
   "metadata": {},
   "source": [
    "### WLC Plot"
   ]
  },
  {
   "cell_type": "markdown",
   "metadata": {
    "heading_collapsed": true
   },
   "source": [
    "#### Plot Funtions"
   ]
  },
  {
   "cell_type": "code",
   "execution_count": null,
   "metadata": {
    "code_folding": [],
    "hidden": true
   },
   "outputs": [],
   "source": [
    "def get_wlc_stats():\n",
    "    # load data (date: ut, model: poly of pca, binning: wlc)\n",
    "    fpath = '../WASP43/{}/{}_{}/{}/final_LCs.pkl'\n",
    "    fpath = fpath.format(date, model, binning, binsize)\n",
    "    wlc = pkl_load(fpath)\n",
    "    \n",
    "    # Model values\n",
    "    wlc_t0 = wlc['t0']\n",
    "    #wlc_t0_iso = Time(wlc_t0, format='jd').iso\n",
    "    wlc_t = wlc['t']\n",
    "    t_rel = (wlc_t - wlc_t0) * 24. # convert to hours\n",
    "    wlc_model = wlc['model'][0]\n",
    "\n",
    "    # detrended data point\n",
    "    wlc_detLC = wlc['detLC'][0]\n",
    "    \n",
    "    # just use fitted values\n",
    "    idx_fit = wlc['idx_fit'][0]\n",
    "    t_rel = t_rel[idx_fit]\n",
    "    wlc_detLC = wlc_detLC[idx_fit]\n",
    "    wlc_model = wlc_model[idx_fit]\n",
    "    \n",
    "    # calculate residuals\n",
    "    wlc_resid = wlc_detLC - wlc_model\n",
    "    wlc_resid_elvis = wlc['residuals'][0] # should be the same, just a check\n",
    "\n",
    "def plot_wlc(ax, date, model, binning, binsize): # plot white light curve\n",
    "    # load data (date: ut, model: poly of pca, binning: wlc)\n",
    "    fpath = '../WASP43/{}/{}_{}/{}/final_LCs.pkl'\n",
    "    fpath = fpath.format(date, model, binning, binsize)\n",
    "    wlc = pkl_load(fpath)\n",
    "    \n",
    "    # Model values\n",
    "    wlc_t0 = wlc['t0']\n",
    "    #wlc_t0_iso = Time(wlc_t0, format='jd').iso\n",
    "    wlc_t = wlc['t']\n",
    "    t_rel = (wlc_t - wlc_t0) * 24. # convert to hours\n",
    "    wlc_model = wlc['model'][0]\n",
    "\n",
    "    # detrended data point\n",
    "    wlc_detLC = wlc['detLC'][0]\n",
    "    \n",
    "    # just show good values\n",
    "    idx_fit = wlc['idx_fit'][0]\n",
    "    t_rel = t_rel[idx_fit]\n",
    "    wlc_detLC = wlc_detLC[idx_fit]\n",
    "    wlc_model = wlc_model[idx_fit]\n",
    "\n",
    "    ax.plot(t_rel, wlc_detLC, 'b.', alpha=0.5) # detrended data\n",
    "    ax.plot(t_rel, wlc_model, 'b--') # model\n",
    "    ax.set_ylabel('normalized flux')\n",
    "    \n",
    "    # calculate residuals\n",
    "    wlc_resid = wlc_detLC - wlc_model\n",
    "    wlc_resid_elvis = wlc['residuals'][0] # should be the same, just a check\n",
    "    \n",
    "    return ax, t_rel, wlc_detLC, wlc_model, wlc_resid, wlc_resid_elvis"
   ]
  },
  {
   "cell_type": "markdown",
   "metadata": {
    "heading_collapsed": true
   },
   "source": [
    "#### Display Plot"
   ]
  },
  {
   "cell_type": "code",
   "execution_count": null,
   "metadata": {
    "hidden": true
   },
   "outputs": [],
   "source": [
    "fig, ax = plt.subplots(figsize=(8, 6))\n",
    "#title = 'WASP43 -- ut170410 -- poly wavelet WLC -- 10nm -- ' + \\\n",
    "#    'WB5600-9200 -- Gri-300-17.5'\n",
    "title = 'WASP43 -- ut150309 -- poly wavelet WLC -- 18nm -- ' + \\\n",
    "    'Spectroscopic2 -- Gri-300-17.5'\n",
    "#title = 'WASP43 -- ut150224 -- PCA polynomial wavelet WLC -- ' + \\\n",
    "#'Spectroscopic2 -- Gri-300-17.5'\n",
    "    \n",
    "obj = title.split(' ')\n",
    "date, model, binning, binsize = obj[2], obj[4], obj[6], obj[8]\n",
    "\n",
    "ax.set_title(title, fontsize=12)\n",
    "x = plot_wlc(ax, date, model, binning, binsize)\n",
    "#plot_resid(ax, date, model, binning, binsize, 0.97)\n",
    "#plot_resid(ax[1], date, model, binning, binsize, 0)\n",
    "ax.set_ylim(0.966, 1.003)\n",
    "\n",
    "#ax[0].set_ylim(0.97, 1.005)\n",
    "#ax[1].set_ylim(-0.01, 0.01)\n",
    "\n",
    "fig.tight_layout()\n",
    "\n",
    "dirname = '../journal/Figures/20171220/'\n",
    "if not os.path.exists(dirname):\n",
    "    os.makedirs(dirname)\n",
    "\n",
    "fname = '{}_{}_{}_{}.pdf'.format(date, model, 'WLC', binsize)\n",
    "\n",
    "#plt.savefig(dirname + fname, bbox_inches='tight')"
   ]
  },
  {
   "cell_type": "markdown",
   "metadata": {},
   "source": [
    "#### PCA poly WLC grid plot"
   ]
  },
  {
   "cell_type": "code",
   "execution_count": null,
   "metadata": {
    "code_folding": []
   },
   "outputs": [],
   "source": [
    "fig, ax = plt.subplots(2, 4, figsize=(10,7), sharex=True, sharey=True)\n",
    "\n",
    "# object info\n",
    "target = 'WASP43'\n",
    "date = 'ut150309'\n",
    "filt = 'Spectroscopic2'\n",
    "grism = 'Gri-300-17.5'\n",
    "\n",
    "methods = ['poly', 'pca']\n",
    "binsizes = ['10nm', '18nm', '25nm', '75nm']\n",
    "\n",
    "for i, method in enumerate(methods):\n",
    "    for j, bs in enumerate(binsizes):\n",
    "        plot_wlc(ax[i,j], date, method, 'WLC', bs)\n",
    "        plot_resid(ax[i,j], date, method, 'WLC', bs, 0.97)\n",
    "\n",
    "        ax[i,j].set_xlabel(' ')\n",
    "        ax[i,j].set_ylabel(' ')\n",
    "        title = '{} wavelet WLC -- {}'.format(method, bs)\n",
    "        ax[i,j].set_title(title, fontsize=10)\n",
    "\n",
    "ax[0][0].set_ylim(0.966, 1.003)\n",
    "\n",
    "fig.suptitle('WASP43 -- {} -- {} -- {}'.format(date, filt, grism), fontsize=12)\n",
    "fig.text(0.5, 0, '$t-t_0\\ (hours)$', ha='center')\n",
    "fig.text(0, 0.5, 'relative depth', rotation='vertical', va='center')\n",
    "fig.tight_layout(rect=[0.01, 0.0, 1, 0.95])\n",
    "\n",
    "dirname = '../journal/Figures/20180117/'\n",
    "if not os.path.exists(dirname):\n",
    "    os.makedirs(dirname)\n",
    "\n",
    "fname = '{}_{}_{}_{}.pdf'.format(date, 'poly', 'pca', 'WLC')\n",
    "\n",
    "plt.savefig(dirname + fname, bbox_inches='tight')"
   ]
  },
  {
   "cell_type": "markdown",
   "metadata": {},
   "source": [
    "## Binned plots "
   ]
  },
  {
   "cell_type": "markdown",
   "metadata": {},
   "source": [
    "### Plot Functions"
   ]
  },
  {
   "cell_type": "code",
   "execution_count": 7,
   "metadata": {
    "code_folding": [
     58
    ]
   },
   "outputs": [],
   "source": [
    "import matplotlib.patheffects as PathEffects\n",
    "\n",
    "# e.g. dataset: 'ut150309', model: 'poly', ofs: 0.01, const: 7 minutes\n",
    "def plot_binned(ax, dataset, model, ofs, cmap, binsize, common_mode): \n",
    "    # load data\n",
    "    fpath = '../WASP43/' + dataset + '/' + model+ '_binned/' + binsize + '/final_LCs.pkl'\n",
    "    binned = pkl_load(fpath) \n",
    "    \n",
    "    # convert time to hours (relative to mid transit time t0)\n",
    "    t_rel = (binned['t'] - binned['t0'])*24\n",
    "    idx_fit = binned['idx_fit'][0] # should be the same for binned plots\n",
    "\n",
    "    # Common mode correction\n",
    "    if (common_mode):\n",
    "        fpath_wlc = fpath.replace('binned', 'WLC')\n",
    "        wlc = pkl_load(fpath_wlc) \n",
    "        wlc_resid = wlc['detLC'][0] / wlc['model'][0]\n",
    "        wlc_resid = wlc_resid[idx_fit]\n",
    "        co = 1\n",
    "    else: \n",
    "        wlc_resid = 0\n",
    "        co = 0\n",
    "    #ax.set_title('filler', color='w') # hacky way to make room for suptitle \n",
    "    #ax.set_xlabel('filler', color='w') # hacky way to make room for fig x label\n",
    "\n",
    "    N = len(binned['wbins']) # number of wavelength bins\n",
    "    wmin = binned['wbins'][0][0]\n",
    "    nlast = len(binned['wbins']) - 1\n",
    "    wmax = binned['wbins'][nlast][-1]\n",
    "    #colors = plt.cm.jet(np.linspace(0,1,wav_bins))\n",
    "    colors = np.array(sns.color_palette(cmap, N))\n",
    "        \n",
    "    offset = 0\n",
    "    RpRs_list = []\n",
    "    wav_list = []\n",
    "    for i in range(N):\n",
    "        wav_bin = [round(binned['wbins'][i][j], 3) for j in range(2)]\n",
    "        mew = 0.9 # makes light points easier to see\n",
    "        mec = 0.7 * colors[i]\n",
    "        #if (wav_bin[0] > 6245 and wav_bin[0] < 7645):\n",
    "            #mew = .3 # makes light points easier to see \n",
    "        \n",
    "        # binned['detLC'][i][idx_fit]/\n",
    "        print(wlc_resid)\n",
    "        #ax.plot(t_rel[idx_fit], binned['detLC'][i][idx_fit]- wlc_resid + offset + co, '.', color=colors[i],\n",
    "        #       markeredgewidth=mew, markeredgecolor=mec, alpha=0.5)\n",
    "        ax.plot(t_rel[idx_fit], LC_raw[idx_fit]/ + offset + co, '.', color=colors[i],\n",
    "               markeredgewidth=mew, markeredgecolor=mec, alpha=0.5)\n",
    "        #ax.plot(t_rel[idx_fit], binned['model'][i][idx_fit]/wlc_resid + offset, '--', c=colors[i])\n",
    "         \n",
    "        #ax.plot(idx_fit, binned['detLC'][i][idx_fit]/med + offset, '.', color=colors[i],\n",
    "        #       markeredgewidth=mew, markeredgecolor=mec, alpha=0.5)\n",
    "        #ax.plot(idx_fit, binned['model'][i][idx_fit] + offset, '--', c=colors[i])    \n",
    "            \n",
    "        ax.annotate(wav_bin, xy=(0.5, 1.003*(1 + offset)),\n",
    "        fontsize=8, path_effects=[PathEffects.withStroke(linewidth=2, foreground=\"w\")])\n",
    "        #if binned['wbins'][i][0] in [5891.0, 6563.5, 7662.0, 7696.0, 8179.0, 8192.0]:\n",
    "        #    ax.annotate(wav_bin, xy=(0.7, \n",
    "        #        1.002*(np.max(binned['detLC'][i][-1])) + offset),\n",
    "        #          fontsize=10, color='c', fontweight='bold')\n",
    "        #    ax.plot(t_rel, binned['model'][i] + offset, 'c--')\n",
    "        #    ax.plot(binned['model'][i] + offset, 'c--')\n",
    "\n",
    "        ax.set_ylabel('normalized flux + const')\n",
    "        \n",
    "        RpRs = np.min(binned['model'][i])\n",
    "        RpRs_list.append(RpRs)\n",
    "        wav_list.append(np.median(binned['wbins'][i]))\n",
    "        \n",
    "        offset += ofs\n",
    "        \n",
    "    #ax.set_yticklabels([])\n",
    "    #ax.set_ylim(0.9555, 1.207)\n",
    "        \n",
    "def plot_binned_resid(ax, dataset, model, ofs, cmap, binsize):\n",
    "    # load data\n",
    "    fpath = '../WASP43/' + dataset + '/' + model+ '_binned/' + binsize + '/final_LCs.pkl'\n",
    "    binned = pkl_load(fpath)\n",
    "    t_rel = (binned['t'] - binned['t0'])*24\n",
    "    idx_fit = binned['idx_fit'][0] # should be the same for binned plots\n",
    "\n",
    "    N = len(binned['wbins'])\n",
    "    colors = np.array(sns.color_palette(cmap, N))\n",
    "        \n",
    "    offset = 1 # to align LC baseline with residual\n",
    "    for i in range(N):\n",
    "        wav_bin = [round(binned['wbins'][i][j], 3) for j in range(2)]\n",
    "        mew = 0 #0.5 # makes light points easier to see\n",
    "        mec = 0.7 * colors[i]\n",
    "        med = 1 #np.median(binned['detLC'][i][idx_fit])\n",
    "        resid = (binned['detLC'][i][idx_fit] - binned['model'][i][idx_fit])/wlc_resid\n",
    "        ax.plot(t_rel[idx_fit], resid + offset, '.', color=colors[i],\\\n",
    "                markeredgewidth=mew, markeredgecolor='k', alpha=0.5)\n",
    "        ax.plot(t_rel[idx_fit], np.zeros_like(t_rel[idx_fit]) + offset, '--', c=colors[i])\n",
    "        \n",
    "        ax.annotate(wav_bin, xy=(t_rel[0], \n",
    "                1.005*offset),\n",
    "                  fontsize=10, path_effects=[PathEffects.withStroke(linewidth=2, foreground=\"w\")])\n",
    "        if binned['wbins'][i][0] in [5891.0, 6563.5, 7662.0, 7696.0, 8179.0, 8192.0]:\n",
    "            ax.annotate(wav_bin, xy=(t_rel[0], \n",
    "                1.005*offset),\n",
    "                  fontsize=10, color='c', fontweight='bold')\n",
    "            \n",
    "        offset += ofs\n",
    "        \n",
    "    #ax.set_yticklabels([])\n",
    "    #ax.set_ylim([0.9555-1, 1.207-1])"
   ]
  },
  {
   "cell_type": "markdown",
   "metadata": {},
   "source": [
    "### Display Plot"
   ]
  },
  {
   "cell_type": "code",
   "execution_count": null,
   "metadata": {},
   "outputs": [],
   "source": [
    "LC_ut150309['']"
   ]
  },
  {
   "cell_type": "code",
   "execution_count": 17,
   "metadata": {},
   "outputs": [
    {
     "name": "stdout",
     "output_type": "stream",
     "text": [
      "0\n",
      "0\n",
      "0\n",
      "0\n",
      "0\n",
      "0\n",
      "[0.99997695 1.00022351 1.00023077 0.99964648 1.0002475  1.00011209\n",
      " 0.99949569 0.99993101 0.99984421 0.99975552 1.00022343 0.99976108\n",
      " 1.00036301 0.99979886 1.00004539 0.99941919 0.99932198 0.99961926\n",
      " 0.99939653 0.99966029 1.00037685 1.000678   1.00092882 1.0006813\n",
      " 1.00022403 1.00024666 1.00029596 0.99971996 1.00049538 0.9999566\n",
      " 1.00032602 1.0006385  0.99948194 0.99939816 0.99912972 0.99970312\n",
      " 0.99916267 0.99946143 0.99964826 0.99947568 0.99926007 0.99924238\n",
      " 0.99970327 0.99868452 1.00308102 1.00795897 1.00003214 0.99867327\n",
      " 1.003023   0.99960356 0.99957607 0.99945001 0.99960153 0.99953687\n",
      " 0.99903137 0.99872297 0.99957066 0.99988818 1.00046777 0.9983099\n",
      " 1.001036   1.00071251 1.00036368 0.99765239 0.9982917  1.00089914\n",
      " 1.00120943 1.0016213  1.00215129 0.9985622  1.00303848 0.99334174\n",
      " 1.00311176 0.99300086 1.00272243 1.00290821 1.00219695 1.00152494\n",
      " 1.0002186  1.00087645 1.00239849 0.99997036 0.99904113 0.99985357\n",
      " 1.00035255 1.00000912 1.00002545 1.00040307 1.00016784 1.00025986\n",
      " 0.99978216 0.9992457  0.99958359 1.00004941 0.99982316 0.99910879\n",
      " 0.99937698 0.99991375 0.99937918 0.99959261 1.00001181 1.00011377\n",
      " 1.0003596 ]\n",
      "[0.99997695 1.00022351 1.00023077 0.99964648 1.0002475  1.00011209\n",
      " 0.99949569 0.99993101 0.99984421 0.99975552 1.00022343 0.99976108\n",
      " 1.00036301 0.99979886 1.00004539 0.99941919 0.99932198 0.99961926\n",
      " 0.99939653 0.99966029 1.00037685 1.000678   1.00092882 1.0006813\n",
      " 1.00022403 1.00024666 1.00029596 0.99971996 1.00049538 0.9999566\n",
      " 1.00032602 1.0006385  0.99948194 0.99939816 0.99912972 0.99970312\n",
      " 0.99916267 0.99946143 0.99964826 0.99947568 0.99926007 0.99924238\n",
      " 0.99970327 0.99868452 1.00308102 1.00795897 1.00003214 0.99867327\n",
      " 1.003023   0.99960356 0.99957607 0.99945001 0.99960153 0.99953687\n",
      " 0.99903137 0.99872297 0.99957066 0.99988818 1.00046777 0.9983099\n",
      " 1.001036   1.00071251 1.00036368 0.99765239 0.9982917  1.00089914\n",
      " 1.00120943 1.0016213  1.00215129 0.9985622  1.00303848 0.99334174\n",
      " 1.00311176 0.99300086 1.00272243 1.00290821 1.00219695 1.00152494\n",
      " 1.0002186  1.00087645 1.00239849 0.99997036 0.99904113 0.99985357\n",
      " 1.00035255 1.00000912 1.00002545 1.00040307 1.00016784 1.00025986\n",
      " 0.99978216 0.9992457  0.99958359 1.00004941 0.99982316 0.99910879\n",
      " 0.99937698 0.99991375 0.99937918 0.99959261 1.00001181 1.00011377\n",
      " 1.0003596 ]\n",
      "[0.99997695 1.00022351 1.00023077 0.99964648 1.0002475  1.00011209\n",
      " 0.99949569 0.99993101 0.99984421 0.99975552 1.00022343 0.99976108\n",
      " 1.00036301 0.99979886 1.00004539 0.99941919 0.99932198 0.99961926\n",
      " 0.99939653 0.99966029 1.00037685 1.000678   1.00092882 1.0006813\n",
      " 1.00022403 1.00024666 1.00029596 0.99971996 1.00049538 0.9999566\n",
      " 1.00032602 1.0006385  0.99948194 0.99939816 0.99912972 0.99970312\n",
      " 0.99916267 0.99946143 0.99964826 0.99947568 0.99926007 0.99924238\n",
      " 0.99970327 0.99868452 1.00308102 1.00795897 1.00003214 0.99867327\n",
      " 1.003023   0.99960356 0.99957607 0.99945001 0.99960153 0.99953687\n",
      " 0.99903137 0.99872297 0.99957066 0.99988818 1.00046777 0.9983099\n",
      " 1.001036   1.00071251 1.00036368 0.99765239 0.9982917  1.00089914\n",
      " 1.00120943 1.0016213  1.00215129 0.9985622  1.00303848 0.99334174\n",
      " 1.00311176 0.99300086 1.00272243 1.00290821 1.00219695 1.00152494\n",
      " 1.0002186  1.00087645 1.00239849 0.99997036 0.99904113 0.99985357\n",
      " 1.00035255 1.00000912 1.00002545 1.00040307 1.00016784 1.00025986\n",
      " 0.99978216 0.9992457  0.99958359 1.00004941 0.99982316 0.99910879\n",
      " 0.99937698 0.99991375 0.99937918 0.99959261 1.00001181 1.00011377\n",
      " 1.0003596 ]\n",
      "[0.99997695 1.00022351 1.00023077 0.99964648 1.0002475  1.00011209\n",
      " 0.99949569 0.99993101 0.99984421 0.99975552 1.00022343 0.99976108\n",
      " 1.00036301 0.99979886 1.00004539 0.99941919 0.99932198 0.99961926\n",
      " 0.99939653 0.99966029 1.00037685 1.000678   1.00092882 1.0006813\n",
      " 1.00022403 1.00024666 1.00029596 0.99971996 1.00049538 0.9999566\n",
      " 1.00032602 1.0006385  0.99948194 0.99939816 0.99912972 0.99970312\n",
      " 0.99916267 0.99946143 0.99964826 0.99947568 0.99926007 0.99924238\n",
      " 0.99970327 0.99868452 1.00308102 1.00795897 1.00003214 0.99867327\n",
      " 1.003023   0.99960356 0.99957607 0.99945001 0.99960153 0.99953687\n",
      " 0.99903137 0.99872297 0.99957066 0.99988818 1.00046777 0.9983099\n",
      " 1.001036   1.00071251 1.00036368 0.99765239 0.9982917  1.00089914\n",
      " 1.00120943 1.0016213  1.00215129 0.9985622  1.00303848 0.99334174\n",
      " 1.00311176 0.99300086 1.00272243 1.00290821 1.00219695 1.00152494\n",
      " 1.0002186  1.00087645 1.00239849 0.99997036 0.99904113 0.99985357\n",
      " 1.00035255 1.00000912 1.00002545 1.00040307 1.00016784 1.00025986\n",
      " 0.99978216 0.9992457  0.99958359 1.00004941 0.99982316 0.99910879\n",
      " 0.99937698 0.99991375 0.99937918 0.99959261 1.00001181 1.00011377\n",
      " 1.0003596 ]\n",
      "[0.99997695 1.00022351 1.00023077 0.99964648 1.0002475  1.00011209\n",
      " 0.99949569 0.99993101 0.99984421 0.99975552 1.00022343 0.99976108\n",
      " 1.00036301 0.99979886 1.00004539 0.99941919 0.99932198 0.99961926\n",
      " 0.99939653 0.99966029 1.00037685 1.000678   1.00092882 1.0006813\n",
      " 1.00022403 1.00024666 1.00029596 0.99971996 1.00049538 0.9999566\n",
      " 1.00032602 1.0006385  0.99948194 0.99939816 0.99912972 0.99970312\n",
      " 0.99916267 0.99946143 0.99964826 0.99947568 0.99926007 0.99924238\n",
      " 0.99970327 0.99868452 1.00308102 1.00795897 1.00003214 0.99867327\n",
      " 1.003023   0.99960356 0.99957607 0.99945001 0.99960153 0.99953687\n",
      " 0.99903137 0.99872297 0.99957066 0.99988818 1.00046777 0.9983099\n",
      " 1.001036   1.00071251 1.00036368 0.99765239 0.9982917  1.00089914\n",
      " 1.00120943 1.0016213  1.00215129 0.9985622  1.00303848 0.99334174\n",
      " 1.00311176 0.99300086 1.00272243 1.00290821 1.00219695 1.00152494\n",
      " 1.0002186  1.00087645 1.00239849 0.99997036 0.99904113 0.99985357\n",
      " 1.00035255 1.00000912 1.00002545 1.00040307 1.00016784 1.00025986\n",
      " 0.99978216 0.9992457  0.99958359 1.00004941 0.99982316 0.99910879\n",
      " 0.99937698 0.99991375 0.99937918 0.99959261 1.00001181 1.00011377\n",
      " 1.0003596 ]\n",
      "[0.99997695 1.00022351 1.00023077 0.99964648 1.0002475  1.00011209\n",
      " 0.99949569 0.99993101 0.99984421 0.99975552 1.00022343 0.99976108\n",
      " 1.00036301 0.99979886 1.00004539 0.99941919 0.99932198 0.99961926\n",
      " 0.99939653 0.99966029 1.00037685 1.000678   1.00092882 1.0006813\n",
      " 1.00022403 1.00024666 1.00029596 0.99971996 1.00049538 0.9999566\n",
      " 1.00032602 1.0006385  0.99948194 0.99939816 0.99912972 0.99970312\n",
      " 0.99916267 0.99946143 0.99964826 0.99947568 0.99926007 0.99924238\n",
      " 0.99970327 0.99868452 1.00308102 1.00795897 1.00003214 0.99867327\n",
      " 1.003023   0.99960356 0.99957607 0.99945001 0.99960153 0.99953687\n",
      " 0.99903137 0.99872297 0.99957066 0.99988818 1.00046777 0.9983099\n",
      " 1.001036   1.00071251 1.00036368 0.99765239 0.9982917  1.00089914\n",
      " 1.00120943 1.0016213  1.00215129 0.9985622  1.00303848 0.99334174\n",
      " 1.00311176 0.99300086 1.00272243 1.00290821 1.00219695 1.00152494\n",
      " 1.0002186  1.00087645 1.00239849 0.99997036 0.99904113 0.99985357\n",
      " 1.00035255 1.00000912 1.00002545 1.00040307 1.00016784 1.00025986\n",
      " 0.99978216 0.9992457  0.99958359 1.00004941 0.99982316 0.99910879\n",
      " 0.99937698 0.99991375 0.99937918 0.99959261 1.00001181 1.00011377\n",
      " 1.0003596 ]\n"
     ]
    },
    {
     "name": "stderr",
     "output_type": "stream",
     "text": [
      "/usr/local/lib/python3.6/site-packages/ipykernel_launcher.py:47: RuntimeWarning: divide by zero encountered in true_divide\n"
     ]
    }
   ],
   "source": [
    "fig, ax = plt.subplots(1, 2, figsize=(6,8), sharex=True, sharey=True)\n",
    "\n",
    "dataset = 'ut150309'\n",
    "detrending = 'poly'\n",
    "detrending_2 = 'pca'\n",
    "offs = 0.025\n",
    "cmap = 'Spectral'\n",
    "binsize = '75nm'\n",
    "\n",
    "plot_binned(ax[0], dataset, detrending, offs, cmap, binsize, common_mode=False)\n",
    "#ax[0].set_title(dataset + ' ' + detrending + ' wavelet ' + binsize)\n",
    "\n",
    "plot_binned(ax[1], dataset, detrending, offs, cmap, binsize, common_mode=True)\n",
    "#ax[1].set_title(dataset + ' ' + detrending_2 + ' wavelet ' + binsize)\n",
    "\n",
    "#plot_binned_resid(ax[1], dataset, detrending, offs, cmap, binsize)\n",
    "\n",
    "fig.suptitle('WASP43 -- ' + dataset + '_' + binsize +' -- ' + \n",
    "             detrending + ' wavelet binned', fontsize=9)\n",
    "fig.text(0.45, 0, '$t-t_0\\ (hours)$')\n",
    "#ax[0].set_ylim(0.968, 1.133)\n",
    "fig.tight_layout(rect=[0, 0.03, 1, 0.95])\n",
    "\n",
    "#dirname = '../WASP43/{}/{}_binned/{}/'.format(dataset, detrending, binsize)\n",
    "#dirname = '/Users/mango/Desktop/{}/{}_binned/{}/'.format(dataset, detrending, binsize)\n",
    "#if not os.path.exists(dirname):\n",
    "#    os.makedirs(dirname)\n",
    "\n",
    "#fname = '{}_{}_{}_{}.pdf'.format(dataset, detrending, 'binned', binsize)\n",
    "#plt.savefig(dirname + fname, bbox_inches='tight')\n",
    "\n",
    "#plot_url = py.plot_mpl(fig)\n",
    "\n",
    "#plt.savefig('/Users/mango/Desktop/binned.png', dpi=300, bbox_inches='tight')"
   ]
  },
  {
   "cell_type": "markdown",
   "metadata": {
    "heading_collapsed": true
   },
   "source": [
    "## Noise fitting"
   ]
  },
  {
   "cell_type": "code",
   "execution_count": null,
   "metadata": {
    "hidden": true
   },
   "outputs": [],
   "source": [
    "#with open('/Users/mango/Desktop/ut170410_10nm/')\n",
    "fpath = '../WASP43/ut150309/pca_binned/final_LCs.pkl'\n",
    "binned_LC = pkl_load(fpath)"
   ]
  },
  {
   "cell_type": "code",
   "execution_count": null,
   "metadata": {
    "hidden": true
   },
   "outputs": [],
   "source": [
    "plt.plot(binned_LC['detLC'][1])"
   ]
  },
  {
   "cell_type": "code",
   "execution_count": null,
   "metadata": {
    "hidden": true
   },
   "outputs": [],
   "source": [
    "binned_LC.keys()"
   ]
  },
  {
   "cell_type": "code",
   "execution_count": null,
   "metadata": {
    "hidden": true
   },
   "outputs": [],
   "source": [
    "t, t0 = binned_LC['t'], binned_LC['t0']\n",
    "t_dur = 0.0483 * 24 # from http://exoplanets.org/detail/WASP-43\n",
    "t_ing = - t_dur/2\n",
    "t_egr = t_dur/2\n",
    "time = (t - t0) * 24 # make time relative to t0\n",
    "\n",
    "# get out of transit (OOT) indices\n",
    "oot_idx = np.where((time < t_ing) | (time > t_egr))\n",
    "\n",
    "i = 3\n",
    "LC_1 = binned_LC['detLC'][i]\n",
    "plt.plot(time, LC_1, '.', alpha=0.75)\n",
    "plt.plot(time[oot_idx], LC_1[oot_idx], 'r.')\n",
    "plt.axvline(t_ing, c='r', ls='--')\n",
    "plt.axvline(t_egr, c='r', ls='--')\n",
    "\n",
    "plt.xlabel(r'$t-t_0$ (hours)')\n",
    "plt.ylabel(r'$F/F_0$')\n",
    "\n",
    "plt.title('ut170410 $(5300\\AA-6050\\AA)$')\n",
    "\n",
    "#plt.savefig('/Users/mango/Desktop/raw.pdf', bbox_inches='tight')"
   ]
  },
  {
   "cell_type": "code",
   "execution_count": null,
   "metadata": {
    "hidden": true
   },
   "outputs": [],
   "source": [
    "n = 3\n",
    "y = LC_1[oot_idx]\n",
    "x = time[oot_idx]\n",
    "p, C_p = np.polyfit(x, y, n, cov=True)\n",
    "t = np.linspace(np.min(x), np.max(x), len(time))\n",
    "TT = np.vstack([t**(n-i) for i in range(n+1)]).T\n",
    "yi = np.dot(TT, p)\n",
    "C_yi = np.dot(TT, np.dot(C_p, TT.T)) # C_y = TT*C_z*TT.T\n",
    "sig_yi = np.sqrt(np.diag(C_yi))\n",
    "\n",
    "plt.plot(t, yi, 'r', label='model', alpha=0.25) # combined oot model\n",
    "plt.plot(x, y, 'ro', label='data', alpha=0.25) # combined oot data\n",
    "\n",
    "y_corr = (y-yi[oot_idx]) + 1#np.mean(yi)\n",
    "plt.plot(x, y_corr, 'b.', label='corrected') # oot corrected\n",
    "\n",
    "it_idx = np.where((time >= t_ing) & (time <= t_egr))\n",
    "diff_it = yi[it_idx] - 1\n",
    "\n",
    "#plt.axhline(np.median(y_corr))\n",
    "\n",
    "plt.xlabel('$(t-t_0)$')\n",
    "plt.ylabel(r'$F/F_0$')\n",
    "plt.title('ut170410 $(5300\\AA-6050\\AA)$')\n",
    "\n",
    "plt.legend(loc='best')\n",
    "\n",
    "#plt.savefig('/Users/mango/Desktop/fit.pdf', bbox_inches='tight')"
   ]
  },
  {
   "cell_type": "code",
   "execution_count": null,
   "metadata": {
    "hidden": true
   },
   "outputs": [],
   "source": [
    "fig, ax = plt.subplots(1, 2, sharey=True, figsize=(8,5))\n",
    "it_idx = np.where((time >= t_ing) & (time <= t_egr))\n",
    "\n",
    "ax[0].plot(time, LC_1, 'r.', alpha=0.5)\n",
    "ax[0].set_ylabel(r'$F/F_0$')\n",
    "\n",
    "ax[1].plot(time[oot_idx], (y-yi[oot_idx]) + 1, 'b.')\n",
    "ax[1].plot(time[it_idx], LC_1[it_idx]-diff_it, 'b.')\n",
    "ax[1].plot(time, LC_1, 'r.', alpha=0.25)\n",
    "\n",
    "ax[1].set_title('filler', color='w') # hacky way to make room for suptitle \n",
    "ax[1].set_xlabel('filler', color='w') # hacky way to make room for fig x label\n",
    "\n",
    "fig.suptitle('ut170410 $(5300\\AA-6050\\AA)$')\n",
    "fig.text(0.48, 0, '$t-t_0\\ (hours)$')\n",
    "fig.tight_layout()\n",
    "\n",
    "#plt.savefig('/Users/mango/Desktop/final.pdf', bbox_inches='tight')"
   ]
  },
  {
   "cell_type": "markdown",
   "metadata": {
    "heading_collapsed": true
   },
   "source": [
    "## Detrending Check"
   ]
  },
  {
   "cell_type": "code",
   "execution_count": null,
   "metadata": {
    "code_folding": [],
    "hidden": true
   },
   "outputs": [],
   "source": [
    "fpath = '../WASP43/ut150309/poly_binned/18nm/posteriors.pkl'\n",
    "POST = pkl_load(fpath)\n",
    "\n",
    "wl_mins = POST['wl_mins']\n",
    "\n",
    "wl_maxs = POST['wl_maxs']\n",
    "wl = (wl_mins + wl_maxs) / 2.\n",
    "order = np.argsort(wl)            #At least one pickle has the results in a strange order.\n",
    "wl = wl[order]\n",
    "wl_mins = wl_mins[order]\n",
    "wl_maxs = wl_maxs[order]\n",
    "msRpRs = POST['RpRs']['meds'][order]\n",
    "LsRpRs = POST['RpRs']['LCIs'][order]\n",
    "UsRpRs = POST['RpRs']['UCIs'][order]\n",
    "sigmas = POST['sigma_w']['meds'][order]\n",
    "\n",
    "# Sorting pickles\n",
    "fn = '../WASP43/ut150309/poly_binned/18nm/FIXED*'\n",
    "pkls = np.array(glob.glob(fn))\n",
    "\n",
    "temp_mins = []\n",
    "bad_pkls = []\n",
    "for pkl in pkls:\n",
    "    temp_min = float(pkl.split('/')[-1].split('_')[2])\n",
    "    if temp_min in wl_mins:\n",
    "        temp_mins.append(temp_min)\n",
    "    else:\n",
    "        bad_pkls.append(pkl)\n",
    "for bad_pkl in bad_pkls:\n",
    "    pkls = np.delete(pkls, np.where(pkls==bad_pkl))\n",
    "pkls = pkls[np.argsort(temp_mins)]\n",
    "\n",
    "# load up detLC pickle\n",
    "detLCs = {}\n",
    "#detLCs['detLC'] = {}\n",
    "for i in range(len(pkls)):\n",
    "    post_i = order[i]\n",
    "    fpath = pkls[i]\n",
    "    FIXED = pkl_load(fpath)\n",
    "         \n",
    "    #This pickle has all of the fixed parameters saved above\n",
    "    tr = FIXED['transit']\n",
    "    #Renaming parameters for convenience\n",
    "    \n",
    "    idx_fit = FIXED['idx_fit']\n",
    "    coeffs = [POST['a2']['meds'][post_i], POST['a1']['meds'][post_i], POST['a0']['meds'][post_i]]\n",
    "    detLC = FIXED['oLC']/FIXED['cLC'] # target LC / sum of comp\n",
    "    \n",
    "    detLCs[i] = detLC\n",
    "    \n",
    "    # correction\n",
    "    dt = FIXED['t'] - np.min(FIXED['t'])\n",
    "    detLCs[i] = detLC / np.polyval(coeffs, dt)\n",
    "\n",
    "# load in final LCs.pkl to check detreneded points against model\n",
    "fpath = '../WASP43/ut150309/pca_binned/18nm/final_LCs.pkl'\n",
    "final_LCs = pkl_load(fpath)\n",
    "model = final_LCs['model']\n",
    "idx_fit = final_LCs['idx_fit'][0]\n",
    "\n",
    "# color map\n",
    "cmap = 'Spectral_r'\n",
    "N = len(final_LCs['wbins']) # number of wavbins\n",
    "colors = sns.color_palette(cmap, N)\n",
    "\n",
    "# just plot good data points, use all (time) points for model\n",
    "fig, ax = plt.subplots(1, 2, figsize=(6,8))\n",
    "\n",
    "c = 0\n",
    "t_rel = (final_LCs['t'] - final_LCs['t0'])*24\n",
    "for i in range(N):\n",
    "    med = 1. #np.median(detLCs[i][idx_fit])\n",
    "    ax[0].plot(t_rel[idx_fit], detLCs[i][idx_fit]/med + c, '.', c=colors[i], alpha=0.5)\n",
    "    ax[0].plot(t_rel, model[i] + c, '--', c=colors[i])\n",
    "    c += 0.025\n",
    "    \n",
    "#fig.suptitle('WASP43 -- ' + dataset + '_' + binsize +' -- ' + \n",
    "#             detrending + ' wavelet binned ', fontsize=12)\n",
    "#fig.text(0.45, 0, '$t-t_0\\ (hours)$')\n",
    "fig.tight_layout()"
   ]
  },
  {
   "cell_type": "markdown",
   "metadata": {
    "heading_collapsed": true
   },
   "source": [
    "## Common Mode Correction"
   ]
  },
  {
   "cell_type": "markdown",
   "metadata": {},
   "source": [
    "# Transmission Spectra"
   ]
  },
  {
   "cell_type": "markdown",
   "metadata": {},
   "source": [
    "## $R_p/R_s$ vs. $\\lambda$"
   ]
  },
  {
   "cell_type": "markdown",
   "metadata": {},
   "source": [
    "### Get $R_p/R_s$, wavs, and associated errors"
   ]
  },
  {
   "cell_type": "code",
   "execution_count": null,
   "metadata": {},
   "outputs": [],
   "source": [
    "# return fitted RpRs_unc (Gaussian sigma) for given PD file\n",
    "# which is for given wavbin\n",
    "def get_sigma(fpaths):\n",
    "    sigma_list = []\n",
    "    for fpath in sorted(glob.glob(fpaths)): # loop over wav bins\n",
    "        pd = pkl_load(fpath)\n",
    "\n",
    "        RpRs = pd['RpRs']\n",
    "        mu, sigma = stats.norm.fit(RpRs) # get stats for trans. spec error bars\n",
    "        sigma_list.append(sigma)        \n",
    "    \n",
    "    return np.array(sigma_list)\n",
    "\n",
    "def get_rprs_unc(bin_list, path):\n",
    "    pd_path = path + '{}' + '/PD*'\n",
    "    rprs_med_list = []  # -->\n",
    "    rprs_mean_list = [] # saving both for diagnostic purposes\n",
    "    rprs_unc_list = []\n",
    "    for w in bin_list: # loop over bin sizes\n",
    "        fn = pd_path.format(w)\n",
    "        rprs_unc = get_sigma(fn) # get rprs_unc for wth bin\n",
    "        rprs_unc_list.append(rprs_unc)\n",
    "    \n",
    "    return rprs_unc_list\n",
    "\n",
    "# Gets rprs, wavbin centers, and wavbin widths (wavbin error).\n",
    "# The posteriors are ordered by average wavelength \n",
    "# $(\\lambda_{min}+\\lambda_{max})/2$ when saved to the pickle.\n",
    "def get_rprs(path):\n",
    "    wav_list = []\n",
    "    wav_err_list = []\n",
    "    rprs_list = []\n",
    "\n",
    "    fpaths = path + '*nm/posteriors.pkl'\n",
    "    for fpath in sorted(glob.glob(fpaths)):\n",
    "        post = pkl_load(fpath)\n",
    "        #print post.keys()\n",
    "        wav_avg = (post['wl_maxs'] + post['wl_mins']) / 2 # center of bins\n",
    "        binsize = post['wl_maxs'] - post['wl_mins'] # for horizontal errorbars\n",
    "        RpRs_med = post['RpRs']['meds'] # median\n",
    "\n",
    "        wav_list.append(wav_avg)\n",
    "        wav_err_list.append(binsize)\n",
    "        rprs_list.append(RpRs_med)\n",
    "    \n",
    "    return wav_list, wav_err_list, rprs_list\n",
    "\n",
    "def trans_spec_plot(ax, bin_list, color_list, path):\n",
    "    # plot reference absorption lines\n",
    "    wav_name = np.array(['NaI-D','H-alpha','KI_avg','NaI-8200_avg'])\n",
    "    wav_cen = np.array([5892.9, 6564.6, 7682.0, 8189.0])\n",
    "    base_cen = np.array([5580.0, 5580.0, 8730.0, 8730.0])\n",
    "    [ax.axvline(i, c='grey', alpha=0.5, ls='--') for i in wav_cen]\n",
    "\n",
    "    # get plot values\n",
    "    wav_list, wav_err_list, rprs_list = get_rprs(path)\n",
    "    rprs_unc_list = get_rprs_unc(bin_list, path)\n",
    "    #print get_rprs_unc(bin_list, path)\n",
    "    for wav, wav_err, rprs, rprs_err, lb, c in zip(\n",
    "        wav_list, wav_err_list, rprs_list, rprs_unc_list, bin_list, color_list):\n",
    "        ax.errorbar(wav, rprs, xerr=wav_err/2, yerr=rprs_err, fmt='o', \n",
    "                    label=lb, alpha=0.6, color=c)\n",
    "    #ax.set_ylim(0.15, 0.164)\n",
    "\n",
    "    ax.set_xlabel('Wavelength $(\\AA)$')\n",
    "    ax.set_ylabel(r'$R_p/R_s$')\n",
    "    ax.legend(loc='best')"
   ]
  },
  {
   "cell_type": "markdown",
   "metadata": {},
   "source": [
    "### Display Plot"
   ]
  },
  {
   "cell_type": "code",
   "execution_count": null,
   "metadata": {},
   "outputs": [],
   "source": [
    "fig, ax = plt.subplots(figsize=(9,3))\n",
    "bin_list = ['10nm', '18nm', '25nm', '75nm']\n",
    "color_list = ['r', 'g', 'b', 'y'] # color for each binsize plotted\n",
    "\n",
    "path = '../WASP43/ut170410/poly_binned/'\n",
    "\n",
    "trans_spec_plot(ax, bin_list, color_list, path)\n",
    "\n",
    "dirname = '../journal/Figures/20180123/'\n",
    "if not os.path.exists(dirname):\n",
    "    os.makedirs(dirname)\n",
    "    \n",
    "args = path.split('/')\n",
    "date, detrending = args[2], args[3]\n",
    "    \n",
    "title = '{} {} transmission spectrum starspot'.format(date, detrending, 'binned')\n",
    "ax.set_title(title)\n",
    "\n",
    "ax.set_xlim(5000, 9000)\n",
    "ax.set_ylim(0.150, 0.164)\n",
    "\n",
    "fname = '{}_{}_transpec_starspot.pdf'.format(date, detrending, 'binned')\n",
    "plt.savefig(dirname + fname, bbox_inches='tight')"
   ]
  },
  {
   "cell_type": "markdown",
   "metadata": {},
   "source": [
    "### AAS 231 Grid Plot"
   ]
  },
  {
   "cell_type": "code",
   "execution_count": null,
   "metadata": {},
   "outputs": [],
   "source": [
    "fig, ax = plt.subplots(2, 1, figsize=(10,5), sharex=True, sharey=True)\n",
    "bin_list = ['10nm', '18nm', '25nm', '75nm']\n",
    "color_list = ['r', 'g', 'b', 'y'] # color for each binsize plotted\n",
    "\n",
    "# ut150309 transmission spec\n",
    "path = '../WASP43/ut150309/poly_binned/'\n",
    "trans_spec_plot(ax[0], bin_list, color_list, path) \n",
    "args = path.split('/')\n",
    "date, detrending = args[2], args[3]\n",
    "title = '{} {} transmission spectrum'.format(date, detrending, 'binned')\n",
    "ax[0].set_title(title)\n",
    "\n",
    "# ut170410 transmission spec\n",
    "path = '../WASP43/ut170410/poly_binned/'\n",
    "trans_spec_plot(ax[1], bin_list, color_list, path) \n",
    "args = path.split('/')\n",
    "date, detrending = args[2], args[3]\n",
    "title = '{} {} transmission spectrum'.format(date, detrending, 'binned')\n",
    "ax[1].set_title(title)\n",
    "\n",
    "ax[0].set_xlim(5000, 9000)\n",
    "ax[0].set_ylim(0.150, 0.164)\n",
    "ax[1].set_xlabel('Wavelength $(\\AA)$')\n",
    "\n",
    "plt.savefig('/Users/mango/Desktop/spec.png', dpi=300, bbox_inches='tight')"
   ]
  },
  {
   "cell_type": "markdown",
   "metadata": {
    "heading_collapsed": true
   },
   "source": [
    "### $R_p / R_s$ vs. binsize "
   ]
  },
  {
   "cell_type": "code",
   "execution_count": null,
   "metadata": {
    "hidden": true
   },
   "outputs": [],
   "source": [
    "fig, axes = plt.subplots(2, 2, figsize=(8,5))\n",
    "\n",
    "# isolate user bins, assuming they increment in size by 10 up to 100\n",
    "for ax, spec_idx, base_idx, ttl in zip(axes.flatten(), wav_cen, base_cen, wav_name): \n",
    "    ax.set_title(ttl)\n",
    "    #feature_idx_i = ((binsize <= 100) & (binsize % 10 == 0))\n",
    "    feature_idx_i = np.where(wav_avg == spec_idx)\n",
    "    RpRs = RpRs_list[1][feature_idx_i]\n",
    "    RpRs_upper = RpRs_list[0][feature_idx_i]\n",
    "    RpRs_lower = RpRs_list[2][feature_idx_i]\n",
    "    binsize_spec = binsize[feature_idx_i]\n",
    "    x = binsize_spec # for convenience\n",
    "    ax.errorbar(x, RpRs, fmt='bo', yerr=[RpRs - RpRs_lower, RpRs_upper - RpRs], \\\n",
    "                ecolor='b', elinewidth=0.5, alpha=0.75)\n",
    "    \n",
    "    # baseline\n",
    "    baseline_idx_i = np.where(wav_avg == base_idx)\n",
    "    RpRs_base = RpRs_list[1][baseline_idx_i]\n",
    "    RpRs_upper_base = RpRs_list[0][baseline_idx_i]\n",
    "    RpRs_lower_base = RpRs_list[2][baseline_idx_i]\n",
    "    binsize_spec_base = binsize[baseline_idx_i]\n",
    "    x_base = binsize_spec_base # for convenience\n",
    "    ax.errorbar(x_base, RpRs_base, fmt='ro', yerr=[RpRs_base - RpRs_lower_base, \\\n",
    "    RpRs_upper_base - RpRs_base], elinewidth=0.5, color='r', alpha=0.5)\n",
    "    \n",
    "    \n",
    "    x = binsize_spec\n",
    "    y = RpRs\n",
    "    if (spec_idx == 5892.9 or spec_idx == 6564.6):\n",
    "        n = 3\n",
    "        p, C_p = np.polyfit(x, y, n, cov=True, w=1./np.mean([RpRs_lower, RpRs_upper], axis=0))\n",
    "        t = np.linspace(np.min(x), np.max(x), 500)\n",
    "        TT = np.vstack([t**(n-i) for i in range(n+1)]).T\n",
    "        yi = np.dot(TT, p)\n",
    "        C_yi = np.dot(TT, np.dot(C_p, TT.T)) # C_y = TT*C_z*TT.T\n",
    "        sig_yi = np.sqrt(np.diag(C_yi))\n",
    "        #sig_yi = np.abs(np.dot(TT, p+np.sqrt(np.diag(C_p))) - yi) # wrong\n",
    "        ax.fill_between(t, yi + sig_yi, yi - sig_yi, alpha=0.25)\n",
    "        ax.plot(t, yi, xkcd('pale blue'))\n",
    "    else:\n",
    "        n = 1\n",
    "        p, C_p = np.polyfit(x, y, n, cov=True, w=1./np.mean([RpRs_lower, RpRs_upper], axis=0))\n",
    "        t = np.linspace(np.min(x), np.max(x), 500)\n",
    "        TT = np.vstack([t**(n-i) for i in range(n+1)]).T\n",
    "        yi = np.dot(TT, p)\n",
    "        C_yi = np.dot(TT, np.dot(C_p, TT.T)) # C_y = TT*C_z*TT.T\n",
    "        sig_yi = np.sqrt(np.diag(C_yi))\n",
    "        #sig_yi = np.abs(np.dot(TT, p+np.sqrt(np.diag(C_p))) - yi) # wrong\n",
    "        ax.fill_between(t, yi + sig_yi, yi - sig_yi, alpha=0.25)\n",
    "        ax.plot(t, yi, xkcd('pale blue'))\n",
    "\n",
    "    # fit baseline\n",
    "    x = binsize_spec_base\n",
    "    y = RpRs_base\n",
    "    #if (spec_idx == 5892.9 or spec_idx == 6564.6):\n",
    "    if (base_idx == 5580.0):\n",
    "        n = 3\n",
    "    else:\n",
    "        n = 1\n",
    "    p, C_p = np.polyfit(x, y, n, cov=True, w=1./np.mean([RpRs_lower_base, RpRs_upper_base], axis=0))\n",
    "    t = np.linspace(np.min(x), np.max(x), 500)\n",
    "    TT = np.vstack([t**(n-i) for i in range(n+1)]).T\n",
    "    yi = np.dot(TT, p)\n",
    "    C_yi = np.dot(TT, np.dot(C_p, TT.T)) # C_y = TT*C_z*TT.T\n",
    "    sig_yi = np.sqrt(np.diag(C_yi))\n",
    "    #sig_yi = np.abs(np.dot(TT, p+np.sqrt(np.diag(C_p))) - yi) # wrong\n",
    "    ax.fill_between(t, yi + sig_yi, yi - sig_yi, alpha=0.25, facecolor='r')\n",
    "    ax.plot(t, yi, 'r')\n",
    "\n",
    "fig.text(0.01, 0.52, r'$R_p/R_s$', va='center', rotation='vertical')\n",
    "fig.text(0.52, 0.01, r'$binsize\\ (\\AA)$', ha='center')\n",
    "\n",
    "plt.legend(loc=9, bbox_to_anchor=(-2, -0.1), ncol=3)\n",
    "\n",
    "fig.tight_layout(pad=2)\n",
    "\n",
    "#plt.savefig('../journal/Figures/20171210/bin_fit.pdf', bbox_inches='tight')\n",
    "#plt.savefig('/Users/mango/Desktop/bin_fit_old.pdf', bbox_inches='tight')"
   ]
  }
 ],
 "metadata": {
  "kernelspec": {
   "display_name": "Python 3",
   "language": "python",
   "name": "python3"
  },
  "language_info": {
   "codemirror_mode": {
    "name": "ipython",
    "version": 3
   },
   "file_extension": ".py",
   "mimetype": "text/x-python",
   "name": "python",
   "nbconvert_exporter": "python",
   "pygments_lexer": "ipython3",
   "version": "3.6.4"
  },
  "toc": {
   "colors": {
    "hover_highlight": "#DAA520",
    "navigate_num": "#fc151b",
    "navigate_text": "#92a2be",
    "running_highlight": "#FF0000",
    "selected_highlight": "#FFD700",
    "sidebar_border": "#EEEEEE",
    "wrapper_background": "#FFFFFF"
   },
   "moveMenuLeft": true,
   "nav_menu": {
    "height": "433px",
    "width": "590px"
   },
   "navigate_menu": true,
   "number_sections": false,
   "sideBar": true,
   "threshold": 4,
   "toc_cell": false,
   "toc_section_display": "block",
   "toc_window_display": false,
   "widenNotebook": false
  },
  "varInspector": {
   "cols": {
    "lenName": 16,
    "lenType": 16,
    "lenVar": 40
   },
   "kernels_config": {
    "python": {
     "delete_cmd_postfix": "",
     "delete_cmd_prefix": "del ",
     "library": "var_list.py",
     "varRefreshCmd": "print(var_dic_list())"
    },
    "r": {
     "delete_cmd_postfix": ") ",
     "delete_cmd_prefix": "rm(",
     "library": "var_list.r",
     "varRefreshCmd": "cat(var_dic_list()) "
    }
   },
   "types_to_exclude": [
    "module",
    "function",
    "builtin_function_or_method",
    "instance",
    "_Feature"
   ],
   "window_display": false
  }
 },
 "nbformat": 4,
 "nbformat_minor": 2
}
