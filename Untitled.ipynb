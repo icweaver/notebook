{
 "cells": [
  {
   "cell_type": "code",
   "execution_count": 7,
   "metadata": {},
   "outputs": [],
   "source": [
    "import matplotlib.pyplot as plt\n",
    "import matplotlib.patheffects as PathEffects\n",
    "import numpy as np\n",
    "import seaborn as sns\n",
    "import glob\n",
    "import cPickle as pickle\n",
    "from scipy import stats\n",
    "\n",
    "sns.set_context('paper')\n",
    "sns.set_style('darkgrid')\n",
    "sns.set_color_codes('deep')\n",
    "sns.set_palette('deep')\n",
    "%matplotlib qt5\n",
    "plt.ion()"
   ]
  },
  {
   "cell_type": "code",
   "execution_count": 8,
   "metadata": {},
   "outputs": [],
   "source": [
    "def pkl_load(fpath):\n",
    "    with open(fpath, 'rb') as f:\n",
    "        data = pickle.load(f)\n",
    "    return data\n",
    "\n",
    "# return fitted RpRs_unc (Gaussian sigma) for given PD file\n",
    "# which is for given wavbin\n",
    "def get_sigma(fpaths):\n",
    "    sigma_list = []\n",
    "    for fpath in sorted(glob.glob(fpaths)): # loop over wav bins\n",
    "        pd = pkl_load(fpath)\n",
    "        RpRs = pd['RpRs']\n",
    "        mu, sigma = stats.norm.fit(RpRs) # get stats for error bars\n",
    "        sigma_list.append(sigma)    \n",
    "        \n",
    "    return np.array(sigma_list)\n",
    "\n",
    "def get_rprs_unc(bin_list, path):\n",
    "    rprs_med_list = []  # -->\n",
    "    rprs_mean_list = [] # saving both for diagnostic purposes\n",
    "    rprs_unc_list = []\n",
    "    for b in bin_list: # loop over bin sizes\n",
    "        fn = '{}/{}/PD*'.format(path, b)\n",
    "        rprs_unc = get_sigma(fn) # get rprs_unc for wth bin\n",
    "        rprs_unc_list.append(rprs_unc)\n",
    "    \n",
    "    return rprs_unc_list\n",
    "\n",
    "# Gets rprs, wavbin centers, and wavbin widths (wavbin error).\n",
    "# The posteriors are ordered by average wavelength \n",
    "# $(\\lambda_{min}+\\lambda_{max})/2$ when saved to the pickle.\n",
    "def get_rprs(bin_list, path):\n",
    "    wav_list = []\n",
    "    wav_err_list = []\n",
    "    rprs_list = []\n",
    "\n",
    "    #fpaths = path + '*nm/posteriors.pkl'\n",
    "    #for fpath in sorted(glob.glob(fpaths)):\n",
    "    for b in bin_list:\n",
    "        fpath = '{}/{}/posteriors.pkl'.format(path, b)\n",
    "        post = pkl_load(fpath)\n",
    "        #print post.keys()\n",
    "        wav_avg = (post['wl_maxs'] + post['wl_mins']) / 2 # center of bins\n",
    "        binsize = post['wl_maxs'] - post['wl_mins'] # for horizontal errorbars\n",
    "        RpRs_med = post['RpRs']['meds'] # median\n",
    "\n",
    "        wav_list.append(wav_avg)\n",
    "        wav_err_list.append(binsize)\n",
    "        rprs_list.append(RpRs_med)\n",
    "    \n",
    "    return wav_list, wav_err_list, rprs_list\n",
    "\n",
    "def trans_spec_plot(ax, bin_list, color_list, path, fmt):\n",
    "    # plot reference absorption lines\n",
    "    wav_name = np.array(['NaI-D','H-alpha','KI_avg','NaI-8200_avg'])\n",
    "    wav_cen = np.array([5892.9, 6564.6, 7682.0, 8189.0])\n",
    "    base_cen = np.array([5580.0, 5580.0, 8730.0, 8730.0])\n",
    "    [ax.axvline(i, c='grey', alpha=0.5, ls='--') for i in wav_cen]\n",
    "\n",
    "    # get plot values\n",
    "    wav_list, wav_err_list, rprs_list = get_rprs(bin_list, path)\n",
    "    rprs_unc_list = get_rprs_unc(bin_list, path)\n",
    "    #print get_rprs_unc(bin_list, path)\n",
    "    ars = [wav_list, wav_err_list, rprs_list, \n",
    "           rprs_unc_list, bin_list, color_list]\n",
    "    for wav, wav_err, rprs, rprs_err, lb, c in zip(*ars):\n",
    "        ax.errorbar(wav, rprs, xerr=wav_err/2, yerr=rprs_err, fmt=fmt, \n",
    "                   label=lb, alpha=0.6, color=c)\n",
    "    #ax.set_ylim(0.15, 0.164)\n",
    "\n",
    "    ax.set_xlabel('Wavelength $(\\AA)$')\n",
    "    ax.set_ylabel(r'$R_p/R_s$')\n",
    "    ax.legend(loc='best')"
   ]
  },
  {
   "cell_type": "code",
   "execution_count": 11,
   "metadata": {},
   "outputs": [
    {
     "data": {
      "text/plain": [
       "(0.15, 0.164)"
      ]
     },
     "execution_count": 11,
     "metadata": {},
     "output_type": "execute_result"
    }
   ],
   "source": [
    "fig, ax = plt.subplots(figsize=(9,3))\n",
    "\n",
    "# config plot\n",
    "date = 'ut170410'\n",
    "CMC = False\n",
    "bin_list = ['10nm', '18nm', '25nm', '75nm']\n",
    "color_list = ['r', 'g', 'b', 'y'] # color for each binsize plotted\n",
    "path = '../WASP43/{}/poly_binned_CMC'.format(date)\n",
    "if (not CMC):\n",
    "    path = path.replace('_CMC', '')\n",
    "\n",
    "# call the plot\n",
    "trans_spec_plot(ax, bin_list, color_list, path, 'o')\n",
    "\n",
    "# set title and ax dimensions\n",
    "args = path.split('/')\n",
    "date, detrending = args[2], args[3]   \n",
    "title = '{} {} transmission spectrum starspot'.format(date, \n",
    "                                                      detrending, 'binned')\n",
    "#ax.set_title(title)\n",
    "ax.set_xlim(5000, 9000)\n",
    "ax.set_ylim(0.150, 0.164)\n",
    "\n",
    "# save\n",
    "#dirname = '../journal/Figures/20180203/'\n",
    "#dirname = path + '/'\n",
    "#fname = '{}_{}'.format(date, detrending, 'binned')\n",
    "#if CMC: fname += '_CMC'\n",
    "#fname += '.pdf'                                                     \n",
    "#utils.save_fig(dirname, fname)"
   ]
  },
  {
   "cell_type": "code",
   "execution_count": null,
   "metadata": {},
   "outputs": [],
   "source": []
  }
 ],
 "metadata": {
  "kernelspec": {
   "display_name": "Python 2",
   "language": "python",
   "name": "python2"
  },
  "language_info": {
   "codemirror_mode": {
    "name": "ipython",
    "version": 2
   },
   "file_extension": ".py",
   "mimetype": "text/x-python",
   "name": "python",
   "nbconvert_exporter": "python",
   "pygments_lexer": "ipython2",
   "version": "2.7.14"
  },
  "toc": {
   "colors": {
    "hover_highlight": "#DAA520",
    "navigate_num": "#fc151b",
    "navigate_text": "#92a2be",
    "running_highlight": "#FF0000",
    "selected_highlight": "#FFD700",
    "sidebar_border": "#EEEEEE",
    "wrapper_background": "#FFFFFF"
   },
   "moveMenuLeft": true,
   "nav_menu": {
    "height": "0px",
    "width": "250px"
   },
   "navigate_menu": true,
   "number_sections": false,
   "sideBar": true,
   "threshold": 4,
   "toc_cell": false,
   "toc_section_display": "block",
   "toc_window_display": false,
   "widenNotebook": false
  }
 },
 "nbformat": 4,
 "nbformat_minor": 2
}
