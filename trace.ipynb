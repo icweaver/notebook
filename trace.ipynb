{
 "cells": [
  {
   "cell_type": "code",
   "execution_count": 108,
   "metadata": {},
   "outputs": [],
   "source": [
    "import matplotlib.pyplot as plt\n",
    "import numpy as np\n",
    "import pyfits\n",
    "import seaborn as sns\n",
    "import sys\n",
    "import scipy\n",
    "\n",
    "sys.path.append(\"./Orders\")\n",
    "import Order\n",
    "\n",
    "from scipy.interpolate import interp1d\n",
    "\n",
    "%matplotlib qt5\n",
    "plt.ion()\n",
    "\n",
    "sns.set_context('paper')\n",
    "sns.set_style('darkgrid')\n",
    "sns.set_color_codes('deep')"
   ]
  },
  {
   "cell_type": "markdown",
   "metadata": {
    "heading_collapsed": true
   },
   "source": [
    "## Bias Sec"
   ]
  },
  {
   "cell_type": "code",
   "execution_count": 21,
   "metadata": {
    "hidden": true
   },
   "outputs": [],
   "source": [
    "def biassec(x):\n",
    "    x = x.split(',')\n",
    "    fnum = ((x[0])[1:]).split(':')\n",
    "    snum = ((x[1])[:len(x[1])-1]).split(':')\n",
    "    fnum[0] = int(fnum[0])\n",
    "    fnum[1] = int(fnum[1])\n",
    "    snum[0] = int(snum[0])\n",
    "    snum[1] = int(snum[1])\n",
    "    return fnum,snum"
   ]
  },
  {
   "cell_type": "markdown",
   "metadata": {
    "heading_collapsed": true
   },
   "source": [
    "## Bias Trim"
   ]
  },
  {
   "cell_type": "code",
   "execution_count": 17,
   "metadata": {
    "hidden": true
   },
   "outputs": [],
   "source": [
    "def BiasTrim(d,c,h,otype,datasec=None):\n",
    "    \"\"\"\n",
    "    Overscan/Bias correct and Trim an IMACS chip\n",
    "    \"\"\"\n",
    "    # bias has no significant structure, so a single median suffices, I think\n",
    "    # overscan = [0:49] [2097:2145]\n",
    "    def get_full_datasec(h):\n",
    "        binning = h['binning']\n",
    "        b1, b2 = np.array(binning.split('x')).astype('int')\n",
    "        datasec = '[1:{:},1:{:}]'.format(2048/b1, 4096/b2)\n",
    "        return datasec\n",
    "\n",
    "    oxsec,oysec = biassec(h['biassec'])\n",
    "    if(datasec == None):\n",
    "#        dxsec,dysec = biassec(h['datasec'])\n",
    "        datasec = get_full_datasec(h)\n",
    "        dxsec,dysec = biassec(datasec)\n",
    "    else:\n",
    "        dxsec,dysec = biassec(datasec)\n",
    "    if(otype=='ift'):\n",
    "        oscan_data = d[(oysec[0]-1):oysec[1],(oxsec[0]-1):oxsec[1]]\n",
    "        overscan = np.median(oscan_data)\n",
    "        if(overscan == 0):\n",
    "            overscan = zero_oscan(oscan_data)\n",
    "        newdata = d[(dysec[0]-1):dysec[1],(dxsec[0]-1):dxsec[1]] - overscan\n",
    "    else:\n",
    "        d = d.transpose()\n",
    "        oscan_data = d[oxsec[0]-1:oxsec[1],oysec[0]-1:oysec[1]]\n",
    "        overscan = np.median(oscan_data)\n",
    "        if(overscan == 0):\n",
    "            overscan = zero_oscan(oscan_data)\n",
    "        newdata = d[dxsec[0]-1:dxsec[1],dysec[0]-1:dysec[1]] - overscan\n",
    "    #overscan = np.median(d[:,2048:2112])\n",
    "    #newdata = d[:4095,0:2048] - overscan\n",
    "    if ((c == 'c5') or (c == 'c6') or (c == 'c7') or (c == 'c8')):\n",
    "        if(otype == 'iff'):\n",
    "            newdata = newdata[::-1,:]\n",
    "        else:\n",
    "            newdata = newdata[::-1,::-1]\n",
    "\n",
    "    return newdata"
   ]
  },
  {
   "cell_type": "markdown",
   "metadata": {
    "heading_collapsed": true
   },
   "source": [
    "## Fix bad pixels"
   ]
  },
  {
   "cell_type": "code",
   "execution_count": 18,
   "metadata": {
    "hidden": true
   },
   "outputs": [],
   "source": [
    "def FixBadPixels(d, xbad_pix, ybad_pix, xmin=None, xmax=None):\n",
    "    if xmin is None:\n",
    "        xmin = 0\n",
    "    if xmax is None:\n",
    "        xmax = d.shape[1]-1\n",
    "    y_all = np.arange(d.shape[0])\n",
    "    #counter = 0\n",
    "    for i in range(xmin,xmax+1):\n",
    "        idx_bad = np.where(xbad_pix == i)[0]\n",
    "        if len(idx_bad)>0:\n",
    "            mask = np.ones(len(y_all), dtype=bool)\n",
    "            bad_y = ybad_pix[idx_bad]\n",
    "            mask[bad_y] = False\n",
    "            #counter = counter + 1\n",
    "            # Prepare the values to interpolate by fixing values further away than the edges to \n",
    "            # the median of the ten closest points to them:\n",
    "            xinterp = np.append(y_all[mask],y_all[-1]+1)\n",
    "            yinterp = np.append(d[y_all[mask],i],np.median(d[-10:,i]))\n",
    "            xinterp = np.append(-1,xinterp)\n",
    "            yinterp = np.append(np.median(yinterp[0:10]),yinterp)\n",
    "            spl = interp1d(xinterp,yinterp)\n",
    "            #pyfits.PrimaryHDU(d[:,i]).writeto('before_'+str(counter)+'.fits') \n",
    "            d[bad_y,i] = spl(bad_y)\n",
    "            #pyfits.PrimaryHDU(d[:,i]).writeto('after_'+str(counter)+'.fits')\n",
    "            #sys.exit()\n",
    "    return d"
   ]
  },
  {
   "cell_type": "markdown",
   "metadata": {
    "heading_collapsed": true
   },
   "source": [
    "## Test noise"
   ]
  },
  {
   "cell_type": "code",
   "execution_count": 53,
   "metadata": {
    "hidden": true
   },
   "outputs": [],
   "source": [
    "def TestNoiseThreshold(d, x_new, y, step, span):\n",
    "    \"\"\"\n",
    "    Test if spectrum is above noise threshold for tracing algorithm\n",
    "    \"\"\"\n",
    "    x = int(x_new)\n",
    "    idx_spec = range(np.max([x-span,0]), np.min([x+span,d.shape[1]]))\n",
    "    idx_left = range(np.max([x-2*span,0]), np.min([x-span,d.shape[1]]))\n",
    "    idx_right = range(np.max([x+span,0]), np.min([x+2*span,d.shape[1]]))\n",
    "    idx_down = np.max([y-step/2,0])\n",
    "    idx_up = np.min([y+step/2+1,d.shape[0]])\n",
    "    bkg = np.median(d[int(idx_down):int(idx_up),idx_left+idx_right])\n",
    "    bkg_err = np.std(d[int(idx_down):int(idx_up),idx_left+idx_right])\n",
    "    spec = np.sum(d[int(idx_down):int(idx_up),idx_spec] - bkg, axis=0)\n",
    "    SpecAboveNoise = np.mean(spec) > 3*bkg_err\n",
    "    return SpecAboveNoise"
   ]
  },
  {
   "cell_type": "markdown",
   "metadata": {
    "heading_collapsed": true
   },
   "source": [
    "## Trace"
   ]
  },
  {
   "cell_type": "code",
   "execution_count": 2,
   "metadata": {
    "hidden": true
   },
   "outputs": [],
   "source": [
    "def Trace(d, x0, y0, init_span=5, span=5, thres=1000, step=4, order=4,\n",
    "          tr_precision=0.01,verbose=False):\n",
    "    \"\"\"\n",
    "    Trace an object given the data and the initial position\n",
    "    \"\"\"    \n",
    "    start_step = 10. # Initial step twice must be the largest \n",
    "    # (in order to avoid cosmic rays)! Is the most important one!\n",
    "    dinit  = np.median(d[int(y0-start_step/2):int(y0+start_step/2+1),\n",
    "                          int(x0-init_span):int(x0+init_span+1)], axis=0)\n",
    "    x_init = x0-init_span+getCenter(dinit,precision = tr_precision)\n",
    "#    X = np.arange(x0-span,x0+span+1)\n",
    "#    x_init = np.sum(dinit * X) / np.sum(dinit) \n",
    "    Nx = d.shape[1]\n",
    "    Ny = d.shape[0]    \n",
    "\n",
    "    x_a = np.array([])\n",
    "    y_a = np.array([])\n",
    "    x_a = np.append(x_a,x_init)\n",
    "    y_a = np.append(y_a,y0)\n",
    "\n",
    "    if(verbose):\n",
    "        print 'x0:',x0,'y0',y0,'(span: ',span,', step:',step,') | x_init:',x_init\n",
    "    # go up\n",
    "    cond = 1\n",
    "    y_old=y0\n",
    "    x_old=x_init\n",
    "    counter = 0\n",
    "    diff_pix = span/2.\n",
    "    counter_thres = 5\n",
    "    while(cond):\n",
    "        y = y_old + step\n",
    "        if ((y + step/2)>= Ny):\n",
    "            cond=0\n",
    "        else:\n",
    "            xold_i = int(x_old)\n",
    "            # X = np.arange(xold_i-span,xold_i+span+1)\n",
    "            dat  = np.median(d[int(y-step/2):int(y+step/2+1),\n",
    "                               int(xold_i-span):int(xold_i+span+1)], axis=0)\n",
    "            x_new = xold_i-span+getCenter(dat,precision = tr_precision)\n",
    "            SpecAboveNoise = TestNoiseThreshold(d, x_new, y, step, span)\n",
    "            # x_new = np.sum(dat * X) / np.sum(dat) \n",
    "        #print x_new, y, np.sum(dat)\n",
    "            if (counter>counter_thres):\n",
    "                cond=0\n",
    "            elif(abs(x_new-x_old)>diff_pix):\n",
    "                counter = counter + 1\n",
    "                y_old = y\n",
    "            elif(not SpecAboveNoise):\n",
    "                counter = counter + 1\n",
    "                y_old = y\n",
    "            else:\n",
    "                x_a = np.append(x_a,x_new)\n",
    "                y_a = np.append(y_a,y)\n",
    "                y_old=y\n",
    "                x_old=x_new\n",
    "                counter = 0\n",
    "\n",
    "    # go down\n",
    "    # go up\n",
    "    cond = 1\n",
    "    y_old=y0\n",
    "    x_old=x_init\n",
    "    counter = 0\n",
    "    while(cond):\n",
    "        y = y_old - step\n",
    "        if ((y - step/2) < 0):\n",
    "            cond=0\n",
    "        else:\n",
    "            xold_i = int(x_old)\n",
    "            # X = np.arange(xold_i-span,xold_i+span+1)\n",
    "            dat  = np.median(d[int(y-step/2):int(y+step/2+1),\n",
    "                               int(xold_i-span):int(xold_i+span+1)], axis=0)\n",
    "            # x_new = np.sum(dat * X) / np.sum(dat) \n",
    "            x_new = xold_i-span+getCenter(dat,precision = tr_precision)\n",
    "            SpecAboveNoise = TestNoiseThreshold(d, x_new, y, step, span)\n",
    "            if (counter>counter_thres):\n",
    "                cond=0\n",
    "            elif(abs(x_new-x_old)>diff_pix):\n",
    "                counter = counter + 1\n",
    "                y_old = y\n",
    "            elif(not SpecAboveNoise):\n",
    "                counter = counter + 1\n",
    "                y_old = y\n",
    "            else:\n",
    "                x_a = np.append(x_a,x_new)\n",
    "                y_a = np.append(y_a,y)\n",
    "                y_old=y\n",
    "                x_old=x_new\n",
    "                counter = 0\n",
    "    # now we have the arrays with x,y. sort them and fit them with a polynomial\n",
    "    I = np.argsort(y_a)\n",
    "    y_a = y_a[I]\n",
    "    x_a = x_a[I]\n",
    "    coeffs = scipy.polyfit(y_a, x_a, order)\n",
    "    return coeffs, x_a, y_a"
   ]
  },
  {
   "cell_type": "markdown",
   "metadata": {
    "heading_collapsed": true
   },
   "source": [
    "## Get Center"
   ]
  },
  {
   "cell_type": "code",
   "execution_count": 51,
   "metadata": {
    "hidden": true
   },
   "outputs": [],
   "source": [
    "def getCenter(y,precision = 0.1, sigma_temp = np.sqrt(0.5)):\n",
    "    return Order.CCFCenter(y.astype('double'),len(y),precision,sigma_temp)"
   ]
  },
  {
   "cell_type": "markdown",
   "metadata": {},
   "source": [
    "## Fix Bad Pixels"
   ]
  },
  {
   "cell_type": "code",
   "execution_count": 105,
   "metadata": {},
   "outputs": [],
   "source": [
    "def FixBadPixels(d, xbad_pix, ybad_pix, xmin=None, xmax=None):\n",
    "    if xmin is None:\n",
    "        xmin = 0\n",
    "    if xmax is None:\n",
    "        xmax = d.shape[1]-1\n",
    "    y_all = np.arange(d.shape[0])\n",
    "    #counter = 0\n",
    "    for i in range(xmin,xmax+1):\n",
    "        idx_bad = np.where(xbad_pix == i)[0]\n",
    "        if len(idx_bad)>0:\n",
    "            mask = np.ones(len(y_all), dtype=bool)\n",
    "            bad_y = ybad_pix[idx_bad]\n",
    "            mask[bad_y] = False\n",
    "            #counter = counter + 1\n",
    "            # Prepare the values to interpolate by fixing values further away than the edges to \n",
    "            # the median of the ten closest points to them:\n",
    "            xinterp = np.append(y_all[mask],y_all[-1]+1)\n",
    "            yinterp = np.append(d[y_all[mask],i],np.median(d[-10:,i]))\n",
    "            xinterp = np.append(-1,xinterp)\n",
    "            yinterp = np.append(np.median(yinterp[0:10]),yinterp)\n",
    "            spl = interp1d(xinterp,yinterp)\n",
    "            #pyfits.PrimaryHDU(d[:,i]).writeto('before_'+str(counter)+'.fits') \n",
    "            d[bad_y,i] = spl(bad_y)\n",
    "            #pyfits.PrimaryHDU(d[:,i]).writeto('after_'+str(counter)+'.fits')\n",
    "    #sys.exit()\n",
    "    return d"
   ]
  },
  {
   "cell_type": "markdown",
   "metadata": {},
   "source": [
    "## Run"
   ]
  },
  {
   "cell_type": "code",
   "execution_count": 109,
   "metadata": {},
   "outputs": [
    {
     "name": "stdout",
     "output_type": "stream",
     "text": [
      "Trace Inputs: d: [[ 85.2630597    9.96153846  13.55102041 ...   7.76923077   2.25\n",
      "   10.55172414]\n",
      " [ 85.0261194    9.92307692  13.60204082 ...   7.53846154   0.5\n",
      "   10.60344828]\n",
      " [ 84.7891791    9.88461538  13.65306122 ...   7.30769231  -1.25\n",
      "   10.65517241]\n",
      " ...\n",
      " [148.78607524 152.75971731 120.81110475 ...   2.4375      12.\n",
      "    8.        ]\n",
      " [148.85738349 152.83981154 120.87406983 ...   2.125       10.\n",
      "    6.83333333]\n",
      " [148.92869175 152.91990577 120.93703492 ...   1.8125       8.\n",
      "    5.66666667]], x0: 307.68, y0: 871.837097, slitwidth: 55, init_span: 28, tr_fit_order: 2, tr_prec: 0.01\n",
      "x0: 307.68 y0 871.837097 (span:  5 , step: 4 ) | x_init: 315.97\n",
      "...done!\n"
     ]
    }
   ],
   "source": [
    "slitwidth = 55\n",
    "tr_fit_order=2\n",
    "tr_precision=0.01\n",
    "#f = sci[i]\n",
    "#c = O[obj].chip\n",
    "#xbad_pix = xbad_pixels[c]\n",
    "#ybad_pix = ybad_pixels[c]\n",
    "xbad_pix = pyfits.getdata('./test_data/ut150224/x_bad_pixels_c8.fits')                                                         \n",
    "ybad_pix = pyfits.getdata('./test_data/ut150224/y_bad_pixels_c8.fits')\n",
    "fpath = './test_data/ut150224/ift0341c8.fits'\n",
    "d,h = pyfits.getdata(fpath, header=True)\n",
    "d = BiasTrim(d, 'c8', h, 'ift')\n",
    "d = FixBadPixels(d,xbad_pix,ybad_pix)  \n",
    "#ronoise = h['ENOISE']\n",
    "#gain    = h['EGAIN']\n",
    "x0 = 307.68 #O[obj].x0\n",
    "y0 = 871.837097 #O[obj].y0\n",
    "#if(otype == 'ift'):\n",
    "#   d = np.rot90(d,1)\n",
    "#   x0 = O[obj].y0\n",
    "#   y0 = d.shape[0]-O[obj].x0\n",
    "#trimmed_image[obj] = d\n",
    "print 'Trace Inputs: d: {}, x0: {}, y0: {}, slitwidth: {}, init_span: {}, tr_fit_order: {}, tr_prec: {}'.format(                                   d, x0, y0, slitwidth, int((slitwidth/2.)+0.5), tr_fit_order, tr_precision)\n",
    "tc,x_a,y_a = Trace(d,x0,y0,init_span=int((slitwidth/2.)+0.5),\n",
    "                                order=tr_fit_order,verbose=True,\n",
    "                                tr_precision=tr_precision)\n",
    "print '...done!'\n",
    "# Now check for outlier points. They must go out, as they later go to the FullTrace algorithm which does not\n",
    "# detect outliers. First, get the predicted x values and substract with observed:\n",
    "x_predicted = np.polyval(tc,y_a)\n",
    "res = (np.array(x_a)-x_predicted)\n",
    "# Calculate robust sigma:\n",
    "mad = np.median(np.abs(res-np.median(res)))\n",
    "sigma = 1.4826*mad"
   ]
  }
 ],
 "metadata": {
  "kernelspec": {
   "display_name": "Python 2",
   "language": "python",
   "name": "python2"
  },
  "language_info": {
   "codemirror_mode": {
    "name": "ipython",
    "version": 2
   },
   "file_extension": ".py",
   "mimetype": "text/x-python",
   "name": "python",
   "nbconvert_exporter": "python",
   "pygments_lexer": "ipython2",
   "version": "2.7.14"
  },
  "toc": {
   "colors": {
    "hover_highlight": "#DAA520",
    "navigate_num": "#fc151b",
    "navigate_text": "#92a2be",
    "running_highlight": "#FF0000",
    "selected_highlight": "#FFD700",
    "sidebar_border": "#EEEEEE",
    "wrapper_background": "#FFFFFF"
   },
   "moveMenuLeft": true,
   "nav_menu": {
    "height": "128px",
    "width": "250px"
   },
   "navigate_menu": true,
   "number_sections": false,
   "sideBar": true,
   "threshold": 4,
   "toc_cell": false,
   "toc_section_display": "block",
   "toc_window_display": false,
   "widenNotebook": false
  }
 },
 "nbformat": 4,
 "nbformat_minor": 2
}
